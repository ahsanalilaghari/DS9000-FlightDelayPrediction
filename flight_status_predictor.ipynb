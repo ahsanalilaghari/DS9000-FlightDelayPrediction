{
 "cells": [
  {
   "cell_type": "markdown",
   "id": "2472d1134eb55631",
   "metadata": {},
   "source": [
    "# Preliminaries"
   ]
  },
  {
   "cell_type": "markdown",
   "id": "6725baa72c41ba01",
   "metadata": {},
   "source": [
    "## Imports *"
   ]
  },
  {
   "cell_type": "code",
   "execution_count": null,
   "id": "initial_id",
   "metadata": {
    "ExecuteTime": {
     "end_time": "2024-11-27T03:50:08.981463Z",
     "start_time": "2024-11-27T03:50:08.975057Z"
    },
    "collapsed": true
   },
   "outputs": [],
   "source": [
    "import pandas as pd\n",
    "import numpy as np\n",
    "import matplotlib.pyplot as plt\n",
    "import seaborn as sns\n",
    "from patsy.origin import Origin\n",
    "from imblearn.under_sampling import RandomUnderSampler\n",
    "from imblearn.over_sampling import SMOTE\n",
    "from sklearn.svm import SVC\n",
    "from sklearn.base import BaseEstimator, TransformerMixin\n",
    "from sklearn.pipeline import Pipeline\n",
    "from sklearn.compose import ColumnTransformer\n",
    "from sklearn.preprocessing import StandardScaler\n",
    "from sklearn.model_selection import train_test_split\n",
    "from sklearn.linear_model import LogisticRegression\n",
    "from sklearn.model_selection import StratifiedKFold\n",
    "from sklearn.metrics import accuracy_score, classification_report, confusion_matrix\n",
    "from sklearn.metrics import precision_recall_curve, average_precision_score, roc_curve, roc_auc_score, auc\n",
    "from sklearn.ensemble import RandomForestClassifier\n",
    "from catboost import CatBoostClassifier\n",
    "from torch.backends.mkl import verbose\n",
    "from transformers.data.data_collator import tolist\n",
    "\n",
    "pd.set_option('display.max_columns', 100)\n",
    "# pd.set_option('display.max_rows', 50)"
   ]
  },
  {
   "cell_type": "markdown",
   "id": "6abcf7ae8a878bca",
   "metadata": {},
   "source": [
    "## Loading the dataset"
   ]
  },
  {
   "cell_type": "code",
   "execution_count": null,
   "id": "b990eb24bf37af8e",
   "metadata": {
    "ExecuteTime": {
     "end_time": "2024-11-26T08:43:02.242659Z",
     "start_time": "2024-11-26T08:42:28.546833Z"
    }
   },
   "outputs": [
    {
     "data": {
      "text/plain": [
       "['FlightDate',\n",
       " 'Airline',\n",
       " 'Origin',\n",
       " 'Dest',\n",
       " 'Cancelled',\n",
       " 'Diverted',\n",
       " 'CRSDepTime',\n",
       " 'DepTime',\n",
       " 'DepDelayMinutes',\n",
       " 'DepDelay',\n",
       " 'DepDel15',\n",
       " 'ArrTime',\n",
       " 'ArrDelayMinutes',\n",
       " 'ArrDelay',\n",
       " 'ArrDel15',\n",
       " 'AirTime',\n",
       " 'CRSElapsedTime',\n",
       " 'ActualElapsedTime',\n",
       " 'Distance',\n",
       " 'Year',\n",
       " 'Quarter',\n",
       " 'Month',\n",
       " 'DayofMonth',\n",
       " 'DayOfWeek',\n",
       " 'DepTimeBlk',\n",
       " 'ArrTimeBlk',\n",
       " 'TaxiOut',\n",
       " 'TaxiIn',\n",
       " 'DistanceCategory',\n",
       " 'CRSDepTimeMin',\n",
       " 'DepTimeMin',\n",
       " 'DepDelayCalc',\n",
       " 'DepartureDiffCategory']"
      ]
     },
     "execution_count": 2,
     "metadata": {},
     "output_type": "execute_result"
    }
   ],
   "source": [
    "df = pd.read_parquet(\"dataset/cleaned_data_airlines.parquet\")\n",
    "df.columns.tolist()"
   ]
  },
  {
   "cell_type": "markdown",
   "id": "35b02ccc033c8ce7",
   "metadata": {},
   "source": [
    "## Glance at the data"
   ]
  },
  {
   "cell_type": "code",
   "execution_count": 3,
   "id": "b42e3fd093adcb87",
   "metadata": {
    "ExecuteTime": {
     "end_time": "2024-11-26T08:43:02.569265Z",
     "start_time": "2024-11-26T08:43:02.313588Z"
    }
   },
   "outputs": [
    {
     "data": {
      "text/html": [
       "<div>\n",
       "<style scoped>\n",
       "    .dataframe tbody tr th:only-of-type {\n",
       "        vertical-align: middle;\n",
       "    }\n",
       "\n",
       "    .dataframe tbody tr th {\n",
       "        vertical-align: top;\n",
       "    }\n",
       "\n",
       "    .dataframe thead th {\n",
       "        text-align: right;\n",
       "    }\n",
       "</style>\n",
       "<table border=\"1\" class=\"dataframe\">\n",
       "  <thead>\n",
       "    <tr style=\"text-align: right;\">\n",
       "      <th></th>\n",
       "      <th>FlightDate</th>\n",
       "      <th>Airline</th>\n",
       "      <th>Origin</th>\n",
       "      <th>Dest</th>\n",
       "      <th>Cancelled</th>\n",
       "      <th>Diverted</th>\n",
       "      <th>CRSDepTime</th>\n",
       "      <th>DepTime</th>\n",
       "      <th>DepDelayMinutes</th>\n",
       "      <th>DepDelay</th>\n",
       "      <th>DepDel15</th>\n",
       "      <th>ArrTime</th>\n",
       "      <th>ArrDelayMinutes</th>\n",
       "      <th>ArrDelay</th>\n",
       "      <th>ArrDel15</th>\n",
       "      <th>AirTime</th>\n",
       "      <th>CRSElapsedTime</th>\n",
       "      <th>ActualElapsedTime</th>\n",
       "      <th>Distance</th>\n",
       "      <th>Year</th>\n",
       "      <th>Quarter</th>\n",
       "      <th>Month</th>\n",
       "      <th>DayofMonth</th>\n",
       "      <th>DayOfWeek</th>\n",
       "      <th>DepTimeBlk</th>\n",
       "      <th>ArrTimeBlk</th>\n",
       "      <th>TaxiOut</th>\n",
       "      <th>TaxiIn</th>\n",
       "      <th>DistanceCategory</th>\n",
       "      <th>CRSDepTimeMin</th>\n",
       "      <th>DepTimeMin</th>\n",
       "      <th>DepDelayCalc</th>\n",
       "      <th>DepartureDiffCategory</th>\n",
       "    </tr>\n",
       "  </thead>\n",
       "  <tbody>\n",
       "    <tr>\n",
       "      <th>0</th>\n",
       "      <td>2018-01-23</td>\n",
       "      <td>Endeavor Air Inc.</td>\n",
       "      <td>ABY</td>\n",
       "      <td>ATL</td>\n",
       "      <td>False</td>\n",
       "      <td>False</td>\n",
       "      <td>1202</td>\n",
       "      <td>b'\\x85d'</td>\n",
       "      <td>b''</td>\n",
       "      <td>-5.0</td>\n",
       "      <td>False</td>\n",
       "      <td>b'\\xe8d'</td>\n",
       "      <td>b''</td>\n",
       "      <td>b'\\x00\\xc8'</td>\n",
       "      <td>False</td>\n",
       "      <td>b'\\xc0P'</td>\n",
       "      <td>b'\\xc0S'</td>\n",
       "      <td>b'`S'</td>\n",
       "      <td>145.0</td>\n",
       "      <td>2018</td>\n",
       "      <td>1</td>\n",
       "      <td>1</td>\n",
       "      <td>23</td>\n",
       "      <td>2</td>\n",
       "      <td>1200-1259</td>\n",
       "      <td>1300-1359</td>\n",
       "      <td>b'\\x00K'</td>\n",
       "      <td>b'\\x00G'</td>\n",
       "      <td>Short-haul</td>\n",
       "      <td>722</td>\n",
       "      <td>717.0</td>\n",
       "      <td>-5.0</td>\n",
       "      <td>Slightly Early</td>\n",
       "    </tr>\n",
       "    <tr>\n",
       "      <th>1</th>\n",
       "      <td>2018-01-24</td>\n",
       "      <td>Endeavor Air Inc.</td>\n",
       "      <td>ABY</td>\n",
       "      <td>ATL</td>\n",
       "      <td>False</td>\n",
       "      <td>False</td>\n",
       "      <td>1202</td>\n",
       "      <td>b'\\x85d'</td>\n",
       "      <td>b''</td>\n",
       "      <td>-5.0</td>\n",
       "      <td>False</td>\n",
       "      <td>b'\\xead'</td>\n",
       "      <td>b''</td>\n",
       "      <td>b'\\x00\\xc6'</td>\n",
       "      <td>False</td>\n",
       "      <td>b'\\x80P'</td>\n",
       "      <td>b'\\xc0S'</td>\n",
       "      <td>b'\\xa0S'</td>\n",
       "      <td>145.0</td>\n",
       "      <td>2018</td>\n",
       "      <td>1</td>\n",
       "      <td>1</td>\n",
       "      <td>24</td>\n",
       "      <td>3</td>\n",
       "      <td>1200-1259</td>\n",
       "      <td>1300-1359</td>\n",
       "      <td>b'\\x80J'</td>\n",
       "      <td>b'\\x00J'</td>\n",
       "      <td>Short-haul</td>\n",
       "      <td>722</td>\n",
       "      <td>717.0</td>\n",
       "      <td>-5.0</td>\n",
       "      <td>Slightly Early</td>\n",
       "    </tr>\n",
       "    <tr>\n",
       "      <th>2</th>\n",
       "      <td>2018-01-25</td>\n",
       "      <td>Endeavor Air Inc.</td>\n",
       "      <td>ABY</td>\n",
       "      <td>ATL</td>\n",
       "      <td>False</td>\n",
       "      <td>False</td>\n",
       "      <td>1202</td>\n",
       "      <td>b'\\x81d'</td>\n",
       "      <td>b''</td>\n",
       "      <td>-9.0</td>\n",
       "      <td>False</td>\n",
       "      <td>b'\\x16e'</td>\n",
       "      <td>b''</td>\n",
       "      <td>b'\\x00\\xc0'</td>\n",
       "      <td>False</td>\n",
       "      <td>b'\\x00Q'</td>\n",
       "      <td>b'\\xc0S'</td>\n",
       "      <td>b'PT'</td>\n",
       "      <td>145.0</td>\n",
       "      <td>2018</td>\n",
       "      <td>1</td>\n",
       "      <td>1</td>\n",
       "      <td>25</td>\n",
       "      <td>4</td>\n",
       "      <td>1200-1259</td>\n",
       "      <td>1300-1359</td>\n",
       "      <td>b'\\x80L'</td>\n",
       "      <td>b'\\x80I'</td>\n",
       "      <td>Short-haul</td>\n",
       "      <td>722</td>\n",
       "      <td>713.0</td>\n",
       "      <td>-9.0</td>\n",
       "      <td>Slightly Early</td>\n",
       "    </tr>\n",
       "    <tr>\n",
       "      <th>3</th>\n",
       "      <td>2018-01-26</td>\n",
       "      <td>Endeavor Air Inc.</td>\n",
       "      <td>ABY</td>\n",
       "      <td>ATL</td>\n",
       "      <td>False</td>\n",
       "      <td>False</td>\n",
       "      <td>1202</td>\n",
       "      <td>b'~d'</td>\n",
       "      <td>b''</td>\n",
       "      <td>-12.0</td>\n",
       "      <td>False</td>\n",
       "      <td>b'\\xe5d'</td>\n",
       "      <td>b''</td>\n",
       "      <td>b'\\x80\\xc9'</td>\n",
       "      <td>False</td>\n",
       "      <td>b'`P'</td>\n",
       "      <td>b'\\xc0S'</td>\n",
       "      <td>b'\\xe0S'</td>\n",
       "      <td>145.0</td>\n",
       "      <td>2018</td>\n",
       "      <td>1</td>\n",
       "      <td>1</td>\n",
       "      <td>26</td>\n",
       "      <td>5</td>\n",
       "      <td>1200-1259</td>\n",
       "      <td>1300-1359</td>\n",
       "      <td>b'@L'</td>\n",
       "      <td>b'\\x80I'</td>\n",
       "      <td>Short-haul</td>\n",
       "      <td>722</td>\n",
       "      <td>710.0</td>\n",
       "      <td>-12.0</td>\n",
       "      <td>Slightly Early</td>\n",
       "    </tr>\n",
       "    <tr>\n",
       "      <th>4</th>\n",
       "      <td>2018-01-27</td>\n",
       "      <td>Endeavor Air Inc.</td>\n",
       "      <td>ABY</td>\n",
       "      <td>ATL</td>\n",
       "      <td>False</td>\n",
       "      <td>False</td>\n",
       "      <td>1400</td>\n",
       "      <td>b'Ke'</td>\n",
       "      <td>b''</td>\n",
       "      <td>-5.0</td>\n",
       "      <td>False</td>\n",
       "      <td>b'\\xb3e'</td>\n",
       "      <td>b''</td>\n",
       "      <td>b'\\x00\\xbc'</td>\n",
       "      <td>False</td>\n",
       "      <td>b'\\x80P'</td>\n",
       "      <td>b'\\x80S'</td>\n",
       "      <td>b'\\x00T'</td>\n",
       "      <td>145.0</td>\n",
       "      <td>2018</td>\n",
       "      <td>1</td>\n",
       "      <td>1</td>\n",
       "      <td>27</td>\n",
       "      <td>6</td>\n",
       "      <td>1400-1459</td>\n",
       "      <td>1500-1559</td>\n",
       "      <td>b'@L'</td>\n",
       "      <td>b'\\x80I'</td>\n",
       "      <td>Short-haul</td>\n",
       "      <td>840</td>\n",
       "      <td>835.0</td>\n",
       "      <td>-5.0</td>\n",
       "      <td>Slightly Early</td>\n",
       "    </tr>\n",
       "    <tr>\n",
       "      <th>5</th>\n",
       "      <td>2018-01-29</td>\n",
       "      <td>Endeavor Air Inc.</td>\n",
       "      <td>ABY</td>\n",
       "      <td>ATL</td>\n",
       "      <td>False</td>\n",
       "      <td>False</td>\n",
       "      <td>1202</td>\n",
       "      <td>b'\\xb4d'</td>\n",
       "      <td>b'\\x00@'</td>\n",
       "      <td>2.0</td>\n",
       "      <td>False</td>\n",
       "      <td>b'\\x17e'</td>\n",
       "      <td>b''</td>\n",
       "      <td>b'\\x00\\xbc'</td>\n",
       "      <td>False</td>\n",
       "      <td>b'@P'</td>\n",
       "      <td>b'\\xc0S'</td>\n",
       "      <td>b'`S'</td>\n",
       "      <td>145.0</td>\n",
       "      <td>2018</td>\n",
       "      <td>1</td>\n",
       "      <td>1</td>\n",
       "      <td>29</td>\n",
       "      <td>1</td>\n",
       "      <td>1200-1259</td>\n",
       "      <td>1300-1359</td>\n",
       "      <td>b'\\x80K'</td>\n",
       "      <td>b'\\x00I'</td>\n",
       "      <td>Short-haul</td>\n",
       "      <td>722</td>\n",
       "      <td>724.0</td>\n",
       "      <td>2.0</td>\n",
       "      <td>On Time</td>\n",
       "    </tr>\n",
       "    <tr>\n",
       "      <th>6</th>\n",
       "      <td>2018-01-30</td>\n",
       "      <td>Endeavor Air Inc.</td>\n",
       "      <td>ABY</td>\n",
       "      <td>ATL</td>\n",
       "      <td>False</td>\n",
       "      <td>False</td>\n",
       "      <td>1202</td>\n",
       "      <td>b'\\x81d'</td>\n",
       "      <td>b''</td>\n",
       "      <td>-9.0</td>\n",
       "      <td>False</td>\n",
       "      <td>b'\\xe7d'</td>\n",
       "      <td>b''</td>\n",
       "      <td>b'\\x80\\xc8'</td>\n",
       "      <td>False</td>\n",
       "      <td>b'\\x80Q'</td>\n",
       "      <td>b'\\xc0S'</td>\n",
       "      <td>b'\\xc0S'</td>\n",
       "      <td>145.0</td>\n",
       "      <td>2018</td>\n",
       "      <td>1</td>\n",
       "      <td>1</td>\n",
       "      <td>30</td>\n",
       "      <td>2</td>\n",
       "      <td>1200-1259</td>\n",
       "      <td>1300-1359</td>\n",
       "      <td>b'\\x00G'</td>\n",
       "      <td>b'\\x80I'</td>\n",
       "      <td>Short-haul</td>\n",
       "      <td>722</td>\n",
       "      <td>713.0</td>\n",
       "      <td>-9.0</td>\n",
       "      <td>Slightly Early</td>\n",
       "    </tr>\n",
       "  </tbody>\n",
       "</table>\n",
       "</div>"
      ],
      "text/plain": [
       "  FlightDate            Airline Origin Dest  Cancelled  Diverted  CRSDepTime  \\\n",
       "0 2018-01-23  Endeavor Air Inc.    ABY  ATL      False     False        1202   \n",
       "1 2018-01-24  Endeavor Air Inc.    ABY  ATL      False     False        1202   \n",
       "2 2018-01-25  Endeavor Air Inc.    ABY  ATL      False     False        1202   \n",
       "3 2018-01-26  Endeavor Air Inc.    ABY  ATL      False     False        1202   \n",
       "4 2018-01-27  Endeavor Air Inc.    ABY  ATL      False     False        1400   \n",
       "5 2018-01-29  Endeavor Air Inc.    ABY  ATL      False     False        1202   \n",
       "6 2018-01-30  Endeavor Air Inc.    ABY  ATL      False     False        1202   \n",
       "\n",
       "    DepTime DepDelayMinutes  DepDelay  DepDel15   ArrTime ArrDelayMinutes  \\\n",
       "0  b'\\x85d'             b''      -5.0     False  b'\\xe8d'             b''   \n",
       "1  b'\\x85d'             b''      -5.0     False  b'\\xead'             b''   \n",
       "2  b'\\x81d'             b''      -9.0     False  b'\\x16e'             b''   \n",
       "3     b'~d'             b''     -12.0     False  b'\\xe5d'             b''   \n",
       "4     b'Ke'             b''      -5.0     False  b'\\xb3e'             b''   \n",
       "5  b'\\xb4d'        b'\\x00@'       2.0     False  b'\\x17e'             b''   \n",
       "6  b'\\x81d'             b''      -9.0     False  b'\\xe7d'             b''   \n",
       "\n",
       "      ArrDelay  ArrDel15   AirTime CRSElapsedTime ActualElapsedTime  Distance  \\\n",
       "0  b'\\x00\\xc8'     False  b'\\xc0P'       b'\\xc0S'             b'`S'     145.0   \n",
       "1  b'\\x00\\xc6'     False  b'\\x80P'       b'\\xc0S'          b'\\xa0S'     145.0   \n",
       "2  b'\\x00\\xc0'     False  b'\\x00Q'       b'\\xc0S'             b'PT'     145.0   \n",
       "3  b'\\x80\\xc9'     False     b'`P'       b'\\xc0S'          b'\\xe0S'     145.0   \n",
       "4  b'\\x00\\xbc'     False  b'\\x80P'       b'\\x80S'          b'\\x00T'     145.0   \n",
       "5  b'\\x00\\xbc'     False     b'@P'       b'\\xc0S'             b'`S'     145.0   \n",
       "6  b'\\x80\\xc8'     False  b'\\x80Q'       b'\\xc0S'          b'\\xc0S'     145.0   \n",
       "\n",
       "   Year  Quarter  Month  DayofMonth  DayOfWeek DepTimeBlk ArrTimeBlk  \\\n",
       "0  2018        1      1          23          2  1200-1259  1300-1359   \n",
       "1  2018        1      1          24          3  1200-1259  1300-1359   \n",
       "2  2018        1      1          25          4  1200-1259  1300-1359   \n",
       "3  2018        1      1          26          5  1200-1259  1300-1359   \n",
       "4  2018        1      1          27          6  1400-1459  1500-1559   \n",
       "5  2018        1      1          29          1  1200-1259  1300-1359   \n",
       "6  2018        1      1          30          2  1200-1259  1300-1359   \n",
       "\n",
       "    TaxiOut    TaxiIn DistanceCategory  CRSDepTimeMin  DepTimeMin  \\\n",
       "0  b'\\x00K'  b'\\x00G'       Short-haul            722       717.0   \n",
       "1  b'\\x80J'  b'\\x00J'       Short-haul            722       717.0   \n",
       "2  b'\\x80L'  b'\\x80I'       Short-haul            722       713.0   \n",
       "3     b'@L'  b'\\x80I'       Short-haul            722       710.0   \n",
       "4     b'@L'  b'\\x80I'       Short-haul            840       835.0   \n",
       "5  b'\\x80K'  b'\\x00I'       Short-haul            722       724.0   \n",
       "6  b'\\x00G'  b'\\x80I'       Short-haul            722       713.0   \n",
       "\n",
       "   DepDelayCalc DepartureDiffCategory  \n",
       "0          -5.0        Slightly Early  \n",
       "1          -5.0        Slightly Early  \n",
       "2          -9.0        Slightly Early  \n",
       "3         -12.0        Slightly Early  \n",
       "4          -5.0        Slightly Early  \n",
       "5           2.0               On Time  \n",
       "6          -9.0        Slightly Early  "
      ]
     },
     "execution_count": 3,
     "metadata": {},
     "output_type": "execute_result"
    }
   ],
   "source": [
    "df.head(7)"
   ]
  },
  {
   "cell_type": "markdown",
   "id": "52839ff0cc56c344",
   "metadata": {},
   "source": [
    "comment: Some columns have byte string values. Let's investigate that."
   ]
  },
  {
   "cell_type": "markdown",
   "id": "b15123f901e32156",
   "metadata": {},
   "source": [
    "## Investigating the datatypes"
   ]
  },
  {
   "cell_type": "code",
   "execution_count": 4,
   "id": "41afd77b187f6c11",
   "metadata": {
    "ExecuteTime": {
     "end_time": "2024-11-26T08:43:02.696177Z",
     "start_time": "2024-11-26T08:43:02.613628Z"
    }
   },
   "outputs": [
    {
     "name": "stdout",
     "output_type": "stream",
     "text": [
      "<class 'pandas.core.frame.DataFrame'>\n",
      "RangeIndex: 28339596 entries, 0 to 28339595\n",
      "Data columns (total 33 columns):\n",
      " #   Column                 Dtype         \n",
      "---  ------                 -----         \n",
      " 0   FlightDate             datetime64[us]\n",
      " 1   Airline                category      \n",
      " 2   Origin                 category      \n",
      " 3   Dest                   category      \n",
      " 4   Cancelled              bool          \n",
      " 5   Diverted               bool          \n",
      " 6   CRSDepTime             int16         \n",
      " 7   DepTime                object        \n",
      " 8   DepDelayMinutes        object        \n",
      " 9   DepDelay               float32       \n",
      " 10  DepDel15               bool          \n",
      " 11  ArrTime                object        \n",
      " 12  ArrDelayMinutes        object        \n",
      " 13  ArrDelay               object        \n",
      " 14  ArrDel15               bool          \n",
      " 15  AirTime                object        \n",
      " 16  CRSElapsedTime         object        \n",
      " 17  ActualElapsedTime      object        \n",
      " 18  Distance               float32       \n",
      " 19  Year                   int16         \n",
      " 20  Quarter                int16         \n",
      " 21  Month                  int16         \n",
      " 22  DayofMonth             int16         \n",
      " 23  DayOfWeek              int16         \n",
      " 24  DepTimeBlk             category      \n",
      " 25  ArrTimeBlk             category      \n",
      " 26  TaxiOut                object        \n",
      " 27  TaxiIn                 object        \n",
      " 28  DistanceCategory       category      \n",
      " 29  CRSDepTimeMin          int64         \n",
      " 30  DepTimeMin             float64       \n",
      " 31  DepDelayCalc           float64       \n",
      " 32  DepartureDiffCategory  category      \n",
      "dtypes: bool(4), category(7), datetime64[us](1), float32(2), float64(2), int16(6), int64(1), object(10)\n",
      "memory usage: 3.8+ GB\n"
     ]
    }
   ],
   "source": [
    "df.info()"
   ]
  },
  {
   "cell_type": "markdown",
   "id": "a9366c7edd3fae39",
   "metadata": {},
   "source": [
    "comment: It seems like the to_parquet() method of pandas does not support float16 datatype when exporting. That's why our data was converted to byte string and is basically corrupted. To fix that we need to go back to our file, where we conducted EDA and Data cleaning, and convert the columns to supported datatypes."
   ]
  },
  {
   "cell_type": "markdown",
   "id": "aa272231a0d322a2",
   "metadata": {},
   "source": [
    "## Fixed and improved Dataset file\n",
    "Converted the float16 and all other numeric columns to int16 to improved efficiency and space utilization. Since all the float numeric columns have 0 after the decimal point, it is safe to do that. Now the memory consumption is 1.5 Gigs as opposed to 3.8+ GBs."
   ]
  },
  {
   "cell_type": "code",
   "execution_count": 5,
   "id": "92acebcda29f024f",
   "metadata": {
    "ExecuteTime": {
     "end_time": "2024-11-26T08:43:33.020641Z",
     "start_time": "2024-11-26T08:43:28.289730Z"
    }
   },
   "outputs": [],
   "source": [
    "df = pd.read_parquet(\"dataset/fixed_cat_cleaned_data_airlines.parquet\")"
   ]
  },
  {
   "cell_type": "code",
   "execution_count": null,
   "id": "db5b39ef017b4c40",
   "metadata": {
    "ExecuteTime": {
     "end_time": "2024-11-26T08:43:48.212569Z",
     "start_time": "2024-11-26T08:43:48.196614Z"
    }
   },
   "outputs": [
    {
     "name": "stdout",
     "output_type": "stream",
     "text": [
      "<class 'pandas.core.frame.DataFrame'>\n",
      "RangeIndex: 28339596 entries, 0 to 28339595\n",
      "Data columns (total 33 columns):\n",
      " #   Column                 Dtype         \n",
      "---  ------                 -----         \n",
      " 0   FlightDate             datetime64[ns]\n",
      " 1   Airline                category      \n",
      " 2   Origin                 category      \n",
      " 3   Dest                   category      \n",
      " 4   Cancelled              bool          \n",
      " 5   Diverted               bool          \n",
      " 6   CRSDepTime             int16         \n",
      " 7   DepTime                int16         \n",
      " 8   DepDelayMinutes        int16         \n",
      " 9   DepDelay               int16         \n",
      " 10  DepDel15               bool          \n",
      " 11  ArrTime                int16         \n",
      " 12  ArrDelayMinutes        int16         \n",
      " 13  ArrDelay               int16         \n",
      " 14  ArrDel15               bool          \n",
      " 15  AirTime                int16         \n",
      " 16  CRSElapsedTime         int16         \n",
      " 17  ActualElapsedTime      int16         \n",
      " 18  Distance               int16         \n",
      " 19  Year                   category      \n",
      " 20  Quarter                category      \n",
      " 21  Month                  category      \n",
      " 22  DayofMonth             category      \n",
      " 23  DayOfWeek              category      \n",
      " 24  DepTimeBlk             category      \n",
      " 25  ArrTimeBlk             category      \n",
      " 26  TaxiOut                int16         \n",
      " 27  TaxiIn                 int16         \n",
      " 28  DistanceCategory       category      \n",
      " 29  CRSDepTimeMin          int16         \n",
      " 30  DepTimeMin             int16         \n",
      " 31  DepDelayCalc           int16         \n",
      " 32  DepartureDiffCategory  category      \n",
      "dtypes: bool(4), category(12), datetime64[ns](1), int16(16)\n",
      "memory usage: 1.5 GB\n"
     ]
    }
   ],
   "source": [
    "df.info()"
   ]
  },
  {
   "cell_type": "code",
   "execution_count": null,
   "id": "e3ca023e4f495b31",
   "metadata": {
    "ExecuteTime": {
     "end_time": "2024-11-26T08:44:20.664674Z",
     "start_time": "2024-11-26T08:44:20.630489Z"
    }
   },
   "outputs": [
    {
     "data": {
      "text/html": [
       "<div>\n",
       "<style scoped>\n",
       "    .dataframe tbody tr th:only-of-type {\n",
       "        vertical-align: middle;\n",
       "    }\n",
       "\n",
       "    .dataframe tbody tr th {\n",
       "        vertical-align: top;\n",
       "    }\n",
       "\n",
       "    .dataframe thead th {\n",
       "        text-align: right;\n",
       "    }\n",
       "</style>\n",
       "<table border=\"1\" class=\"dataframe\">\n",
       "  <thead>\n",
       "    <tr style=\"text-align: right;\">\n",
       "      <th></th>\n",
       "      <th>FlightDate</th>\n",
       "      <th>Airline</th>\n",
       "      <th>Origin</th>\n",
       "      <th>Dest</th>\n",
       "      <th>Cancelled</th>\n",
       "      <th>Diverted</th>\n",
       "      <th>CRSDepTime</th>\n",
       "      <th>DepTime</th>\n",
       "      <th>DepDelayMinutes</th>\n",
       "      <th>DepDelay</th>\n",
       "      <th>DepDel15</th>\n",
       "      <th>ArrTime</th>\n",
       "      <th>ArrDelayMinutes</th>\n",
       "      <th>ArrDelay</th>\n",
       "      <th>ArrDel15</th>\n",
       "      <th>AirTime</th>\n",
       "      <th>CRSElapsedTime</th>\n",
       "      <th>ActualElapsedTime</th>\n",
       "      <th>Distance</th>\n",
       "      <th>Year</th>\n",
       "      <th>Quarter</th>\n",
       "      <th>Month</th>\n",
       "      <th>DayofMonth</th>\n",
       "      <th>DayOfWeek</th>\n",
       "      <th>DepTimeBlk</th>\n",
       "      <th>ArrTimeBlk</th>\n",
       "      <th>TaxiOut</th>\n",
       "      <th>TaxiIn</th>\n",
       "      <th>DistanceCategory</th>\n",
       "      <th>CRSDepTimeMin</th>\n",
       "      <th>DepTimeMin</th>\n",
       "      <th>DepDelayCalc</th>\n",
       "      <th>DepartureDiffCategory</th>\n",
       "    </tr>\n",
       "  </thead>\n",
       "  <tbody>\n",
       "    <tr>\n",
       "      <th>0</th>\n",
       "      <td>2018-01-23</td>\n",
       "      <td>Endeavor Air Inc.</td>\n",
       "      <td>ABY</td>\n",
       "      <td>ATL</td>\n",
       "      <td>False</td>\n",
       "      <td>False</td>\n",
       "      <td>1202</td>\n",
       "      <td>1157</td>\n",
       "      <td>0</td>\n",
       "      <td>-5</td>\n",
       "      <td>False</td>\n",
       "      <td>1256</td>\n",
       "      <td>0</td>\n",
       "      <td>-8</td>\n",
       "      <td>False</td>\n",
       "      <td>38</td>\n",
       "      <td>62</td>\n",
       "      <td>59</td>\n",
       "      <td>145</td>\n",
       "      <td>2018</td>\n",
       "      <td>1</td>\n",
       "      <td>1</td>\n",
       "      <td>23</td>\n",
       "      <td>2</td>\n",
       "      <td>1200-1259</td>\n",
       "      <td>1300-1359</td>\n",
       "      <td>14</td>\n",
       "      <td>7</td>\n",
       "      <td>Short-haul</td>\n",
       "      <td>722</td>\n",
       "      <td>717</td>\n",
       "      <td>-5</td>\n",
       "      <td>Slightly Early</td>\n",
       "    </tr>\n",
       "    <tr>\n",
       "      <th>1</th>\n",
       "      <td>2018-01-24</td>\n",
       "      <td>Endeavor Air Inc.</td>\n",
       "      <td>ABY</td>\n",
       "      <td>ATL</td>\n",
       "      <td>False</td>\n",
       "      <td>False</td>\n",
       "      <td>1202</td>\n",
       "      <td>1157</td>\n",
       "      <td>0</td>\n",
       "      <td>-5</td>\n",
       "      <td>False</td>\n",
       "      <td>1258</td>\n",
       "      <td>0</td>\n",
       "      <td>-6</td>\n",
       "      <td>False</td>\n",
       "      <td>36</td>\n",
       "      <td>62</td>\n",
       "      <td>61</td>\n",
       "      <td>145</td>\n",
       "      <td>2018</td>\n",
       "      <td>1</td>\n",
       "      <td>1</td>\n",
       "      <td>24</td>\n",
       "      <td>3</td>\n",
       "      <td>1200-1259</td>\n",
       "      <td>1300-1359</td>\n",
       "      <td>13</td>\n",
       "      <td>12</td>\n",
       "      <td>Short-haul</td>\n",
       "      <td>722</td>\n",
       "      <td>717</td>\n",
       "      <td>-5</td>\n",
       "      <td>Slightly Early</td>\n",
       "    </tr>\n",
       "    <tr>\n",
       "      <th>2</th>\n",
       "      <td>2018-01-25</td>\n",
       "      <td>Endeavor Air Inc.</td>\n",
       "      <td>ABY</td>\n",
       "      <td>ATL</td>\n",
       "      <td>False</td>\n",
       "      <td>False</td>\n",
       "      <td>1202</td>\n",
       "      <td>1153</td>\n",
       "      <td>0</td>\n",
       "      <td>-9</td>\n",
       "      <td>False</td>\n",
       "      <td>1302</td>\n",
       "      <td>0</td>\n",
       "      <td>-2</td>\n",
       "      <td>False</td>\n",
       "      <td>40</td>\n",
       "      <td>62</td>\n",
       "      <td>69</td>\n",
       "      <td>145</td>\n",
       "      <td>2018</td>\n",
       "      <td>1</td>\n",
       "      <td>1</td>\n",
       "      <td>25</td>\n",
       "      <td>4</td>\n",
       "      <td>1200-1259</td>\n",
       "      <td>1300-1359</td>\n",
       "      <td>18</td>\n",
       "      <td>11</td>\n",
       "      <td>Short-haul</td>\n",
       "      <td>722</td>\n",
       "      <td>713</td>\n",
       "      <td>-9</td>\n",
       "      <td>Slightly Early</td>\n",
       "    </tr>\n",
       "    <tr>\n",
       "      <th>3</th>\n",
       "      <td>2018-01-26</td>\n",
       "      <td>Endeavor Air Inc.</td>\n",
       "      <td>ABY</td>\n",
       "      <td>ATL</td>\n",
       "      <td>False</td>\n",
       "      <td>False</td>\n",
       "      <td>1202</td>\n",
       "      <td>1150</td>\n",
       "      <td>0</td>\n",
       "      <td>-12</td>\n",
       "      <td>False</td>\n",
       "      <td>1253</td>\n",
       "      <td>0</td>\n",
       "      <td>-11</td>\n",
       "      <td>False</td>\n",
       "      <td>35</td>\n",
       "      <td>62</td>\n",
       "      <td>63</td>\n",
       "      <td>145</td>\n",
       "      <td>2018</td>\n",
       "      <td>1</td>\n",
       "      <td>1</td>\n",
       "      <td>26</td>\n",
       "      <td>5</td>\n",
       "      <td>1200-1259</td>\n",
       "      <td>1300-1359</td>\n",
       "      <td>17</td>\n",
       "      <td>11</td>\n",
       "      <td>Short-haul</td>\n",
       "      <td>722</td>\n",
       "      <td>710</td>\n",
       "      <td>-12</td>\n",
       "      <td>Slightly Early</td>\n",
       "    </tr>\n",
       "    <tr>\n",
       "      <th>4</th>\n",
       "      <td>2018-01-27</td>\n",
       "      <td>Endeavor Air Inc.</td>\n",
       "      <td>ABY</td>\n",
       "      <td>ATL</td>\n",
       "      <td>False</td>\n",
       "      <td>False</td>\n",
       "      <td>1400</td>\n",
       "      <td>1355</td>\n",
       "      <td>0</td>\n",
       "      <td>-5</td>\n",
       "      <td>False</td>\n",
       "      <td>1459</td>\n",
       "      <td>0</td>\n",
       "      <td>-1</td>\n",
       "      <td>False</td>\n",
       "      <td>36</td>\n",
       "      <td>60</td>\n",
       "      <td>64</td>\n",
       "      <td>145</td>\n",
       "      <td>2018</td>\n",
       "      <td>1</td>\n",
       "      <td>1</td>\n",
       "      <td>27</td>\n",
       "      <td>6</td>\n",
       "      <td>1400-1459</td>\n",
       "      <td>1500-1559</td>\n",
       "      <td>17</td>\n",
       "      <td>11</td>\n",
       "      <td>Short-haul</td>\n",
       "      <td>840</td>\n",
       "      <td>835</td>\n",
       "      <td>-5</td>\n",
       "      <td>Slightly Early</td>\n",
       "    </tr>\n",
       "    <tr>\n",
       "      <th>5</th>\n",
       "      <td>2018-01-29</td>\n",
       "      <td>Endeavor Air Inc.</td>\n",
       "      <td>ABY</td>\n",
       "      <td>ATL</td>\n",
       "      <td>False</td>\n",
       "      <td>False</td>\n",
       "      <td>1202</td>\n",
       "      <td>1204</td>\n",
       "      <td>2</td>\n",
       "      <td>2</td>\n",
       "      <td>False</td>\n",
       "      <td>1303</td>\n",
       "      <td>0</td>\n",
       "      <td>-1</td>\n",
       "      <td>False</td>\n",
       "      <td>34</td>\n",
       "      <td>62</td>\n",
       "      <td>59</td>\n",
       "      <td>145</td>\n",
       "      <td>2018</td>\n",
       "      <td>1</td>\n",
       "      <td>1</td>\n",
       "      <td>29</td>\n",
       "      <td>1</td>\n",
       "      <td>1200-1259</td>\n",
       "      <td>1300-1359</td>\n",
       "      <td>15</td>\n",
       "      <td>10</td>\n",
       "      <td>Short-haul</td>\n",
       "      <td>722</td>\n",
       "      <td>724</td>\n",
       "      <td>2</td>\n",
       "      <td>On Time</td>\n",
       "    </tr>\n",
       "    <tr>\n",
       "      <th>6</th>\n",
       "      <td>2018-01-30</td>\n",
       "      <td>Endeavor Air Inc.</td>\n",
       "      <td>ABY</td>\n",
       "      <td>ATL</td>\n",
       "      <td>False</td>\n",
       "      <td>False</td>\n",
       "      <td>1202</td>\n",
       "      <td>1153</td>\n",
       "      <td>0</td>\n",
       "      <td>-9</td>\n",
       "      <td>False</td>\n",
       "      <td>1255</td>\n",
       "      <td>0</td>\n",
       "      <td>-9</td>\n",
       "      <td>False</td>\n",
       "      <td>44</td>\n",
       "      <td>62</td>\n",
       "      <td>62</td>\n",
       "      <td>145</td>\n",
       "      <td>2018</td>\n",
       "      <td>1</td>\n",
       "      <td>1</td>\n",
       "      <td>30</td>\n",
       "      <td>2</td>\n",
       "      <td>1200-1259</td>\n",
       "      <td>1300-1359</td>\n",
       "      <td>7</td>\n",
       "      <td>11</td>\n",
       "      <td>Short-haul</td>\n",
       "      <td>722</td>\n",
       "      <td>713</td>\n",
       "      <td>-9</td>\n",
       "      <td>Slightly Early</td>\n",
       "    </tr>\n",
       "  </tbody>\n",
       "</table>\n",
       "</div>"
      ],
      "text/plain": [
       "  FlightDate            Airline Origin Dest  Cancelled  Diverted  CRSDepTime  \\\n",
       "0 2018-01-23  Endeavor Air Inc.    ABY  ATL      False     False        1202   \n",
       "1 2018-01-24  Endeavor Air Inc.    ABY  ATL      False     False        1202   \n",
       "2 2018-01-25  Endeavor Air Inc.    ABY  ATL      False     False        1202   \n",
       "3 2018-01-26  Endeavor Air Inc.    ABY  ATL      False     False        1202   \n",
       "4 2018-01-27  Endeavor Air Inc.    ABY  ATL      False     False        1400   \n",
       "5 2018-01-29  Endeavor Air Inc.    ABY  ATL      False     False        1202   \n",
       "6 2018-01-30  Endeavor Air Inc.    ABY  ATL      False     False        1202   \n",
       "\n",
       "   DepTime  DepDelayMinutes  DepDelay  DepDel15  ArrTime  ArrDelayMinutes  \\\n",
       "0     1157                0        -5     False     1256                0   \n",
       "1     1157                0        -5     False     1258                0   \n",
       "2     1153                0        -9     False     1302                0   \n",
       "3     1150                0       -12     False     1253                0   \n",
       "4     1355                0        -5     False     1459                0   \n",
       "5     1204                2         2     False     1303                0   \n",
       "6     1153                0        -9     False     1255                0   \n",
       "\n",
       "   ArrDelay  ArrDel15  AirTime  CRSElapsedTime  ActualElapsedTime  Distance  \\\n",
       "0        -8     False       38              62                 59       145   \n",
       "1        -6     False       36              62                 61       145   \n",
       "2        -2     False       40              62                 69       145   \n",
       "3       -11     False       35              62                 63       145   \n",
       "4        -1     False       36              60                 64       145   \n",
       "5        -1     False       34              62                 59       145   \n",
       "6        -9     False       44              62                 62       145   \n",
       "\n",
       "   Year Quarter Month DayofMonth DayOfWeek DepTimeBlk ArrTimeBlk  TaxiOut  \\\n",
       "0  2018       1     1         23         2  1200-1259  1300-1359       14   \n",
       "1  2018       1     1         24         3  1200-1259  1300-1359       13   \n",
       "2  2018       1     1         25         4  1200-1259  1300-1359       18   \n",
       "3  2018       1     1         26         5  1200-1259  1300-1359       17   \n",
       "4  2018       1     1         27         6  1400-1459  1500-1559       17   \n",
       "5  2018       1     1         29         1  1200-1259  1300-1359       15   \n",
       "6  2018       1     1         30         2  1200-1259  1300-1359        7   \n",
       "\n",
       "   TaxiIn DistanceCategory  CRSDepTimeMin  DepTimeMin  DepDelayCalc  \\\n",
       "0       7       Short-haul            722         717            -5   \n",
       "1      12       Short-haul            722         717            -5   \n",
       "2      11       Short-haul            722         713            -9   \n",
       "3      11       Short-haul            722         710           -12   \n",
       "4      11       Short-haul            840         835            -5   \n",
       "5      10       Short-haul            722         724             2   \n",
       "6      11       Short-haul            722         713            -9   \n",
       "\n",
       "  DepartureDiffCategory  \n",
       "0        Slightly Early  \n",
       "1        Slightly Early  \n",
       "2        Slightly Early  \n",
       "3        Slightly Early  \n",
       "4        Slightly Early  \n",
       "5               On Time  \n",
       "6        Slightly Early  "
      ]
     },
     "execution_count": 7,
     "metadata": {},
     "output_type": "execute_result"
    }
   ],
   "source": [
    "df.head(7)"
   ]
  },
  {
   "cell_type": "markdown",
   "id": "76f85b34f5ee4352",
   "metadata": {},
   "source": [
    "# Looking into the dataset"
   ]
  },
  {
   "cell_type": "markdown",
   "id": "d9d2b872042723f",
   "metadata": {},
   "source": [
    "## Data balance/imbalance"
   ]
  },
  {
   "cell_type": "code",
   "execution_count": 8,
   "id": "e8b235f3e4b3ab2e",
   "metadata": {
    "ExecuteTime": {
     "end_time": "2024-11-26T08:47:17.211122Z",
     "start_time": "2024-11-26T08:47:17.024923Z"
    }
   },
   "outputs": [
    {
     "data": {
      "text/plain": [
       "DepDel15\n",
       "False    82.77569\n",
       "True     17.22431\n",
       "Name: count, dtype: float64"
      ]
     },
     "execution_count": 8,
     "metadata": {},
     "output_type": "execute_result"
    }
   ],
   "source": [
    "df.DepDel15.value_counts()/len(df.DepDel15)*100"
   ]
  },
  {
   "cell_type": "markdown",
   "id": "e9ba47f6572e33a4",
   "metadata": {},
   "source": [
    "Comment: Since there is a huge class imbalance, we should cater that in future steps."
   ]
  },
  {
   "cell_type": "markdown",
   "id": "a1ff810b2506265c",
   "metadata": {},
   "source": [
    "## Removing Some Columns\n",
    "Some columns convey the same information in different ways, We can eliminate those using our correlation matrix in the EDA and some common sense. We can also delete columns with no new information."
   ]
  },
  {
   "cell_type": "code",
   "execution_count": null,
   "id": "ccc6226cb792fdc7",
   "metadata": {
    "ExecuteTime": {
     "end_time": "2024-11-26T08:48:02.806235Z",
     "start_time": "2024-11-26T08:47:57.165429Z"
    }
   },
   "outputs": [
    {
     "name": "stdout",
     "output_type": "stream",
     "text": [
      "Cancelled\n",
      "False    28339596\n",
      "Name: count, dtype: int64 Diverted\n",
      "False    28339596\n",
      "Name: count, dtype: int64\n"
     ]
    },
    {
     "data": {
      "text/html": [
       "<div>\n",
       "<style scoped>\n",
       "    .dataframe tbody tr th:only-of-type {\n",
       "        vertical-align: middle;\n",
       "    }\n",
       "\n",
       "    .dataframe tbody tr th {\n",
       "        vertical-align: top;\n",
       "    }\n",
       "\n",
       "    .dataframe thead th {\n",
       "        text-align: right;\n",
       "    }\n",
       "</style>\n",
       "<table border=\"1\" class=\"dataframe\">\n",
       "  <thead>\n",
       "    <tr style=\"text-align: right;\">\n",
       "      <th></th>\n",
       "      <th>Airline</th>\n",
       "      <th>Origin</th>\n",
       "      <th>Dest</th>\n",
       "      <th>CRSDepTime</th>\n",
       "      <th>DepTime</th>\n",
       "      <th>DepDel15</th>\n",
       "      <th>ArrTime</th>\n",
       "      <th>ArrDel15</th>\n",
       "      <th>AirTime</th>\n",
       "      <th>CRSElapsedTime</th>\n",
       "      <th>ActualElapsedTime</th>\n",
       "      <th>Distance</th>\n",
       "      <th>Year</th>\n",
       "      <th>Quarter</th>\n",
       "      <th>Month</th>\n",
       "      <th>DayofMonth</th>\n",
       "      <th>DayOfWeek</th>\n",
       "      <th>DepTimeBlk</th>\n",
       "      <th>ArrTimeBlk</th>\n",
       "      <th>TaxiOut</th>\n",
       "      <th>TaxiIn</th>\n",
       "      <th>CRSDepTimeMin</th>\n",
       "      <th>DepTimeMin</th>\n",
       "    </tr>\n",
       "  </thead>\n",
       "  <tbody>\n",
       "    <tr>\n",
       "      <th>0</th>\n",
       "      <td>Endeavor Air Inc.</td>\n",
       "      <td>ABY</td>\n",
       "      <td>ATL</td>\n",
       "      <td>1202</td>\n",
       "      <td>1157</td>\n",
       "      <td>False</td>\n",
       "      <td>1256</td>\n",
       "      <td>False</td>\n",
       "      <td>38</td>\n",
       "      <td>62</td>\n",
       "      <td>59</td>\n",
       "      <td>145</td>\n",
       "      <td>2018</td>\n",
       "      <td>1</td>\n",
       "      <td>1</td>\n",
       "      <td>23</td>\n",
       "      <td>2</td>\n",
       "      <td>1200-1259</td>\n",
       "      <td>1300-1359</td>\n",
       "      <td>14</td>\n",
       "      <td>7</td>\n",
       "      <td>722</td>\n",
       "      <td>717</td>\n",
       "    </tr>\n",
       "    <tr>\n",
       "      <th>1</th>\n",
       "      <td>Endeavor Air Inc.</td>\n",
       "      <td>ABY</td>\n",
       "      <td>ATL</td>\n",
       "      <td>1202</td>\n",
       "      <td>1157</td>\n",
       "      <td>False</td>\n",
       "      <td>1258</td>\n",
       "      <td>False</td>\n",
       "      <td>36</td>\n",
       "      <td>62</td>\n",
       "      <td>61</td>\n",
       "      <td>145</td>\n",
       "      <td>2018</td>\n",
       "      <td>1</td>\n",
       "      <td>1</td>\n",
       "      <td>24</td>\n",
       "      <td>3</td>\n",
       "      <td>1200-1259</td>\n",
       "      <td>1300-1359</td>\n",
       "      <td>13</td>\n",
       "      <td>12</td>\n",
       "      <td>722</td>\n",
       "      <td>717</td>\n",
       "    </tr>\n",
       "    <tr>\n",
       "      <th>2</th>\n",
       "      <td>Endeavor Air Inc.</td>\n",
       "      <td>ABY</td>\n",
       "      <td>ATL</td>\n",
       "      <td>1202</td>\n",
       "      <td>1153</td>\n",
       "      <td>False</td>\n",
       "      <td>1302</td>\n",
       "      <td>False</td>\n",
       "      <td>40</td>\n",
       "      <td>62</td>\n",
       "      <td>69</td>\n",
       "      <td>145</td>\n",
       "      <td>2018</td>\n",
       "      <td>1</td>\n",
       "      <td>1</td>\n",
       "      <td>25</td>\n",
       "      <td>4</td>\n",
       "      <td>1200-1259</td>\n",
       "      <td>1300-1359</td>\n",
       "      <td>18</td>\n",
       "      <td>11</td>\n",
       "      <td>722</td>\n",
       "      <td>713</td>\n",
       "    </tr>\n",
       "    <tr>\n",
       "      <th>3</th>\n",
       "      <td>Endeavor Air Inc.</td>\n",
       "      <td>ABY</td>\n",
       "      <td>ATL</td>\n",
       "      <td>1202</td>\n",
       "      <td>1150</td>\n",
       "      <td>False</td>\n",
       "      <td>1253</td>\n",
       "      <td>False</td>\n",
       "      <td>35</td>\n",
       "      <td>62</td>\n",
       "      <td>63</td>\n",
       "      <td>145</td>\n",
       "      <td>2018</td>\n",
       "      <td>1</td>\n",
       "      <td>1</td>\n",
       "      <td>26</td>\n",
       "      <td>5</td>\n",
       "      <td>1200-1259</td>\n",
       "      <td>1300-1359</td>\n",
       "      <td>17</td>\n",
       "      <td>11</td>\n",
       "      <td>722</td>\n",
       "      <td>710</td>\n",
       "    </tr>\n",
       "    <tr>\n",
       "      <th>4</th>\n",
       "      <td>Endeavor Air Inc.</td>\n",
       "      <td>ABY</td>\n",
       "      <td>ATL</td>\n",
       "      <td>1400</td>\n",
       "      <td>1355</td>\n",
       "      <td>False</td>\n",
       "      <td>1459</td>\n",
       "      <td>False</td>\n",
       "      <td>36</td>\n",
       "      <td>60</td>\n",
       "      <td>64</td>\n",
       "      <td>145</td>\n",
       "      <td>2018</td>\n",
       "      <td>1</td>\n",
       "      <td>1</td>\n",
       "      <td>27</td>\n",
       "      <td>6</td>\n",
       "      <td>1400-1459</td>\n",
       "      <td>1500-1559</td>\n",
       "      <td>17</td>\n",
       "      <td>11</td>\n",
       "      <td>840</td>\n",
       "      <td>835</td>\n",
       "    </tr>\n",
       "  </tbody>\n",
       "</table>\n",
       "</div>"
      ],
      "text/plain": [
       "             Airline Origin Dest  CRSDepTime  DepTime  DepDel15  ArrTime  \\\n",
       "0  Endeavor Air Inc.    ABY  ATL        1202     1157     False     1256   \n",
       "1  Endeavor Air Inc.    ABY  ATL        1202     1157     False     1258   \n",
       "2  Endeavor Air Inc.    ABY  ATL        1202     1153     False     1302   \n",
       "3  Endeavor Air Inc.    ABY  ATL        1202     1150     False     1253   \n",
       "4  Endeavor Air Inc.    ABY  ATL        1400     1355     False     1459   \n",
       "\n",
       "   ArrDel15  AirTime  CRSElapsedTime  ActualElapsedTime  Distance  Year  \\\n",
       "0     False       38              62                 59       145  2018   \n",
       "1     False       36              62                 61       145  2018   \n",
       "2     False       40              62                 69       145  2018   \n",
       "3     False       35              62                 63       145  2018   \n",
       "4     False       36              60                 64       145  2018   \n",
       "\n",
       "  Quarter Month DayofMonth DayOfWeek DepTimeBlk ArrTimeBlk  TaxiOut  TaxiIn  \\\n",
       "0       1     1         23         2  1200-1259  1300-1359       14       7   \n",
       "1       1     1         24         3  1200-1259  1300-1359       13      12   \n",
       "2       1     1         25         4  1200-1259  1300-1359       18      11   \n",
       "3       1     1         26         5  1200-1259  1300-1359       17      11   \n",
       "4       1     1         27         6  1400-1459  1500-1559       17      11   \n",
       "\n",
       "   CRSDepTimeMin  DepTimeMin  \n",
       "0            722         717  \n",
       "1            722         717  \n",
       "2            722         713  \n",
       "3            722         710  \n",
       "4            840         835  "
      ]
     },
     "execution_count": 9,
     "metadata": {},
     "output_type": "execute_result"
    }
   ],
   "source": [
    "print(df.Cancelled.value_counts(), df.Diverted.value_counts())\n",
    "\n",
    "# Since Cancelled and Diverted are all false, We can drop the columns\n",
    "df.drop([\"Cancelled\", \"Diverted\"], axis=1, inplace=True)\n",
    "df.drop([\"DepartureDiffCategory\", \"DistanceCategory\"], axis=1, inplace=True)\n",
    "df.drop([\"FlightDate\", 'DepDelayCalc', 'ArrDelayMinutes', 'DepDelayMinutes', 'DepDelay', 'ArrDelay',], axis=1, inplace=True)\n",
    "df.head()"
   ]
  },
  {
   "cell_type": "markdown",
   "id": "3fd125c1b17e125d",
   "metadata": {},
   "source": [
    "## Saving the Modified Dataset"
   ]
  },
  {
   "cell_type": "code",
   "execution_count": 12,
   "id": "b69e24b79741ef1e",
   "metadata": {
    "ExecuteTime": {
     "end_time": "2024-11-26T09:00:34.824327Z",
     "start_time": "2024-11-26T09:00:27.450936Z"
    }
   },
   "outputs": [],
   "source": [
    "df.to_parquet('dataset/model_ready_data_airlines.parquet', index=False)"
   ]
  },
  {
   "cell_type": "markdown",
   "id": "2adb1329a83f80ed",
   "metadata": {},
   "source": [
    "## Looking at the uniqueness of categorical values"
   ]
  },
  {
   "cell_type": "code",
   "execution_count": null,
   "id": "93a0fc224bc0647",
   "metadata": {
    "ExecuteTime": {
     "end_time": "2024-11-26T08:48:16.191002Z",
     "start_time": "2024-11-26T08:48:14.294637Z"
    }
   },
   "outputs": [
    {
     "data": {
      "text/plain": [
       "Airline        28\n",
       "Origin        388\n",
       "Dest          388\n",
       "Year            5\n",
       "Quarter         4\n",
       "Month          12\n",
       "DayofMonth     31\n",
       "DayOfWeek       7\n",
       "DepTimeBlk     19\n",
       "ArrTimeBlk     19\n",
       "dtype: int64"
      ]
     },
     "execution_count": 10,
     "metadata": {},
     "output_type": "execute_result"
    }
   ],
   "source": [
    "categorical_columns = df.select_dtypes('category').nunique()\n",
    "categorical_columns"
   ]
  },
  {
   "cell_type": "markdown",
   "id": "a480a7f0938db7",
   "metadata": {},
   "source": [
    "comment: Since the number of unique values are too many, using one hot encoding or dummy variables will be costly on the model. Considering we also have so many rows (~28m) in the dataset as well. Let's consider other techniques for data encoding."
   ]
  },
  {
   "cell_type": "markdown",
   "id": "4ad365b058ed63b4",
   "metadata": {},
   "source": [
    "# Logistic Regression"
   ]
  },
  {
   "cell_type": "markdown",
   "id": "2161f1e32d49f9c4",
   "metadata": {},
   "source": [
    "## Preliminaries"
   ]
  },
  {
   "cell_type": "markdown",
   "id": "e0865c30fc49ad2e",
   "metadata": {},
   "source": [
    "### Loading in The Dataset"
   ]
  },
  {
   "cell_type": "code",
   "execution_count": 28,
   "id": "81bffe8cfd2f7b50",
   "metadata": {
    "ExecuteTime": {
     "end_time": "2024-11-27T03:55:51.219905Z",
     "start_time": "2024-11-27T03:55:48.431620Z"
    }
   },
   "outputs": [
    {
     "name": "stdout",
     "output_type": "stream",
     "text": [
      "<class 'pandas.core.frame.DataFrame'>\n",
      "RangeIndex: 28339596 entries, 0 to 28339595\n",
      "Data columns (total 23 columns):\n",
      " #   Column             Dtype   \n",
      "---  ------             -----   \n",
      " 0   Airline            category\n",
      " 1   Origin             category\n",
      " 2   Dest               category\n",
      " 3   CRSDepTime         int16   \n",
      " 4   DepTime            int16   \n",
      " 5   DepDel15           bool    \n",
      " 6   ArrTime            int16   \n",
      " 7   ArrDel15           bool    \n",
      " 8   AirTime            int16   \n",
      " 9   CRSElapsedTime     int16   \n",
      " 10  ActualElapsedTime  int16   \n",
      " 11  Distance           int16   \n",
      " 12  Year               category\n",
      " 13  Quarter            category\n",
      " 14  Month              category\n",
      " 15  DayofMonth         category\n",
      " 16  DayOfWeek          category\n",
      " 17  DepTimeBlk         category\n",
      " 18  ArrTimeBlk         category\n",
      " 19  TaxiOut            int16   \n",
      " 20  TaxiIn             int16   \n",
      " 21  CRSDepTimeMin      int16   \n",
      " 22  DepTimeMin         int16   \n",
      "dtypes: bool(2), category(10), int16(11)\n",
      "memory usage: 973.0 MB\n"
     ]
    }
   ],
   "source": [
    "df = pd.read_parquet('dataset/model_ready_data_airlines.parquet')\n",
    "# df.columns.tolist()\n",
    "df.info()"
   ]
  },
  {
   "cell_type": "markdown",
   "id": "67a5d98fee0108e4",
   "metadata": {},
   "source": [
    "## Data Preprocessing"
   ]
  },
  {
   "cell_type": "markdown",
   "id": "5f789806ee640b7c",
   "metadata": {},
   "source": [
    "### Handling Categoricals\n",
    "We will use **Frequency Encoding** which maps the values based on their occurences. Using something like label encoding won't be feasible for us as our categorical data is nominal."
   ]
  },
  {
   "cell_type": "code",
   "execution_count": 29,
   "id": "a6180507233c46a2",
   "metadata": {
    "ExecuteTime": {
     "end_time": "2024-11-27T03:55:53.640661Z",
     "start_time": "2024-11-27T03:55:51.415253Z"
    }
   },
   "outputs": [
    {
     "data": {
      "text/html": [
       "<div>\n",
       "<style scoped>\n",
       "    .dataframe tbody tr th:only-of-type {\n",
       "        vertical-align: middle;\n",
       "    }\n",
       "\n",
       "    .dataframe tbody tr th {\n",
       "        vertical-align: top;\n",
       "    }\n",
       "\n",
       "    .dataframe thead th {\n",
       "        text-align: right;\n",
       "    }\n",
       "</style>\n",
       "<table border=\"1\" class=\"dataframe\">\n",
       "  <thead>\n",
       "    <tr style=\"text-align: right;\">\n",
       "      <th></th>\n",
       "      <th>Airline</th>\n",
       "      <th>Origin</th>\n",
       "      <th>Dest</th>\n",
       "      <th>CRSDepTime</th>\n",
       "      <th>DepTime</th>\n",
       "      <th>DepDel15</th>\n",
       "      <th>ArrTime</th>\n",
       "      <th>ArrDel15</th>\n",
       "      <th>AirTime</th>\n",
       "      <th>CRSElapsedTime</th>\n",
       "      <th>ActualElapsedTime</th>\n",
       "      <th>Distance</th>\n",
       "      <th>Year</th>\n",
       "      <th>Quarter</th>\n",
       "      <th>Month</th>\n",
       "      <th>DayofMonth</th>\n",
       "      <th>DayOfWeek</th>\n",
       "      <th>DepTimeBlk</th>\n",
       "      <th>ArrTimeBlk</th>\n",
       "      <th>TaxiOut</th>\n",
       "      <th>TaxiIn</th>\n",
       "      <th>CRSDepTimeMin</th>\n",
       "      <th>DepTimeMin</th>\n",
       "    </tr>\n",
       "  </thead>\n",
       "  <tbody>\n",
       "    <tr>\n",
       "      <th>0</th>\n",
       "      <td>974640</td>\n",
       "      <td>3832</td>\n",
       "      <td>1347297</td>\n",
       "      <td>1202</td>\n",
       "      <td>1157</td>\n",
       "      <td>False</td>\n",
       "      <td>1256</td>\n",
       "      <td>False</td>\n",
       "      <td>38</td>\n",
       "      <td>62</td>\n",
       "      <td>59</td>\n",
       "      <td>145</td>\n",
       "      <td>5578617</td>\n",
       "      <td>7510343</td>\n",
       "      <td>2612385</td>\n",
       "      <td>935588</td>\n",
       "      <td>3938876</td>\n",
       "      <td>1762065</td>\n",
       "      <td>1731082</td>\n",
       "      <td>14</td>\n",
       "      <td>7</td>\n",
       "      <td>722</td>\n",
       "      <td>717</td>\n",
       "    </tr>\n",
       "    <tr>\n",
       "      <th>1</th>\n",
       "      <td>974640</td>\n",
       "      <td>3832</td>\n",
       "      <td>1347297</td>\n",
       "      <td>1202</td>\n",
       "      <td>1157</td>\n",
       "      <td>False</td>\n",
       "      <td>1258</td>\n",
       "      <td>False</td>\n",
       "      <td>36</td>\n",
       "      <td>62</td>\n",
       "      <td>61</td>\n",
       "      <td>145</td>\n",
       "      <td>5578617</td>\n",
       "      <td>7510343</td>\n",
       "      <td>2612385</td>\n",
       "      <td>936001</td>\n",
       "      <td>4004742</td>\n",
       "      <td>1762065</td>\n",
       "      <td>1731082</td>\n",
       "      <td>13</td>\n",
       "      <td>12</td>\n",
       "      <td>722</td>\n",
       "      <td>717</td>\n",
       "    </tr>\n",
       "    <tr>\n",
       "      <th>2</th>\n",
       "      <td>974640</td>\n",
       "      <td>3832</td>\n",
       "      <td>1347297</td>\n",
       "      <td>1202</td>\n",
       "      <td>1153</td>\n",
       "      <td>False</td>\n",
       "      <td>1302</td>\n",
       "      <td>False</td>\n",
       "      <td>40</td>\n",
       "      <td>62</td>\n",
       "      <td>69</td>\n",
       "      <td>145</td>\n",
       "      <td>5578617</td>\n",
       "      <td>7510343</td>\n",
       "      <td>2612385</td>\n",
       "      <td>919963</td>\n",
       "      <td>4196961</td>\n",
       "      <td>1762065</td>\n",
       "      <td>1731082</td>\n",
       "      <td>18</td>\n",
       "      <td>11</td>\n",
       "      <td>722</td>\n",
       "      <td>713</td>\n",
       "    </tr>\n",
       "    <tr>\n",
       "      <th>3</th>\n",
       "      <td>974640</td>\n",
       "      <td>3832</td>\n",
       "      <td>1347297</td>\n",
       "      <td>1202</td>\n",
       "      <td>1150</td>\n",
       "      <td>False</td>\n",
       "      <td>1253</td>\n",
       "      <td>False</td>\n",
       "      <td>35</td>\n",
       "      <td>62</td>\n",
       "      <td>63</td>\n",
       "      <td>145</td>\n",
       "      <td>5578617</td>\n",
       "      <td>7510343</td>\n",
       "      <td>2612385</td>\n",
       "      <td>926470</td>\n",
       "      <td>4228403</td>\n",
       "      <td>1762065</td>\n",
       "      <td>1731082</td>\n",
       "      <td>17</td>\n",
       "      <td>11</td>\n",
       "      <td>722</td>\n",
       "      <td>710</td>\n",
       "    </tr>\n",
       "    <tr>\n",
       "      <th>4</th>\n",
       "      <td>974640</td>\n",
       "      <td>3832</td>\n",
       "      <td>1347297</td>\n",
       "      <td>1400</td>\n",
       "      <td>1355</td>\n",
       "      <td>False</td>\n",
       "      <td>1459</td>\n",
       "      <td>False</td>\n",
       "      <td>36</td>\n",
       "      <td>60</td>\n",
       "      <td>64</td>\n",
       "      <td>145</td>\n",
       "      <td>5578617</td>\n",
       "      <td>7510343</td>\n",
       "      <td>2612385</td>\n",
       "      <td>932286</td>\n",
       "      <td>3618711</td>\n",
       "      <td>1731826</td>\n",
       "      <td>1662965</td>\n",
       "      <td>17</td>\n",
       "      <td>11</td>\n",
       "      <td>840</td>\n",
       "      <td>835</td>\n",
       "    </tr>\n",
       "  </tbody>\n",
       "</table>\n",
       "</div>"
      ],
      "text/plain": [
       "  Airline  Origin     Dest  CRSDepTime  DepTime  DepDel15  ArrTime  ArrDel15  \\\n",
       "0  974640    3832  1347297        1202     1157     False     1256     False   \n",
       "1  974640    3832  1347297        1202     1157     False     1258     False   \n",
       "2  974640    3832  1347297        1202     1153     False     1302     False   \n",
       "3  974640    3832  1347297        1202     1150     False     1253     False   \n",
       "4  974640    3832  1347297        1400     1355     False     1459     False   \n",
       "\n",
       "   AirTime  CRSElapsedTime  ActualElapsedTime  Distance     Year  Quarter  \\\n",
       "0       38              62                 59       145  5578617  7510343   \n",
       "1       36              62                 61       145  5578617  7510343   \n",
       "2       40              62                 69       145  5578617  7510343   \n",
       "3       35              62                 63       145  5578617  7510343   \n",
       "4       36              60                 64       145  5578617  7510343   \n",
       "\n",
       "     Month DayofMonth DayOfWeek DepTimeBlk ArrTimeBlk  TaxiOut  TaxiIn  \\\n",
       "0  2612385     935588   3938876    1762065    1731082       14       7   \n",
       "1  2612385     936001   4004742    1762065    1731082       13      12   \n",
       "2  2612385     919963   4196961    1762065    1731082       18      11   \n",
       "3  2612385     926470   4228403    1762065    1731082       17      11   \n",
       "4  2612385     932286   3618711    1731826    1662965       17      11   \n",
       "\n",
       "   CRSDepTimeMin  DepTimeMin  \n",
       "0            722         717  \n",
       "1            722         717  \n",
       "2            722         713  \n",
       "3            722         710  \n",
       "4            840         835  "
      ]
     },
     "execution_count": 29,
     "metadata": {},
     "output_type": "execute_result"
    }
   ],
   "source": [
    "categorical_columns = df.select_dtypes('category').columns.tolist()\n",
    "# df = pd.get_dummies(df, columns=categorical_columns)\n",
    "\n",
    "for col in categorical_columns:\n",
    "    df[col] = df[col].map(df[col].value_counts())\n",
    "\n",
    "df.head()"
   ]
  },
  {
   "cell_type": "markdown",
   "id": "ce54f4deb576e6a0",
   "metadata": {},
   "source": [
    "### Training Test Split\n",
    "Since, we have a lot of data (~28M rows), We will split Training and Testing into 80|20 and then split Training into 80|20 for validation."
   ]
  },
  {
   "cell_type": "code",
   "execution_count": null,
   "id": "918d720696e48a65",
   "metadata": {
    "ExecuteTime": {
     "end_time": "2024-11-27T03:56:24.201331Z",
     "start_time": "2024-11-27T03:55:56.617108Z"
    }
   },
   "outputs": [
    {
     "name": "stdout",
     "output_type": "stream",
     "text": [
      "Training/Test split  (22671676, 22) (22671676,) (5667920, 22) (5667920,)\n",
      "Training/Validation split  (18137340, 22) (18137340,) (4534336, 22) (4534336,)\n"
     ]
    }
   ],
   "source": [
    "X = df.drop('DepDel15', axis=1)\n",
    "y = df['DepDel15']\n",
    "\n",
    "# We will stratify y to cater the imbalance\n",
    "# Training/Test split\n",
    "X_train, X_test, y_train, y_test = train_test_split(X, y, test_size=0.2, random_state=42, stratify=y)\n",
    "print(\"Training/Test split \", X_train.shape, y_train.shape, X_test.shape, y_test.shape)\n",
    "\n",
    "# Training/Validation split\n",
    "X_train, X_val, y_train, y_val = train_test_split(X_train, y_train, test_size=0.2, random_state=42, stratify=y_train)\n",
    "print(\"Training/Validation split \", X_train.shape, y_train.shape, X_val.shape, y_val.shape)"
   ]
  },
  {
   "cell_type": "code",
   "execution_count": 6,
   "id": "9440475c18d15628",
   "metadata": {
    "ExecuteTime": {
     "end_time": "2024-11-27T03:45:00.639429Z",
     "start_time": "2024-11-27T03:45:00.631234Z"
    }
   },
   "outputs": [],
   "source": [
    "# Applying RandomUnderSampler to Balance Training Data\n",
    "# rus = RandomUnderSampler(random_state=42)\n",
    "# X_train_balanced, y_train_balanced = rus.fit_resample(X_train, y_train)\n",
    "# print(X_train_balanced.shape, y_train_balanced.shape)\n",
    "\n",
    "# Didn't change anything significantly"
   ]
  },
  {
   "cell_type": "markdown",
   "id": "f3d40ce4ab4ccf85",
   "metadata": {},
   "source": [
    "## Modeling"
   ]
  },
  {
   "cell_type": "markdown",
   "id": "32436d34d06533d4",
   "metadata": {},
   "source": [
    "### Model Pipeline"
   ]
  },
  {
   "cell_type": "code",
   "execution_count": 31,
   "id": "9178b88090e079ac",
   "metadata": {
    "ExecuteTime": {
     "end_time": "2024-11-27T03:56:24.217001Z",
     "start_time": "2024-11-27T03:56:24.203334Z"
    }
   },
   "outputs": [],
   "source": [
    "lr_pipeline = Pipeline([\n",
    "    ('scaler', StandardScaler()),\n",
    "    ('classifier', LogisticRegression(max_iter=200, random_state=42))\n",
    "])"
   ]
  },
  {
   "cell_type": "markdown",
   "id": "6425b92f91f89d32",
   "metadata": {},
   "source": [
    "### Model Fitting"
   ]
  },
  {
   "cell_type": "code",
   "execution_count": 32,
   "id": "f7aebda5ada5ae48",
   "metadata": {
    "ExecuteTime": {
     "end_time": "2024-11-27T03:57:23.855415Z",
     "start_time": "2024-11-27T03:56:24.258665Z"
    }
   },
   "outputs": [
    {
     "data": {
      "text/html": [
       "<style>#sk-container-id-2 {\n",
       "  /* Definition of color scheme common for light and dark mode */\n",
       "  --sklearn-color-text: black;\n",
       "  --sklearn-color-line: gray;\n",
       "  /* Definition of color scheme for unfitted estimators */\n",
       "  --sklearn-color-unfitted-level-0: #fff5e6;\n",
       "  --sklearn-color-unfitted-level-1: #f6e4d2;\n",
       "  --sklearn-color-unfitted-level-2: #ffe0b3;\n",
       "  --sklearn-color-unfitted-level-3: chocolate;\n",
       "  /* Definition of color scheme for fitted estimators */\n",
       "  --sklearn-color-fitted-level-0: #f0f8ff;\n",
       "  --sklearn-color-fitted-level-1: #d4ebff;\n",
       "  --sklearn-color-fitted-level-2: #b3dbfd;\n",
       "  --sklearn-color-fitted-level-3: cornflowerblue;\n",
       "\n",
       "  /* Specific color for light theme */\n",
       "  --sklearn-color-text-on-default-background: var(--sg-text-color, var(--theme-code-foreground, var(--jp-content-font-color1, black)));\n",
       "  --sklearn-color-background: var(--sg-background-color, var(--theme-background, var(--jp-layout-color0, white)));\n",
       "  --sklearn-color-border-box: var(--sg-text-color, var(--theme-code-foreground, var(--jp-content-font-color1, black)));\n",
       "  --sklearn-color-icon: #696969;\n",
       "\n",
       "  @media (prefers-color-scheme: dark) {\n",
       "    /* Redefinition of color scheme for dark theme */\n",
       "    --sklearn-color-text-on-default-background: var(--sg-text-color, var(--theme-code-foreground, var(--jp-content-font-color1, white)));\n",
       "    --sklearn-color-background: var(--sg-background-color, var(--theme-background, var(--jp-layout-color0, #111)));\n",
       "    --sklearn-color-border-box: var(--sg-text-color, var(--theme-code-foreground, var(--jp-content-font-color1, white)));\n",
       "    --sklearn-color-icon: #878787;\n",
       "  }\n",
       "}\n",
       "\n",
       "#sk-container-id-2 {\n",
       "  color: var(--sklearn-color-text);\n",
       "}\n",
       "\n",
       "#sk-container-id-2 pre {\n",
       "  padding: 0;\n",
       "}\n",
       "\n",
       "#sk-container-id-2 input.sk-hidden--visually {\n",
       "  border: 0;\n",
       "  clip: rect(1px 1px 1px 1px);\n",
       "  clip: rect(1px, 1px, 1px, 1px);\n",
       "  height: 1px;\n",
       "  margin: -1px;\n",
       "  overflow: hidden;\n",
       "  padding: 0;\n",
       "  position: absolute;\n",
       "  width: 1px;\n",
       "}\n",
       "\n",
       "#sk-container-id-2 div.sk-dashed-wrapped {\n",
       "  border: 1px dashed var(--sklearn-color-line);\n",
       "  margin: 0 0.4em 0.5em 0.4em;\n",
       "  box-sizing: border-box;\n",
       "  padding-bottom: 0.4em;\n",
       "  background-color: var(--sklearn-color-background);\n",
       "}\n",
       "\n",
       "#sk-container-id-2 div.sk-container {\n",
       "  /* jupyter's `normalize.less` sets `[hidden] { display: none; }`\n",
       "     but bootstrap.min.css set `[hidden] { display: none !important; }`\n",
       "     so we also need the `!important` here to be able to override the\n",
       "     default hidden behavior on the sphinx rendered scikit-learn.org.\n",
       "     See: https://github.com/scikit-learn/scikit-learn/issues/21755 */\n",
       "  display: inline-block !important;\n",
       "  position: relative;\n",
       "}\n",
       "\n",
       "#sk-container-id-2 div.sk-text-repr-fallback {\n",
       "  display: none;\n",
       "}\n",
       "\n",
       "div.sk-parallel-item,\n",
       "div.sk-serial,\n",
       "div.sk-item {\n",
       "  /* draw centered vertical line to link estimators */\n",
       "  background-image: linear-gradient(var(--sklearn-color-text-on-default-background), var(--sklearn-color-text-on-default-background));\n",
       "  background-size: 2px 100%;\n",
       "  background-repeat: no-repeat;\n",
       "  background-position: center center;\n",
       "}\n",
       "\n",
       "/* Parallel-specific style estimator block */\n",
       "\n",
       "#sk-container-id-2 div.sk-parallel-item::after {\n",
       "  content: \"\";\n",
       "  width: 100%;\n",
       "  border-bottom: 2px solid var(--sklearn-color-text-on-default-background);\n",
       "  flex-grow: 1;\n",
       "}\n",
       "\n",
       "#sk-container-id-2 div.sk-parallel {\n",
       "  display: flex;\n",
       "  align-items: stretch;\n",
       "  justify-content: center;\n",
       "  background-color: var(--sklearn-color-background);\n",
       "  position: relative;\n",
       "}\n",
       "\n",
       "#sk-container-id-2 div.sk-parallel-item {\n",
       "  display: flex;\n",
       "  flex-direction: column;\n",
       "}\n",
       "\n",
       "#sk-container-id-2 div.sk-parallel-item:first-child::after {\n",
       "  align-self: flex-end;\n",
       "  width: 50%;\n",
       "}\n",
       "\n",
       "#sk-container-id-2 div.sk-parallel-item:last-child::after {\n",
       "  align-self: flex-start;\n",
       "  width: 50%;\n",
       "}\n",
       "\n",
       "#sk-container-id-2 div.sk-parallel-item:only-child::after {\n",
       "  width: 0;\n",
       "}\n",
       "\n",
       "/* Serial-specific style estimator block */\n",
       "\n",
       "#sk-container-id-2 div.sk-serial {\n",
       "  display: flex;\n",
       "  flex-direction: column;\n",
       "  align-items: center;\n",
       "  background-color: var(--sklearn-color-background);\n",
       "  padding-right: 1em;\n",
       "  padding-left: 1em;\n",
       "}\n",
       "\n",
       "\n",
       "/* Toggleable style: style used for estimator/Pipeline/ColumnTransformer box that is\n",
       "clickable and can be expanded/collapsed.\n",
       "- Pipeline and ColumnTransformer use this feature and define the default style\n",
       "- Estimators will overwrite some part of the style using the `sk-estimator` class\n",
       "*/\n",
       "\n",
       "/* Pipeline and ColumnTransformer style (default) */\n",
       "\n",
       "#sk-container-id-2 div.sk-toggleable {\n",
       "  /* Default theme specific background. It is overwritten whether we have a\n",
       "  specific estimator or a Pipeline/ColumnTransformer */\n",
       "  background-color: var(--sklearn-color-background);\n",
       "}\n",
       "\n",
       "/* Toggleable label */\n",
       "#sk-container-id-2 label.sk-toggleable__label {\n",
       "  cursor: pointer;\n",
       "  display: block;\n",
       "  width: 100%;\n",
       "  margin-bottom: 0;\n",
       "  padding: 0.5em;\n",
       "  box-sizing: border-box;\n",
       "  text-align: center;\n",
       "}\n",
       "\n",
       "#sk-container-id-2 label.sk-toggleable__label-arrow:before {\n",
       "  /* Arrow on the left of the label */\n",
       "  content: \"▸\";\n",
       "  float: left;\n",
       "  margin-right: 0.25em;\n",
       "  color: var(--sklearn-color-icon);\n",
       "}\n",
       "\n",
       "#sk-container-id-2 label.sk-toggleable__label-arrow:hover:before {\n",
       "  color: var(--sklearn-color-text);\n",
       "}\n",
       "\n",
       "/* Toggleable content - dropdown */\n",
       "\n",
       "#sk-container-id-2 div.sk-toggleable__content {\n",
       "  max-height: 0;\n",
       "  max-width: 0;\n",
       "  overflow: hidden;\n",
       "  text-align: left;\n",
       "  /* unfitted */\n",
       "  background-color: var(--sklearn-color-unfitted-level-0);\n",
       "}\n",
       "\n",
       "#sk-container-id-2 div.sk-toggleable__content.fitted {\n",
       "  /* fitted */\n",
       "  background-color: var(--sklearn-color-fitted-level-0);\n",
       "}\n",
       "\n",
       "#sk-container-id-2 div.sk-toggleable__content pre {\n",
       "  margin: 0.2em;\n",
       "  border-radius: 0.25em;\n",
       "  color: var(--sklearn-color-text);\n",
       "  /* unfitted */\n",
       "  background-color: var(--sklearn-color-unfitted-level-0);\n",
       "}\n",
       "\n",
       "#sk-container-id-2 div.sk-toggleable__content.fitted pre {\n",
       "  /* unfitted */\n",
       "  background-color: var(--sklearn-color-fitted-level-0);\n",
       "}\n",
       "\n",
       "#sk-container-id-2 input.sk-toggleable__control:checked~div.sk-toggleable__content {\n",
       "  /* Expand drop-down */\n",
       "  max-height: 200px;\n",
       "  max-width: 100%;\n",
       "  overflow: auto;\n",
       "}\n",
       "\n",
       "#sk-container-id-2 input.sk-toggleable__control:checked~label.sk-toggleable__label-arrow:before {\n",
       "  content: \"▾\";\n",
       "}\n",
       "\n",
       "/* Pipeline/ColumnTransformer-specific style */\n",
       "\n",
       "#sk-container-id-2 div.sk-label input.sk-toggleable__control:checked~label.sk-toggleable__label {\n",
       "  color: var(--sklearn-color-text);\n",
       "  background-color: var(--sklearn-color-unfitted-level-2);\n",
       "}\n",
       "\n",
       "#sk-container-id-2 div.sk-label.fitted input.sk-toggleable__control:checked~label.sk-toggleable__label {\n",
       "  background-color: var(--sklearn-color-fitted-level-2);\n",
       "}\n",
       "\n",
       "/* Estimator-specific style */\n",
       "\n",
       "/* Colorize estimator box */\n",
       "#sk-container-id-2 div.sk-estimator input.sk-toggleable__control:checked~label.sk-toggleable__label {\n",
       "  /* unfitted */\n",
       "  background-color: var(--sklearn-color-unfitted-level-2);\n",
       "}\n",
       "\n",
       "#sk-container-id-2 div.sk-estimator.fitted input.sk-toggleable__control:checked~label.sk-toggleable__label {\n",
       "  /* fitted */\n",
       "  background-color: var(--sklearn-color-fitted-level-2);\n",
       "}\n",
       "\n",
       "#sk-container-id-2 div.sk-label label.sk-toggleable__label,\n",
       "#sk-container-id-2 div.sk-label label {\n",
       "  /* The background is the default theme color */\n",
       "  color: var(--sklearn-color-text-on-default-background);\n",
       "}\n",
       "\n",
       "/* On hover, darken the color of the background */\n",
       "#sk-container-id-2 div.sk-label:hover label.sk-toggleable__label {\n",
       "  color: var(--sklearn-color-text);\n",
       "  background-color: var(--sklearn-color-unfitted-level-2);\n",
       "}\n",
       "\n",
       "/* Label box, darken color on hover, fitted */\n",
       "#sk-container-id-2 div.sk-label.fitted:hover label.sk-toggleable__label.fitted {\n",
       "  color: var(--sklearn-color-text);\n",
       "  background-color: var(--sklearn-color-fitted-level-2);\n",
       "}\n",
       "\n",
       "/* Estimator label */\n",
       "\n",
       "#sk-container-id-2 div.sk-label label {\n",
       "  font-family: monospace;\n",
       "  font-weight: bold;\n",
       "  display: inline-block;\n",
       "  line-height: 1.2em;\n",
       "}\n",
       "\n",
       "#sk-container-id-2 div.sk-label-container {\n",
       "  text-align: center;\n",
       "}\n",
       "\n",
       "/* Estimator-specific */\n",
       "#sk-container-id-2 div.sk-estimator {\n",
       "  font-family: monospace;\n",
       "  border: 1px dotted var(--sklearn-color-border-box);\n",
       "  border-radius: 0.25em;\n",
       "  box-sizing: border-box;\n",
       "  margin-bottom: 0.5em;\n",
       "  /* unfitted */\n",
       "  background-color: var(--sklearn-color-unfitted-level-0);\n",
       "}\n",
       "\n",
       "#sk-container-id-2 div.sk-estimator.fitted {\n",
       "  /* fitted */\n",
       "  background-color: var(--sklearn-color-fitted-level-0);\n",
       "}\n",
       "\n",
       "/* on hover */\n",
       "#sk-container-id-2 div.sk-estimator:hover {\n",
       "  /* unfitted */\n",
       "  background-color: var(--sklearn-color-unfitted-level-2);\n",
       "}\n",
       "\n",
       "#sk-container-id-2 div.sk-estimator.fitted:hover {\n",
       "  /* fitted */\n",
       "  background-color: var(--sklearn-color-fitted-level-2);\n",
       "}\n",
       "\n",
       "/* Specification for estimator info (e.g. \"i\" and \"?\") */\n",
       "\n",
       "/* Common style for \"i\" and \"?\" */\n",
       "\n",
       ".sk-estimator-doc-link,\n",
       "a:link.sk-estimator-doc-link,\n",
       "a:visited.sk-estimator-doc-link {\n",
       "  float: right;\n",
       "  font-size: smaller;\n",
       "  line-height: 1em;\n",
       "  font-family: monospace;\n",
       "  background-color: var(--sklearn-color-background);\n",
       "  border-radius: 1em;\n",
       "  height: 1em;\n",
       "  width: 1em;\n",
       "  text-decoration: none !important;\n",
       "  margin-left: 1ex;\n",
       "  /* unfitted */\n",
       "  border: var(--sklearn-color-unfitted-level-1) 1pt solid;\n",
       "  color: var(--sklearn-color-unfitted-level-1);\n",
       "}\n",
       "\n",
       ".sk-estimator-doc-link.fitted,\n",
       "a:link.sk-estimator-doc-link.fitted,\n",
       "a:visited.sk-estimator-doc-link.fitted {\n",
       "  /* fitted */\n",
       "  border: var(--sklearn-color-fitted-level-1) 1pt solid;\n",
       "  color: var(--sklearn-color-fitted-level-1);\n",
       "}\n",
       "\n",
       "/* On hover */\n",
       "div.sk-estimator:hover .sk-estimator-doc-link:hover,\n",
       ".sk-estimator-doc-link:hover,\n",
       "div.sk-label-container:hover .sk-estimator-doc-link:hover,\n",
       ".sk-estimator-doc-link:hover {\n",
       "  /* unfitted */\n",
       "  background-color: var(--sklearn-color-unfitted-level-3);\n",
       "  color: var(--sklearn-color-background);\n",
       "  text-decoration: none;\n",
       "}\n",
       "\n",
       "div.sk-estimator.fitted:hover .sk-estimator-doc-link.fitted:hover,\n",
       ".sk-estimator-doc-link.fitted:hover,\n",
       "div.sk-label-container:hover .sk-estimator-doc-link.fitted:hover,\n",
       ".sk-estimator-doc-link.fitted:hover {\n",
       "  /* fitted */\n",
       "  background-color: var(--sklearn-color-fitted-level-3);\n",
       "  color: var(--sklearn-color-background);\n",
       "  text-decoration: none;\n",
       "}\n",
       "\n",
       "/* Span, style for the box shown on hovering the info icon */\n",
       ".sk-estimator-doc-link span {\n",
       "  display: none;\n",
       "  z-index: 9999;\n",
       "  position: relative;\n",
       "  font-weight: normal;\n",
       "  right: .2ex;\n",
       "  padding: .5ex;\n",
       "  margin: .5ex;\n",
       "  width: min-content;\n",
       "  min-width: 20ex;\n",
       "  max-width: 50ex;\n",
       "  color: var(--sklearn-color-text);\n",
       "  box-shadow: 2pt 2pt 4pt #999;\n",
       "  /* unfitted */\n",
       "  background: var(--sklearn-color-unfitted-level-0);\n",
       "  border: .5pt solid var(--sklearn-color-unfitted-level-3);\n",
       "}\n",
       "\n",
       ".sk-estimator-doc-link.fitted span {\n",
       "  /* fitted */\n",
       "  background: var(--sklearn-color-fitted-level-0);\n",
       "  border: var(--sklearn-color-fitted-level-3);\n",
       "}\n",
       "\n",
       ".sk-estimator-doc-link:hover span {\n",
       "  display: block;\n",
       "}\n",
       "\n",
       "/* \"?\"-specific style due to the `<a>` HTML tag */\n",
       "\n",
       "#sk-container-id-2 a.estimator_doc_link {\n",
       "  float: right;\n",
       "  font-size: 1rem;\n",
       "  line-height: 1em;\n",
       "  font-family: monospace;\n",
       "  background-color: var(--sklearn-color-background);\n",
       "  border-radius: 1rem;\n",
       "  height: 1rem;\n",
       "  width: 1rem;\n",
       "  text-decoration: none;\n",
       "  /* unfitted */\n",
       "  color: var(--sklearn-color-unfitted-level-1);\n",
       "  border: var(--sklearn-color-unfitted-level-1) 1pt solid;\n",
       "}\n",
       "\n",
       "#sk-container-id-2 a.estimator_doc_link.fitted {\n",
       "  /* fitted */\n",
       "  border: var(--sklearn-color-fitted-level-1) 1pt solid;\n",
       "  color: var(--sklearn-color-fitted-level-1);\n",
       "}\n",
       "\n",
       "/* On hover */\n",
       "#sk-container-id-2 a.estimator_doc_link:hover {\n",
       "  /* unfitted */\n",
       "  background-color: var(--sklearn-color-unfitted-level-3);\n",
       "  color: var(--sklearn-color-background);\n",
       "  text-decoration: none;\n",
       "}\n",
       "\n",
       "#sk-container-id-2 a.estimator_doc_link.fitted:hover {\n",
       "  /* fitted */\n",
       "  background-color: var(--sklearn-color-fitted-level-3);\n",
       "}\n",
       "</style><div id=\"sk-container-id-2\" class=\"sk-top-container\"><div class=\"sk-text-repr-fallback\"><pre>Pipeline(steps=[(&#x27;scaler&#x27;, StandardScaler()),\n",
       "                (&#x27;classifier&#x27;,\n",
       "                 LogisticRegression(max_iter=200, random_state=42))])</pre><b>In a Jupyter environment, please rerun this cell to show the HTML representation or trust the notebook. <br />On GitHub, the HTML representation is unable to render, please try loading this page with nbviewer.org.</b></div><div class=\"sk-container\" hidden><div class=\"sk-item sk-dashed-wrapped\"><div class=\"sk-label-container\"><div class=\"sk-label fitted sk-toggleable\"><input class=\"sk-toggleable__control sk-hidden--visually\" id=\"sk-estimator-id-2\" type=\"checkbox\" ><label for=\"sk-estimator-id-2\" class=\"sk-toggleable__label fitted sk-toggleable__label-arrow fitted\">&nbsp;&nbsp;Pipeline<a class=\"sk-estimator-doc-link fitted\" rel=\"noreferrer\" target=\"_blank\" href=\"https://scikit-learn.org/1.5/modules/generated/sklearn.pipeline.Pipeline.html\">?<span>Documentation for Pipeline</span></a><span class=\"sk-estimator-doc-link fitted\">i<span>Fitted</span></span></label><div class=\"sk-toggleable__content fitted\"><pre>Pipeline(steps=[(&#x27;scaler&#x27;, StandardScaler()),\n",
       "                (&#x27;classifier&#x27;,\n",
       "                 LogisticRegression(max_iter=200, random_state=42))])</pre></div> </div></div><div class=\"sk-serial\"><div class=\"sk-item\"><div class=\"sk-estimator fitted sk-toggleable\"><input class=\"sk-toggleable__control sk-hidden--visually\" id=\"sk-estimator-id-3\" type=\"checkbox\" ><label for=\"sk-estimator-id-3\" class=\"sk-toggleable__label fitted sk-toggleable__label-arrow fitted\">&nbsp;StandardScaler<a class=\"sk-estimator-doc-link fitted\" rel=\"noreferrer\" target=\"_blank\" href=\"https://scikit-learn.org/1.5/modules/generated/sklearn.preprocessing.StandardScaler.html\">?<span>Documentation for StandardScaler</span></a></label><div class=\"sk-toggleable__content fitted\"><pre>StandardScaler()</pre></div> </div></div><div class=\"sk-item\"><div class=\"sk-estimator fitted sk-toggleable\"><input class=\"sk-toggleable__control sk-hidden--visually\" id=\"sk-estimator-id-4\" type=\"checkbox\" ><label for=\"sk-estimator-id-4\" class=\"sk-toggleable__label fitted sk-toggleable__label-arrow fitted\">&nbsp;LogisticRegression<a class=\"sk-estimator-doc-link fitted\" rel=\"noreferrer\" target=\"_blank\" href=\"https://scikit-learn.org/1.5/modules/generated/sklearn.linear_model.LogisticRegression.html\">?<span>Documentation for LogisticRegression</span></a></label><div class=\"sk-toggleable__content fitted\"><pre>LogisticRegression(max_iter=200, random_state=42)</pre></div> </div></div></div></div></div></div>"
      ],
      "text/plain": [
       "Pipeline(steps=[('scaler', StandardScaler()),\n",
       "                ('classifier',\n",
       "                 LogisticRegression(max_iter=200, random_state=42))])"
      ]
     },
     "execution_count": 32,
     "metadata": {},
     "output_type": "execute_result"
    }
   ],
   "source": [
    "lr_pipeline.fit(X_train, y_train)\n",
    "# lr_pipeline.fit(X_train_balanced, y_train_balanced)"
   ]
  },
  {
   "cell_type": "markdown",
   "id": "ab9ce9981491ba74",
   "metadata": {},
   "source": [
    "### Model Prediction"
   ]
  },
  {
   "cell_type": "code",
   "execution_count": 33,
   "id": "49a3f10f7bb37a37",
   "metadata": {
    "ExecuteTime": {
     "end_time": "2024-11-27T03:57:33.416332Z",
     "start_time": "2024-11-27T03:57:24.016112Z"
    }
   },
   "outputs": [],
   "source": [
    "# Prediction on Validation Set\n",
    "lr_y_val_pred = lr_pipeline.predict(X_val)\n",
    "\n",
    "# Prediction on Test Set\n",
    "lr_y_test_pred = lr_pipeline.predict(X_test)\n",
    "\n",
    "# Get probabilities for the positive class\n",
    "lr_y_test_proba = lr_pipeline.predict_proba(X_test)[:, 1]  \n"
   ]
  },
  {
   "cell_type": "markdown",
   "id": "384917064b71ce45",
   "metadata": {},
   "source": [
    "## Model Performance"
   ]
  },
  {
   "cell_type": "markdown",
   "id": "a48fa7c0883c31bc",
   "metadata": {},
   "source": [
    "### Score on Validation Set"
   ]
  },
  {
   "cell_type": "code",
   "execution_count": 34,
   "id": "28a2deb6d90a9c0c",
   "metadata": {
    "ExecuteTime": {
     "end_time": "2024-11-27T03:57:37.579979Z",
     "start_time": "2024-11-27T03:57:33.436632Z"
    }
   },
   "outputs": [
    {
     "name": "stdout",
     "output_type": "stream",
     "text": [
      "Validation Accuracy: 0.9373709844175642\n",
      "Classification Report on Validation Set:\n",
      "               precision    recall  f1-score   support\n",
      "\n",
      "       False       0.95      0.98      0.96   3753328\n",
      "        True       0.87      0.75      0.80    781008\n",
      "\n",
      "    accuracy                           0.94   4534336\n",
      "   macro avg       0.91      0.86      0.88   4534336\n",
      "weighted avg       0.94      0.94      0.94   4534336\n",
      "\n",
      "Confusion Matrix on Validation Set:\n",
      " [[3665039   88289]\n",
      " [ 195692  585316]]\n"
     ]
    }
   ],
   "source": [
    "lr_val_acc_score = accuracy_score(y_val, lr_y_val_pred)\n",
    "lr_val_cr = classification_report(y_val, lr_y_val_pred)\n",
    "lr_val_cm = confusion_matrix(y_val, lr_y_val_pred)\n",
    "\n",
    "print(\"Validation Accuracy:\", lr_val_acc_score)\n",
    "print(\"Classification Report on Validation Set:\\n\", lr_val_cr)\n",
    "print(\"Confusion Matrix on Validation Set:\\n\", lr_val_cm)"
   ]
  },
  {
   "cell_type": "markdown",
   "id": "385f61ae524cb369",
   "metadata": {},
   "source": [
    "### Score on Test Set"
   ]
  },
  {
   "cell_type": "code",
   "execution_count": 35,
   "id": "5224c8e4f912379d",
   "metadata": {
    "ExecuteTime": {
     "end_time": "2024-11-27T03:57:47.424373Z",
     "start_time": "2024-11-27T03:57:37.694626Z"
    }
   },
   "outputs": [
    {
     "name": "stdout",
     "output_type": "stream",
     "text": [
      "Test Accuracy: 0.9373006323307316\n",
      "Classification Report on Test Set:\n",
      "               precision    recall  f1-score   support\n",
      "\n",
      "       False       0.95      0.98      0.96   4691660\n",
      "        True       0.87      0.75      0.80    976260\n",
      "\n",
      "    accuracy                           0.94   5667920\n",
      "   macro avg       0.91      0.86      0.88   5667920\n",
      "weighted avg       0.94      0.94      0.94   5667920\n",
      "\n",
      "Confusion Matrix on Test Set:\n",
      " [[4581690  109970]\n",
      " [ 245405  730855]]\n"
     ]
    }
   ],
   "source": [
    "lr_test_acc_score = accuracy_score(y_test, lr_y_test_pred)\n",
    "lr_test_cr = classification_report(y_test, lr_y_test_pred, output_dict=True)\n",
    "lr_test_cm = confusion_matrix(y_test, lr_y_test_pred)\n",
    "\n",
    "print(\"Test Accuracy:\", accuracy_score(y_test, lr_y_test_pred))\n",
    "print(\"Classification Report on Test Set:\\n\", classification_report(y_test, lr_y_test_pred))\n",
    "print(\"Confusion Matrix on Test Set:\\n\", confusion_matrix(y_test, lr_y_test_pred))"
   ]
  },
  {
   "cell_type": "markdown",
   "id": "1b8571af06b959f5",
   "metadata": {},
   "source": [
    "### ROC-AUC"
   ]
  },
  {
   "cell_type": "code",
   "execution_count": 36,
   "id": "46928a652931ab31",
   "metadata": {
    "ExecuteTime": {
     "end_time": "2024-11-27T03:57:48.590457Z",
     "start_time": "2024-11-27T03:57:47.452586Z"
    }
   },
   "outputs": [
    {
     "name": "stdout",
     "output_type": "stream",
     "text": [
      "ROC-AUC:  0.9389551640836857\n"
     ]
    }
   ],
   "source": [
    "fpr_lr, tpr_lr, _ = roc_curve(y_test, lr_y_test_proba)\n",
    "roc_auc_lr = auc(fpr_lr, tpr_lr)\n",
    "\n",
    "print(\"ROC-AUC: \", roc_auc_lr)"
   ]
  },
  {
   "cell_type": "markdown",
   "id": "28f2a69aabfa7f9b",
   "metadata": {},
   "source": [
    "### Average Precision Score"
   ]
  },
  {
   "cell_type": "code",
   "execution_count": 37,
   "id": "26ba85809e234e4c",
   "metadata": {
    "ExecuteTime": {
     "end_time": "2024-11-27T03:57:50.987783Z",
     "start_time": "2024-11-27T03:57:48.671237Z"
    }
   },
   "outputs": [
    {
     "name": "stdout",
     "output_type": "stream",
     "text": [
      "Area under Precision-Recall curve:  0.8721824414588332\n"
     ]
    }
   ],
   "source": [
    "precision_lr, recall_lr, _ = precision_recall_curve(y_test, lr_y_test_proba)\n",
    "average_precision_lr = average_precision_score(y_test, lr_y_test_proba)\n",
    "\n",
    "print(\"Area under Precision-Recall curve: \", average_precision_lr)"
   ]
  },
  {
   "cell_type": "markdown",
   "id": "ac0f567730d61067",
   "metadata": {},
   "source": [
    "## Visualization"
   ]
  },
  {
   "cell_type": "markdown",
   "id": "ac6d31c5ccc67d25",
   "metadata": {},
   "source": [
    "### Classification Report"
   ]
  },
  {
   "cell_type": "code",
   "execution_count": 42,
   "id": "e2079e1ed3b9a0ac",
   "metadata": {
    "ExecuteTime": {
     "end_time": "2024-11-27T03:57:56.214115Z",
     "start_time": "2024-11-27T03:57:56.093653Z"
    }
   },
   "outputs": [
    {
     "data": {
      "image/png": "[encoded data removed]",
      "text/plain": [
       "<Figure size 1000x600 with 2 Axes>"
      ]
     },
     "metadata": {},
     "output_type": "display_data"
    }
   ],
   "source": [
    "report = lr_test_cr\n",
    "report_df = pd.DataFrame(report).transpose()\n",
    "\n",
    "plt.figure(figsize=(10, 6))\n",
    "sns.heatmap(report_df.iloc[:-1, :-1], annot=True, cmap='coolwarm')\n",
    "plt.title('Classification Report on Test Set')\n",
    "plt.ylabel('Metrics')\n",
    "plt.xlabel('Classes')\n",
    "plt.show()"
   ]
  },
  {
   "cell_type": "markdown",
   "id": "3e5837bb12d5811d",
   "metadata": {},
   "source": [
    "### Confusion Matrix"
   ]
  },
  {
   "cell_type": "code",
   "execution_count": 39,
   "id": "4a71412af1fcd771",
   "metadata": {
    "ExecuteTime": {
     "end_time": "2024-11-27T03:57:51.553448Z",
     "start_time": "2024-11-27T03:57:51.357238Z"
    }
   },
   "outputs": [
    {
     "data": {
      "image/png": "[encoded data removed]",
      "text/plain": [
       "<Figure size 800x600 with 2 Axes>"
      ]
     },
     "metadata": {},
     "output_type": "display_data"
    }
   ],
   "source": [
    "plt.figure(figsize=(8, 6))\n",
    "sns.heatmap(lr_test_cm, annot=True, fmt='d', cmap='Blues', xticklabels=np.unique(y_test), yticklabels=np.unique(y_test))\n",
    "plt.title('Confusion Matrix')\n",
    "plt.ylabel('True Label')\n",
    "plt.xlabel('Predicted Label')\n",
    "plt.show()"
   ]
  },
  {
   "cell_type": "markdown",
   "id": "cdbb4ff6ed4db92",
   "metadata": {},
   "source": [
    "### ROC Curve"
   ]
  },
  {
   "cell_type": "code",
   "execution_count": 48,
   "id": "f177b21a0a5113ce",
   "metadata": {
    "ExecuteTime": {
     "end_time": "2024-11-27T03:59:04.534726Z",
     "start_time": "2024-11-27T03:59:04.409714Z"
    }
   },
   "outputs": [
    {
     "data": {
      "image/png": "[encoded data removed]",
      "text/plain": [
       "<Figure size 800x600 with 1 Axes>"
      ]
     },
     "metadata": {},
     "output_type": "display_data"
    }
   ],
   "source": [
    "plt.figure(figsize=(8, 6))\n",
    "plt.plot(fpr_lr, tpr_lr, label=f'Logistic Regression (AUC = {roc_auc_lr:.8f})', color='blue')\n",
    "plt.title('ROC Curve - Logistic Regression')\n",
    "plt.xlabel('False Positive Rate')\n",
    "plt.ylabel('True Positive Rate')\n",
    "plt.legend(loc='lower right')\n",
    "plt.grid()\n",
    "plt.show()"
   ]
  },
  {
   "cell_type": "markdown",
   "id": "101bfd2556f18de0",
   "metadata": {},
   "source": [
    "### Precision-Recall Curve"
   ]
  },
  {
   "cell_type": "code",
   "execution_count": 91,
   "id": "41229232fdc9709c",
   "metadata": {
    "ExecuteTime": {
     "end_time": "2024-11-27T04:44:33.131262Z",
     "start_time": "2024-11-27T04:44:32.555735Z"
    }
   },
   "outputs": [
    {
     "data": {
      "image/png": "[encoded data removed]",
      "text/plain": [
       "<Figure size 800x600 with 1 Axes>"
      ]
     },
     "metadata": {},
     "output_type": "display_data"
    }
   ],
   "source": [
    "plt.figure(figsize=(8, 6))\n",
    "plt.plot(recall_lr, precision_lr, label=f'Logistic Regression (APR = {average_precision_lr:.8f})', color='blue')\n",
    "plt.title('Precision-Recall Curve - Logistic Regression')\n",
    "plt.xlabel('Recall')\n",
    "plt.ylabel('Precision')\n",
    "plt.legend(loc='lower left')\n",
    "plt.grid()\n",
    "plt.show()"
   ]
  },
  {
   "cell_type": "markdown",
   "id": "c3a50b6ecb707426",
   "metadata": {},
   "source": [
    "# CatBoost"
   ]
  },
  {
   "cell_type": "markdown",
   "id": "4ca02cb5c167ff8b",
   "metadata": {},
   "source": [
    "## Preliminaries"
   ]
  },
  {
   "cell_type": "markdown",
   "id": "49ce705f2286fa80",
   "metadata": {},
   "source": [
    "### Loading in The Dataset"
   ]
  },
  {
   "cell_type": "code",
   "execution_count": 49,
   "id": "20310fd66e438ef8",
   "metadata": {
    "ExecuteTime": {
     "end_time": "2024-11-27T03:59:22.504063Z",
     "start_time": "2024-11-27T03:59:20.087161Z"
    }
   },
   "outputs": [
    {
     "name": "stdout",
     "output_type": "stream",
     "text": [
      "<class 'pandas.core.frame.DataFrame'>\n",
      "RangeIndex: 28339596 entries, 0 to 28339595\n",
      "Data columns (total 23 columns):\n",
      " #   Column             Dtype   \n",
      "---  ------             -----   \n",
      " 0   Airline            category\n",
      " 1   Origin             category\n",
      " 2   Dest               category\n",
      " 3   CRSDepTime         int16   \n",
      " 4   DepTime            int16   \n",
      " 5   DepDel15           bool    \n",
      " 6   ArrTime            int16   \n",
      " 7   ArrDel15           bool    \n",
      " 8   AirTime            int16   \n",
      " 9   CRSElapsedTime     int16   \n",
      " 10  ActualElapsedTime  int16   \n",
      " 11  Distance           int16   \n",
      " 12  Year               category\n",
      " 13  Quarter            category\n",
      " 14  Month              category\n",
      " 15  DayofMonth         category\n",
      " 16  DayOfWeek          category\n",
      " 17  DepTimeBlk         category\n",
      " 18  ArrTimeBlk         category\n",
      " 19  TaxiOut            int16   \n",
      " 20  TaxiIn             int16   \n",
      " 21  CRSDepTimeMin      int16   \n",
      " 22  DepTimeMin         int16   \n",
      "dtypes: bool(2), category(10), int16(11)\n",
      "memory usage: 973.0 MB\n"
     ]
    }
   ],
   "source": [
    "df = pd.read_parquet('dataset/model_ready_data_airlines.parquet')\n",
    "df.info()"
   ]
  },
  {
   "cell_type": "markdown",
   "id": "eec6ba92bf417103",
   "metadata": {},
   "source": [
    "## Data Preprocessing\n",
    "The good thing about CatBoost is that, it doesn't require much data preprocessing. You can just pass in the categorical columns as an argument to CatBoostClassifier and it will automatically handle the rest."
   ]
  },
  {
   "cell_type": "markdown",
   "id": "f5cc5701484bf390",
   "metadata": {},
   "source": [
    "### Training Test Split\n",
    "Since, we have a lot of data (~28M rows), We will split Training and Testing into 80|20 and then split Training into 80|20 for validation."
   ]
  },
  {
   "cell_type": "code",
   "execution_count": null,
   "id": "17910fd2ba59b0dc",
   "metadata": {
    "ExecuteTime": {
     "end_time": "2024-11-27T03:59:47.797004Z",
     "start_time": "2024-11-27T03:59:22.684900Z"
    }
   },
   "outputs": [
    {
     "name": "stdout",
     "output_type": "stream",
     "text": [
      "Training/Test split  (22671676, 22) (22671676,) (5667920, 22) (5667920,)\n",
      "Training/Validation split  (18137340, 22) (18137340,) (4534336, 22) (4534336,)\n"
     ]
    }
   ],
   "source": [
    "X = df.drop('DepDel15', axis=1)\n",
    "y = df['DepDel15']\n",
    "\n",
    "# We will stratify y to cater the imbalance\n",
    "# Training/Test split\n",
    "X_train, X_test, y_train, y_test = train_test_split(X, y, test_size=0.2, random_state=42, stratify=y)\n",
    "print(\"Training/Test split \", X_train.shape, y_train.shape, X_test.shape, y_test.shape)\n",
    "\n",
    "# Training/Validation split\n",
    "X_train, X_val, y_train, y_val = train_test_split(X_train, y_train, test_size=0.2, random_state=42, stratify=y_train)\n",
    "print(\"Training/Validation split \", X_train.shape, y_train.shape, X_val.shape, y_val.shape)"
   ]
  },
  {
   "cell_type": "markdown",
   "id": "e20c1a3f8a926a9d",
   "metadata": {},
   "source": [
    "## Modeling"
   ]
  },
  {
   "cell_type": "markdown",
   "id": "b7a86709fb164799",
   "metadata": {},
   "source": [
    "### Model Fitting"
   ]
  },
  {
   "cell_type": "code",
   "execution_count": 74,
   "id": "5ea2c2f5d454c614",
   "metadata": {
    "ExecuteTime": {
     "end_time": "2024-11-27T04:41:56.213646Z",
     "start_time": "2024-11-27T04:40:21.339844Z"
    }
   },
   "outputs": [
    {
     "name": "stdout",
     "output_type": "stream",
     "text": [
      "0:\tlearn: 0.5624100\ttotal: 497ms\tremaining: 49.2s\n",
      "40:\tlearn: 0.1523049\ttotal: 18.1s\tremaining: 26.1s\n",
      "80:\tlearn: 0.1123746\ttotal: 34.8s\tremaining: 8.17s\n",
      "99:\tlearn: 0.0979360\ttotal: 42.8s\tremaining: 0us\n"
     ]
    },
    {
     "data": {
      "text/plain": [
       "<catboost.core.CatBoostClassifier at 0x1e807839f70>"
      ]
     },
     "execution_count": 74,
     "metadata": {},
     "output_type": "execute_result"
    }
   ],
   "source": [
    "categorical_columns = df.select_dtypes('category').columns.tolist()\n",
    "\n",
    "cb_model = CatBoostClassifier(\n",
    "    task_type = 'GPU',\n",
    "    iterations=100,\n",
    "    depth=8,\n",
    "    learning_rate=0.1,\n",
    "    loss_function='CrossEntropy',\n",
    "    cat_features=categorical_columns,\n",
    "    verbose=40 # Print progress after every 40 iterations\n",
    ")\n",
    "\n",
    "# Train the model on the training data\n",
    "cb_model.fit(X_train, y_train)"
   ]
  },
  {
   "cell_type": "markdown",
   "id": "c11a372aca80b6bb",
   "metadata": {},
   "source": [
    "### Model Prediction"
   ]
  },
  {
   "cell_type": "code",
   "execution_count": 75,
   "id": "9657e9119ed4c89c",
   "metadata": {
    "ExecuteTime": {
     "end_time": "2024-11-27T04:41:58.079362Z",
     "start_time": "2024-11-27T04:41:56.239380Z"
    }
   },
   "outputs": [],
   "source": [
    "# Make predictions on the validation set\n",
    "cb_y_val_pred = cb_model.predict(X_val)\n",
    "\n",
    "# Make predictions on the test set\n",
    "cb_y_test_pred = cb_model.predict(X_test)\n",
    "\n",
    "# Get probabilities for the positive class\n",
    "cb_y_test_proba = cb_model.predict_proba(X_test)[:, 1]  "
   ]
  },
  {
   "cell_type": "markdown",
   "id": "df684c3dee03094f",
   "metadata": {},
   "source": [
    "## Model Performance"
   ]
  },
  {
   "cell_type": "markdown",
   "id": "1a36b2dd05bc54b4",
   "metadata": {},
   "source": [
    "### Score on Validation Set"
   ]
  },
  {
   "cell_type": "code",
   "execution_count": 76,
   "id": "626695ed26f876d6",
   "metadata": {
    "ExecuteTime": {
     "end_time": "2024-11-27T04:42:07.940683Z",
     "start_time": "2024-11-27T04:41:58.111415Z"
    }
   },
   "outputs": [
    {
     "name": "stdout",
     "output_type": "stream",
     "text": [
      "Validation Accuracy: 0.9619344486160708\n",
      "Classification Report on Validation Set:\n",
      "               precision    recall  f1-score   support\n",
      "\n",
      "       False       0.96      0.99      0.98   3753328\n",
      "        True       0.96      0.81      0.88    781008\n",
      "\n",
      "    accuracy                           0.96   4534336\n",
      "   macro avg       0.96      0.90      0.93   4534336\n",
      "weighted avg       0.96      0.96      0.96   4534336\n",
      "\n",
      "Confusion Matrix on Validation Set:\n",
      " [[3729142   24186]\n",
      " [ 148416  632592]]\n"
     ]
    }
   ],
   "source": [
    "cb_val_acc_score = accuracy_score(y_val, cb_y_val_pred)\n",
    "cb_val_cr = classification_report(y_val, cb_y_val_pred)\n",
    "cb_val_cm = confusion_matrix(y_val, cb_y_val_pred)\n",
    "\n",
    "# Evaluate on validation data\n",
    "print(\"Validation Accuracy:\", accuracy_score(y_val, cb_y_val_pred))\n",
    "print(\"Classification Report on Validation Set:\\n\", classification_report(y_val, cb_y_val_pred))\n",
    "print(\"Confusion Matrix on Validation Set:\\n\", confusion_matrix(y_val, cb_y_val_pred))"
   ]
  },
  {
   "cell_type": "markdown",
   "id": "e8c44cdc7fd7fa7d",
   "metadata": {},
   "source": [
    "### Score on Test Set"
   ]
  },
  {
   "cell_type": "code",
   "execution_count": 77,
   "id": "56ef97f9b818b163",
   "metadata": {
    "ExecuteTime": {
     "end_time": "2024-11-27T04:42:20.345803Z",
     "start_time": "2024-11-27T04:42:07.998075Z"
    }
   },
   "outputs": [
    {
     "name": "stdout",
     "output_type": "stream",
     "text": [
      "Test Accuracy: 0.9617542237716834\n",
      "Classification Report on Test Set:\n",
      "               precision    recall  f1-score   support\n",
      "\n",
      "       False       0.96      0.99      0.98   4691660\n",
      "        True       0.96      0.81      0.88    976260\n",
      "\n",
      "    accuracy                           0.96   5667920\n",
      "   macro avg       0.96      0.90      0.93   5667920\n",
      "weighted avg       0.96      0.96      0.96   5667920\n",
      "\n",
      "Confusion Matrix on Test Set:\n",
      " [[4661442   30218]\n",
      " [ 186556  789704]]\n"
     ]
    }
   ],
   "source": [
    "cb_test_acc_score = accuracy_score(y_test, cb_y_test_pred)\n",
    "cb_test_cr = classification_report(y_test, cb_y_test_pred, output_dict=True)\n",
    "cb_test_cm = confusion_matrix(y_test, cb_y_test_pred)\n",
    "\n",
    "# Evaluate on test data\n",
    "print(\"Test Accuracy:\", accuracy_score(y_test, cb_y_test_pred))\n",
    "print(\"Classification Report on Test Set:\\n\", classification_report(y_test, cb_y_test_pred))\n",
    "print(\"Confusion Matrix on Test Set:\\n\", confusion_matrix(y_test, cb_y_test_pred))"
   ]
  },
  {
   "cell_type": "markdown",
   "id": "1894571bbd3cd762",
   "metadata": {},
   "source": [
    "### ROC-AUC"
   ]
  },
  {
   "cell_type": "code",
   "execution_count": 84,
   "id": "8ff6cc5cb2fbf90c",
   "metadata": {
    "ExecuteTime": {
     "end_time": "2024-11-27T04:43:05.556627Z",
     "start_time": "2024-11-27T04:43:04.212310Z"
    }
   },
   "outputs": [
    {
     "name": "stdout",
     "output_type": "stream",
     "text": [
      "ROC-AUC:  0.9915977687851879\n"
     ]
    }
   ],
   "source": [
    "fpr_cb, tpr_cb, _ = roc_curve(y_test, cb_y_test_proba)\n",
    "roc_auc_cb = auc(fpr_cb, tpr_cb)\n",
    "\n",
    "print(\"ROC-AUC: \", roc_auc_cb)"
   ]
  },
  {
   "cell_type": "markdown",
   "id": "531cf073b835c45f",
   "metadata": {},
   "source": [
    "### Average Precision Score"
   ]
  },
  {
   "cell_type": "code",
   "execution_count": 85,
   "id": "92443bc979c801ba",
   "metadata": {
    "ExecuteTime": {
     "end_time": "2024-11-27T04:43:11.221011Z",
     "start_time": "2024-11-27T04:43:08.400903Z"
    }
   },
   "outputs": [
    {
     "name": "stdout",
     "output_type": "stream",
     "text": [
      "Area under Precision-Recall curve:  0.9699119390150541\n"
     ]
    }
   ],
   "source": [
    "precision_cb, recall_cb, _ = precision_recall_curve(y_test, cb_y_test_proba)\n",
    "average_precision_cb = average_precision_score(y_test, cb_y_test_proba)\n",
    "\n",
    "print(\"Area under Precision-Recall curve: \", average_precision_cb)"
   ]
  },
  {
   "cell_type": "markdown",
   "id": "40c460bf29c17e0b",
   "metadata": {},
   "source": [
    "## Visualization"
   ]
  },
  {
   "cell_type": "markdown",
   "id": "f5175fd8452bc1b2",
   "metadata": {},
   "source": [
    "### Feature Importance"
   ]
  },
  {
   "cell_type": "code",
   "execution_count": 80,
   "id": "dc2cf5ce55c48ef1",
   "metadata": {
    "ExecuteTime": {
     "end_time": "2024-11-27T04:42:24.464945Z",
     "start_time": "2024-11-27T04:42:24.323109Z"
    }
   },
   "outputs": [
    {
     "data": {
      "image/png": "[encoded data removed]",
      "text/plain": [
       "<Figure size 1000x600 with 1 Axes>"
      ]
     },
     "metadata": {},
     "output_type": "display_data"
    }
   ],
   "source": [
    "feature_importance = cb_model.feature_importances_\n",
    "feature_names = X_train.columns\n",
    "importance_df = pd.DataFrame({'Feature': feature_names, 'Importance': feature_importance})\n",
    "importance_df = importance_df.sort_values(by='Importance', ascending=False)\n",
    "\n",
    "# Plot Feature Importance\n",
    "plt.figure(figsize=(10, 6))\n",
    "sns.barplot(x='Importance', y='Feature', data=importance_df.head(10))\n",
    "plt.title('Top 10 Feature Importances')\n",
    "plt.tight_layout()\n",
    "plt.show()"
   ]
  },
  {
   "cell_type": "markdown",
   "id": "4d0b4bed40517a49",
   "metadata": {},
   "source": [
    "### Classification Report"
   ]
  },
  {
   "cell_type": "code",
   "execution_count": 86,
   "id": "c2bd96eb2c7020c7",
   "metadata": {
    "ExecuteTime": {
     "end_time": "2024-11-27T04:43:43.812754Z",
     "start_time": "2024-11-27T04:43:43.705831Z"
    }
   },
   "outputs": [
    {
     "data": {
      "image/png": "[encoded data removed]",
      "text/plain": [
       "<Figure size 1000x600 with 2 Axes>"
      ]
     },
     "metadata": {},
     "output_type": "display_data"
    }
   ],
   "source": [
    "report = cb_test_cr\n",
    "report_df = pd.DataFrame(report).transpose()\n",
    "\n",
    "plt.figure(figsize=(10, 6))\n",
    "sns.heatmap(report_df.iloc[:-1, :-1], annot=True, cmap='coolwarm')\n",
    "plt.title('Classification Report on Test Set')\n",
    "plt.ylabel('Metrics')\n",
    "plt.xlabel('Classes')\n",
    "plt.show()"
   ]
  },
  {
   "cell_type": "markdown",
   "id": "466011b4dbf43b69",
   "metadata": {},
   "source": [
    "### Confusion Matrix"
   ]
  },
  {
   "cell_type": "code",
   "execution_count": 87,
   "id": "8806d285f5fb46ed",
   "metadata": {
    "ExecuteTime": {
     "end_time": "2024-11-27T04:43:46.516349Z",
     "start_time": "2024-11-27T04:43:46.344005Z"
    }
   },
   "outputs": [
    {
     "data": {
      "image/png": "[encoded data removed]",
      "text/plain": [
       "<Figure size 800x600 with 2 Axes>"
      ]
     },
     "metadata": {},
     "output_type": "display_data"
    }
   ],
   "source": [
    "plt.figure(figsize=(8, 6))\n",
    "sns.heatmap(cb_test_cm, annot=True, fmt='d', cmap='Blues', xticklabels=np.unique(y_test), yticklabels=np.unique(y_test))\n",
    "plt.title('Confusion Matrix')\n",
    "plt.ylabel('True Label')\n",
    "plt.xlabel('Predicted Label')\n",
    "plt.show()"
   ]
  },
  {
   "cell_type": "markdown",
   "id": "6449c98435bfa50f",
   "metadata": {},
   "source": [
    "### ROC Curve"
   ]
  },
  {
   "cell_type": "code",
   "execution_count": 88,
   "id": "9cacc2fe337d3347",
   "metadata": {
    "ExecuteTime": {
     "end_time": "2024-11-27T04:43:49.423912Z",
     "start_time": "2024-11-27T04:43:49.297387Z"
    }
   },
   "outputs": [
    {
     "data": {
      "image/png": "[encoded data removed]",
      "text/plain": [
       "<Figure size 800x600 with 1 Axes>"
      ]
     },
     "metadata": {},
     "output_type": "display_data"
    }
   ],
   "source": [
    "plt.figure(figsize=(8, 6))\n",
    "plt.plot(fpr_cb, tpr_cb, label=f'CatBoost (AUC = {roc_auc_cb:.8f})', color='blue')\n",
    "plt.title('ROC Curve - CatBoost')\n",
    "plt.xlabel('False Positive Rate')\n",
    "plt.ylabel('True Positive Rate')\n",
    "plt.legend(loc='lower right')\n",
    "plt.grid()\n",
    "plt.show()"
   ]
  },
  {
   "cell_type": "markdown",
   "id": "7d7ece33bd3ba4dc",
   "metadata": {},
   "source": [
    "### Precision-Recall Curve"
   ]
  },
  {
   "cell_type": "code",
   "execution_count": 90,
   "id": "ba22161edaa66fd3",
   "metadata": {
    "ExecuteTime": {
     "end_time": "2024-11-27T04:44:24.639223Z",
     "start_time": "2024-11-27T04:44:24.371649Z"
    }
   },
   "outputs": [
    {
     "data": {
      "image/png": "[encoded data removed]",
      "text/plain": [
       "<Figure size 800x600 with 1 Axes>"
      ]
     },
     "metadata": {},
     "output_type": "display_data"
    }
   ],
   "source": [
    "plt.figure(figsize=(8, 6))\n",
    "plt.plot(recall_cb, precision_cb, label=f'CatBoost (APR = {average_precision_cb:.8f})', color='blue')\n",
    "plt.title('Precision-Recall Curve - CatBoost')\n",
    "plt.xlabel('Recall')\n",
    "plt.ylabel('Precision')\n",
    "plt.legend(loc='lower left')\n",
    "plt.grid()\n",
    "plt.show()"
   ]
  },
  {
   "cell_type": "code",
   "execution_count": 6,
   "id": "c770d7bb23cd6563",
   "metadata": {
    "ExecuteTime": {
     "end_time": "2024-11-24T02:41:55.697747Z",
     "start_time": "2024-11-24T02:28:28.669405Z"
    }
   },
   "outputs": [
    {
     "name": "stdout",
     "output_type": "stream",
     "text": [
      "0:\tlearn: 0.6181397\ttotal: 750ms\tremaining: 1m 21s\n",
      "1:\tlearn: 0.5565863\ttotal: 1.29s\tremaining: 1m 9s\n",
      "2:\tlearn: 0.5053196\ttotal: 1.81s\tremaining: 1m 4s\n",
      "3:\tlearn: 0.4623241\ttotal: 2.46s\tremaining: 1m 5s\n",
      "4:\tlearn: 0.4253549\ttotal: 3.03s\tremaining: 1m 3s\n",
      "5:\tlearn: 0.3938720\ttotal: 3.61s\tremaining: 1m 2s\n",
      "6:\tlearn: 0.3667809\ttotal: 4.23s\tremaining: 1m 2s\n",
      "7:\tlearn: 0.3432340\ttotal: 4.83s\tremaining: 1m 1s\n",
      "8:\tlearn: 0.3228603\ttotal: 5.43s\tremaining: 1m\n",
      "9:\tlearn: 0.3050839\ttotal: 5.97s\tremaining: 59.7s\n",
      "10:\tlearn: 0.2891461\ttotal: 6.48s\tremaining: 58.3s\n",
      "11:\tlearn: 0.2755141\ttotal: 7s\tremaining: 57.2s\n",
      "12:\tlearn: 0.2629847\ttotal: 7.52s\tremaining: 56.1s\n",
      "13:\tlearn: 0.2520053\ttotal: 8.05s\tremaining: 55.2s\n",
      "14:\tlearn: 0.2426753\ttotal: 8.68s\tremaining: 54.9s\n",
      "15:\tlearn: 0.2339918\ttotal: 9.26s\tremaining: 54.4s\n",
      "16:\tlearn: 0.2267581\ttotal: 9.88s\tremaining: 54.1s\n",
      "17:\tlearn: 0.2202525\ttotal: 10.5s\tremaining: 53.8s\n",
      "18:\tlearn: 0.2138414\ttotal: 11s\tremaining: 52.7s\n",
      "19:\tlearn: 0.2080932\ttotal: 11.5s\tremaining: 51.8s\n",
      "20:\tlearn: 0.2033049\ttotal: 12.1s\tremaining: 51.3s\n",
      "21:\tlearn: 0.1987925\ttotal: 12.7s\tremaining: 50.7s\n",
      "22:\tlearn: 0.1948181\ttotal: 13.3s\tremaining: 50.2s\n",
      "23:\tlearn: 0.1919817\ttotal: 13.8s\tremaining: 49.5s\n",
      "24:\tlearn: 0.1889269\ttotal: 14.4s\tremaining: 49s\n",
      "25:\tlearn: 0.1846848\ttotal: 15s\tremaining: 48.4s\n",
      "26:\tlearn: 0.1813107\ttotal: 15.4s\tremaining: 47.5s\n",
      "27:\tlearn: 0.1792542\ttotal: 16s\tremaining: 46.9s\n",
      "28:\tlearn: 0.1756558\ttotal: 16.5s\tremaining: 46.2s\n",
      "29:\tlearn: 0.1722049\ttotal: 17.1s\tremaining: 45.5s\n",
      "30:\tlearn: 0.1699786\ttotal: 17.6s\tremaining: 44.8s\n",
      "31:\tlearn: 0.1673091\ttotal: 18.1s\tremaining: 44.1s\n",
      "32:\tlearn: 0.1659064\ttotal: 18.6s\tremaining: 43.5s\n",
      "33:\tlearn: 0.1639848\ttotal: 19.2s\tremaining: 43s\n",
      "34:\tlearn: 0.1627419\ttotal: 19.8s\tremaining: 42.4s\n",
      "35:\tlearn: 0.1605923\ttotal: 20.3s\tremaining: 41.7s\n",
      "36:\tlearn: 0.1593108\ttotal: 20.9s\tremaining: 41.2s\n",
      "37:\tlearn: 0.1574124\ttotal: 21.4s\tremaining: 40.6s\n",
      "38:\tlearn: 0.1554170\ttotal: 22s\tremaining: 40s\n",
      "39:\tlearn: 0.1528830\ttotal: 22.5s\tremaining: 39.3s\n",
      "40:\tlearn: 0.1510828\ttotal: 22.9s\tremaining: 38.5s\n",
      "41:\tlearn: 0.1486952\ttotal: 23.4s\tremaining: 38s\n",
      "42:\tlearn: 0.1479005\ttotal: 24.1s\tremaining: 37.5s\n",
      "43:\tlearn: 0.1461623\ttotal: 24.6s\tremaining: 37s\n",
      "44:\tlearn: 0.1448493\ttotal: 25.1s\tremaining: 36.2s\n",
      "45:\tlearn: 0.1434559\ttotal: 25.6s\tremaining: 35.6s\n",
      "46:\tlearn: 0.1419087\ttotal: 26s\tremaining: 34.9s\n",
      "47:\tlearn: 0.1406675\ttotal: 26.6s\tremaining: 34.4s\n",
      "48:\tlearn: 0.1399949\ttotal: 27.3s\tremaining: 33.9s\n",
      "49:\tlearn: 0.1389744\ttotal: 27.8s\tremaining: 33.4s\n",
      "50:\tlearn: 0.1375468\ttotal: 28.3s\tremaining: 32.8s\n",
      "51:\tlearn: 0.1364700\ttotal: 28.8s\tremaining: 32.1s\n",
      "52:\tlearn: 0.1350122\ttotal: 29.3s\tremaining: 31.5s\n",
      "53:\tlearn: 0.1331154\ttotal: 29.8s\tremaining: 30.9s\n",
      "54:\tlearn: 0.1325487\ttotal: 30.4s\tremaining: 30.4s\n",
      "55:\tlearn: 0.1314444\ttotal: 31s\tremaining: 29.9s\n",
      "56:\tlearn: 0.1306988\ttotal: 31.6s\tremaining: 29.4s\n",
      "57:\tlearn: 0.1290263\ttotal: 32.1s\tremaining: 28.8s\n",
      "58:\tlearn: 0.1284669\ttotal: 32.6s\tremaining: 28.2s\n",
      "59:\tlearn: 0.1275896\ttotal: 33.1s\tremaining: 27.6s\n",
      "60:\tlearn: 0.1267274\ttotal: 33.6s\tremaining: 27s\n",
      "61:\tlearn: 0.1260376\ttotal: 34.2s\tremaining: 26.5s\n",
      "62:\tlearn: 0.1253661\ttotal: 34.7s\tremaining: 25.9s\n",
      "63:\tlearn: 0.1244712\ttotal: 35.2s\tremaining: 25.3s\n",
      "64:\tlearn: 0.1241542\ttotal: 35.7s\tremaining: 24.7s\n",
      "65:\tlearn: 0.1235790\ttotal: 36.2s\tremaining: 24.1s\n",
      "66:\tlearn: 0.1227936\ttotal: 36.7s\tremaining: 23.6s\n",
      "67:\tlearn: 0.1223429\ttotal: 37.2s\tremaining: 23s\n",
      "68:\tlearn: 0.1218926\ttotal: 37.7s\tremaining: 22.4s\n",
      "69:\tlearn: 0.1214771\ttotal: 38.3s\tremaining: 21.9s\n",
      "70:\tlearn: 0.1207797\ttotal: 38.9s\tremaining: 21.4s\n",
      "71:\tlearn: 0.1203026\ttotal: 39.5s\tremaining: 20.8s\n",
      "72:\tlearn: 0.1199249\ttotal: 39.9s\tremaining: 20.2s\n",
      "73:\tlearn: 0.1192630\ttotal: 40.4s\tremaining: 19.6s\n",
      "74:\tlearn: 0.1189583\ttotal: 41s\tremaining: 19.1s\n",
      "75:\tlearn: 0.1186895\ttotal: 41.5s\tremaining: 18.6s\n",
      "76:\tlearn: 0.1183136\ttotal: 42s\tremaining: 18s\n",
      "77:\tlearn: 0.1171137\ttotal: 42.5s\tremaining: 17.4s\n",
      "78:\tlearn: 0.1168558\ttotal: 43.1s\tremaining: 16.9s\n",
      "79:\tlearn: 0.1164984\ttotal: 43.6s\tremaining: 16.3s\n",
      "80:\tlearn: 0.1158468\ttotal: 44s\tremaining: 15.8s\n",
      "81:\tlearn: 0.1156781\ttotal: 44.5s\tremaining: 15.2s\n",
      "82:\tlearn: 0.1153550\ttotal: 45s\tremaining: 14.6s\n",
      "83:\tlearn: 0.1145492\ttotal: 45.5s\tremaining: 14.1s\n",
      "84:\tlearn: 0.1133091\ttotal: 46s\tremaining: 13.5s\n",
      "85:\tlearn: 0.1130134\ttotal: 46.4s\tremaining: 12.9s\n",
      "86:\tlearn: 0.1125861\ttotal: 47s\tremaining: 12.4s\n",
      "87:\tlearn: 0.1117914\ttotal: 47.5s\tremaining: 11.9s\n",
      "88:\tlearn: 0.1116200\ttotal: 48.1s\tremaining: 11.3s\n",
      "89:\tlearn: 0.1108482\ttotal: 48.5s\tremaining: 10.8s\n",
      "90:\tlearn: 0.1105540\ttotal: 49s\tremaining: 10.2s\n",
      "91:\tlearn: 0.1098874\ttotal: 49.5s\tremaining: 9.68s\n",
      "92:\tlearn: 0.1089824\ttotal: 50s\tremaining: 9.14s\n",
      "93:\tlearn: 0.1077997\ttotal: 50.5s\tremaining: 8.59s\n",
      "94:\tlearn: 0.1074428\ttotal: 51s\tremaining: 8.04s\n",
      "95:\tlearn: 0.1070000\ttotal: 51.4s\tremaining: 7.5s\n",
      "96:\tlearn: 0.1068978\ttotal: 51.8s\tremaining: 6.95s\n",
      "97:\tlearn: 0.1058605\ttotal: 52.3s\tremaining: 6.4s\n",
      "98:\tlearn: 0.1055986\ttotal: 52.8s\tremaining: 5.86s\n",
      "99:\tlearn: 0.1048340\ttotal: 53.2s\tremaining: 5.32s\n",
      "100:\tlearn: 0.1039956\ttotal: 53.7s\tremaining: 4.78s\n",
      "101:\tlearn: 0.1037807\ttotal: 54.3s\tremaining: 4.26s\n",
      "102:\tlearn: 0.1035575\ttotal: 54.7s\tremaining: 3.72s\n",
      "103:\tlearn: 0.1030426\ttotal: 55.1s\tremaining: 3.18s\n",
      "104:\tlearn: 0.1024443\ttotal: 55.7s\tremaining: 2.65s\n",
      "105:\tlearn: 0.1019221\ttotal: 56.2s\tremaining: 2.12s\n",
      "106:\tlearn: 0.1010433\ttotal: 56.7s\tremaining: 1.59s\n",
      "107:\tlearn: 0.1005327\ttotal: 57.2s\tremaining: 1.06s\n",
      "108:\tlearn: 0.1000555\ttotal: 57.7s\tremaining: 529ms\n",
      "109:\tlearn: 0.0998125\ttotal: 58.2s\tremaining: 0us\n",
      "Validation Accuracy: 0.9637692486838205\n",
      "0:\tlearn: 0.6181461\ttotal: 815ms\tremaining: 1m 28s\n",
      "1:\tlearn: 0.5565750\ttotal: 1.47s\tremaining: 1m 19s\n",
      "2:\tlearn: 0.5052322\ttotal: 2.09s\tremaining: 1m 14s\n",
      "3:\tlearn: 0.4622570\ttotal: 2.76s\tremaining: 1m 13s\n",
      "4:\tlearn: 0.4254548\ttotal: 3.41s\tremaining: 1m 11s\n",
      "5:\tlearn: 0.3940576\ttotal: 4.05s\tremaining: 1m 10s\n",
      "6:\tlearn: 0.3670054\ttotal: 4.65s\tremaining: 1m 8s\n",
      "7:\tlearn: 0.3433707\ttotal: 5.18s\tremaining: 1m 6s\n",
      "8:\tlearn: 0.3225833\ttotal: 5.71s\tremaining: 1m 4s\n",
      "9:\tlearn: 0.3048225\ttotal: 6.28s\tremaining: 1m 2s\n",
      "10:\tlearn: 0.2889601\ttotal: 6.87s\tremaining: 1m 1s\n",
      "11:\tlearn: 0.2754706\ttotal: 7.52s\tremaining: 1m 1s\n",
      "12:\tlearn: 0.2631442\ttotal: 8.03s\tremaining: 59.9s\n",
      "13:\tlearn: 0.2523485\ttotal: 8.62s\tremaining: 59.1s\n",
      "14:\tlearn: 0.2428495\ttotal: 9.14s\tremaining: 57.9s\n",
      "15:\tlearn: 0.2340299\ttotal: 9.64s\tremaining: 56.6s\n",
      "16:\tlearn: 0.2267406\ttotal: 10.2s\tremaining: 55.8s\n",
      "17:\tlearn: 0.2193471\ttotal: 10.7s\tremaining: 54.9s\n",
      "18:\tlearn: 0.2134042\ttotal: 11.3s\tremaining: 54.1s\n",
      "19:\tlearn: 0.2080840\ttotal: 11.9s\tremaining: 53.6s\n",
      "20:\tlearn: 0.2024965\ttotal: 12.4s\tremaining: 52.7s\n",
      "21:\tlearn: 0.1982433\ttotal: 13s\tremaining: 52.1s\n",
      "22:\tlearn: 0.1948485\ttotal: 13.6s\tremaining: 51.4s\n",
      "23:\tlearn: 0.1912603\ttotal: 14.1s\tremaining: 50.7s\n",
      "24:\tlearn: 0.1881394\ttotal: 14.8s\tremaining: 50.2s\n",
      "25:\tlearn: 0.1846059\ttotal: 15.2s\tremaining: 49.2s\n",
      "26:\tlearn: 0.1821356\ttotal: 15.8s\tremaining: 48.7s\n",
      "27:\tlearn: 0.1800879\ttotal: 16.4s\tremaining: 48s\n",
      "28:\tlearn: 0.1764283\ttotal: 16.9s\tremaining: 47.3s\n",
      "29:\tlearn: 0.1731893\ttotal: 17.4s\tremaining: 46.5s\n",
      "30:\tlearn: 0.1706547\ttotal: 18s\tremaining: 45.8s\n",
      "31:\tlearn: 0.1680177\ttotal: 18.5s\tremaining: 45s\n",
      "32:\tlearn: 0.1666714\ttotal: 19s\tremaining: 44.4s\n",
      "33:\tlearn: 0.1654215\ttotal: 19.6s\tremaining: 43.9s\n",
      "34:\tlearn: 0.1632399\ttotal: 20.1s\tremaining: 43.1s\n",
      "35:\tlearn: 0.1609689\ttotal: 20.7s\tremaining: 42.5s\n",
      "36:\tlearn: 0.1597459\ttotal: 21.3s\tremaining: 42.1s\n",
      "37:\tlearn: 0.1583699\ttotal: 21.8s\tremaining: 41.4s\n",
      "38:\tlearn: 0.1568676\ttotal: 22.4s\tremaining: 40.8s\n",
      "39:\tlearn: 0.1544342\ttotal: 22.9s\tremaining: 40s\n",
      "40:\tlearn: 0.1533893\ttotal: 23.4s\tremaining: 39.4s\n",
      "41:\tlearn: 0.1520091\ttotal: 23.9s\tremaining: 38.6s\n",
      "42:\tlearn: 0.1496714\ttotal: 24.3s\tremaining: 37.9s\n",
      "43:\tlearn: 0.1480183\ttotal: 24.8s\tremaining: 37.1s\n",
      "44:\tlearn: 0.1462034\ttotal: 25.3s\tremaining: 36.5s\n",
      "45:\tlearn: 0.1446235\ttotal: 25.8s\tremaining: 35.9s\n",
      "46:\tlearn: 0.1430776\ttotal: 26.4s\tremaining: 35.4s\n",
      "47:\tlearn: 0.1419600\ttotal: 26.8s\tremaining: 34.7s\n",
      "48:\tlearn: 0.1412212\ttotal: 27.4s\tremaining: 34.1s\n",
      "49:\tlearn: 0.1395268\ttotal: 27.9s\tremaining: 33.5s\n",
      "50:\tlearn: 0.1383123\ttotal: 28.4s\tremaining: 32.9s\n",
      "51:\tlearn: 0.1367042\ttotal: 28.9s\tremaining: 32.3s\n",
      "52:\tlearn: 0.1357255\ttotal: 29.4s\tremaining: 31.6s\n",
      "53:\tlearn: 0.1341824\ttotal: 29.9s\tremaining: 31s\n",
      "54:\tlearn: 0.1331795\ttotal: 30.4s\tremaining: 30.4s\n",
      "55:\tlearn: 0.1318438\ttotal: 31.1s\tremaining: 30s\n",
      "56:\tlearn: 0.1313795\ttotal: 31.7s\tremaining: 29.5s\n",
      "57:\tlearn: 0.1306554\ttotal: 32.2s\tremaining: 28.8s\n",
      "58:\tlearn: 0.1300363\ttotal: 32.7s\tremaining: 28.3s\n",
      "59:\tlearn: 0.1291917\ttotal: 33.4s\tremaining: 27.8s\n",
      "60:\tlearn: 0.1283561\ttotal: 33.9s\tremaining: 27.2s\n",
      "61:\tlearn: 0.1280447\ttotal: 34.3s\tremaining: 26.6s\n",
      "62:\tlearn: 0.1272626\ttotal: 34.8s\tremaining: 26s\n",
      "63:\tlearn: 0.1263360\ttotal: 35.3s\tremaining: 25.4s\n",
      "64:\tlearn: 0.1257406\ttotal: 35.8s\tremaining: 24.8s\n",
      "65:\tlearn: 0.1252518\ttotal: 36.3s\tremaining: 24.2s\n",
      "66:\tlearn: 0.1238301\ttotal: 36.8s\tremaining: 23.6s\n",
      "67:\tlearn: 0.1230731\ttotal: 37.3s\tremaining: 23s\n",
      "68:\tlearn: 0.1226929\ttotal: 37.8s\tremaining: 22.5s\n",
      "69:\tlearn: 0.1216717\ttotal: 38.4s\tremaining: 22s\n",
      "70:\tlearn: 0.1202539\ttotal: 38.9s\tremaining: 21.4s\n",
      "71:\tlearn: 0.1192266\ttotal: 39.4s\tremaining: 20.8s\n",
      "72:\tlearn: 0.1186308\ttotal: 39.8s\tremaining: 20.2s\n",
      "73:\tlearn: 0.1183156\ttotal: 40.3s\tremaining: 19.6s\n",
      "74:\tlearn: 0.1180807\ttotal: 40.7s\tremaining: 19s\n",
      "75:\tlearn: 0.1176599\ttotal: 41.3s\tremaining: 18.5s\n",
      "76:\tlearn: 0.1169543\ttotal: 41.9s\tremaining: 18s\n",
      "77:\tlearn: 0.1162920\ttotal: 42.4s\tremaining: 17.4s\n",
      "78:\tlearn: 0.1151731\ttotal: 42.9s\tremaining: 16.8s\n",
      "79:\tlearn: 0.1148047\ttotal: 43.5s\tremaining: 16.3s\n",
      "80:\tlearn: 0.1142776\ttotal: 44s\tremaining: 15.7s\n",
      "81:\tlearn: 0.1136024\ttotal: 44.5s\tremaining: 15.2s\n",
      "82:\tlearn: 0.1132640\ttotal: 45s\tremaining: 14.6s\n",
      "83:\tlearn: 0.1126941\ttotal: 45.5s\tremaining: 14.1s\n",
      "84:\tlearn: 0.1123829\ttotal: 46s\tremaining: 13.5s\n",
      "85:\tlearn: 0.1118560\ttotal: 46.7s\tremaining: 13s\n",
      "86:\tlearn: 0.1114293\ttotal: 47.4s\tremaining: 12.5s\n",
      "87:\tlearn: 0.1109757\ttotal: 47.9s\tremaining: 12s\n",
      "88:\tlearn: 0.1106353\ttotal: 48.4s\tremaining: 11.4s\n",
      "89:\tlearn: 0.1096519\ttotal: 48.8s\tremaining: 10.8s\n",
      "90:\tlearn: 0.1093831\ttotal: 49.4s\tremaining: 10.3s\n",
      "91:\tlearn: 0.1091051\ttotal: 49.9s\tremaining: 9.76s\n",
      "92:\tlearn: 0.1088763\ttotal: 50.5s\tremaining: 9.23s\n",
      "93:\tlearn: 0.1080788\ttotal: 50.9s\tremaining: 8.67s\n",
      "94:\tlearn: 0.1077329\ttotal: 51.4s\tremaining: 8.12s\n",
      "95:\tlearn: 0.1068130\ttotal: 51.9s\tremaining: 7.57s\n",
      "96:\tlearn: 0.1060455\ttotal: 52.4s\tremaining: 7.02s\n",
      "97:\tlearn: 0.1057435\ttotal: 52.8s\tremaining: 6.47s\n",
      "98:\tlearn: 0.1052817\ttotal: 53.3s\tremaining: 5.92s\n",
      "99:\tlearn: 0.1046944\ttotal: 53.8s\tremaining: 5.38s\n",
      "100:\tlearn: 0.1045842\ttotal: 54.2s\tremaining: 4.83s\n",
      "101:\tlearn: 0.1037886\ttotal: 54.7s\tremaining: 4.29s\n",
      "102:\tlearn: 0.1035450\ttotal: 55.1s\tremaining: 3.74s\n",
      "103:\tlearn: 0.1031726\ttotal: 55.9s\tremaining: 3.22s\n",
      "104:\tlearn: 0.1029791\ttotal: 56.4s\tremaining: 2.68s\n",
      "105:\tlearn: 0.1024440\ttotal: 56.9s\tremaining: 2.15s\n",
      "106:\tlearn: 0.1019142\ttotal: 57.4s\tremaining: 1.61s\n",
      "107:\tlearn: 0.1016556\ttotal: 57.9s\tremaining: 1.07s\n",
      "108:\tlearn: 0.1013333\ttotal: 58.4s\tremaining: 536ms\n",
      "109:\tlearn: 0.1004140\ttotal: 58.9s\tremaining: 0us\n",
      "Validation Accuracy: 0.9636018087061583\n",
      "0:\tlearn: 0.6181506\ttotal: 778ms\tremaining: 1m 24s\n",
      "1:\tlearn: 0.5566453\ttotal: 1.41s\tremaining: 1m 15s\n",
      "2:\tlearn: 0.5053549\ttotal: 2.33s\tremaining: 1m 23s\n",
      "3:\tlearn: 0.4620821\ttotal: 2.95s\tremaining: 1m 18s\n",
      "4:\tlearn: 0.4255895\ttotal: 3.89s\tremaining: 1m 21s\n",
      "5:\tlearn: 0.3938750\ttotal: 4.68s\tremaining: 1m 21s\n",
      "6:\tlearn: 0.3667058\ttotal: 5.44s\tremaining: 1m 20s\n",
      "7:\tlearn: 0.3430053\ttotal: 5.95s\tremaining: 1m 15s\n",
      "8:\tlearn: 0.3226731\ttotal: 6.78s\tremaining: 1m 16s\n",
      "9:\tlearn: 0.3047856\ttotal: 7.48s\tremaining: 1m 14s\n",
      "10:\tlearn: 0.2888741\ttotal: 8s\tremaining: 1m 12s\n",
      "11:\tlearn: 0.2752969\ttotal: 8.8s\tremaining: 1m 11s\n",
      "12:\tlearn: 0.2627178\ttotal: 9.34s\tremaining: 1m 9s\n",
      "13:\tlearn: 0.2521116\ttotal: 10.2s\tremaining: 1m 9s\n",
      "14:\tlearn: 0.2424221\ttotal: 10.7s\tremaining: 1m 7s\n",
      "15:\tlearn: 0.2335506\ttotal: 11.7s\tremaining: 1m 8s\n",
      "16:\tlearn: 0.2261899\ttotal: 12.5s\tremaining: 1m 8s\n",
      "17:\tlearn: 0.2190731\ttotal: 13.1s\tremaining: 1m 6s\n",
      "18:\tlearn: 0.2128997\ttotal: 13.7s\tremaining: 1m 5s\n",
      "19:\tlearn: 0.2077455\ttotal: 14.5s\tremaining: 1m 5s\n",
      "20:\tlearn: 0.2030993\ttotal: 15.1s\tremaining: 1m 4s\n",
      "21:\tlearn: 0.1981441\ttotal: 15.8s\tremaining: 1m 3s\n",
      "22:\tlearn: 0.1944137\ttotal: 16.4s\tremaining: 1m 1s\n",
      "23:\tlearn: 0.1910059\ttotal: 17.3s\tremaining: 1m 1s\n",
      "24:\tlearn: 0.1879548\ttotal: 17.9s\tremaining: 1m\n",
      "25:\tlearn: 0.1854618\ttotal: 18.6s\tremaining: 60s\n",
      "26:\tlearn: 0.1816908\ttotal: 19s\tremaining: 58.5s\n",
      "27:\tlearn: 0.1789822\ttotal: 19.5s\tremaining: 57.2s\n",
      "28:\tlearn: 0.1756963\ttotal: 20.4s\tremaining: 57.1s\n",
      "29:\tlearn: 0.1724288\ttotal: 20.9s\tremaining: 55.9s\n",
      "30:\tlearn: 0.1694778\ttotal: 21.5s\tremaining: 54.9s\n",
      "31:\tlearn: 0.1672602\ttotal: 22.2s\tremaining: 54.1s\n",
      "32:\tlearn: 0.1657523\ttotal: 23s\tremaining: 53.6s\n",
      "33:\tlearn: 0.1644601\ttotal: 23.7s\tremaining: 52.9s\n",
      "34:\tlearn: 0.1626528\ttotal: 24.2s\tremaining: 51.9s\n",
      "35:\tlearn: 0.1603697\ttotal: 24.9s\tremaining: 51.3s\n",
      "36:\tlearn: 0.1593612\ttotal: 25.6s\tremaining: 50.5s\n",
      "37:\tlearn: 0.1582075\ttotal: 26.3s\tremaining: 49.9s\n",
      "38:\tlearn: 0.1563685\ttotal: 26.8s\tremaining: 48.8s\n",
      "39:\tlearn: 0.1543622\ttotal: 27.6s\tremaining: 48.3s\n",
      "40:\tlearn: 0.1526999\ttotal: 28.2s\tremaining: 47.4s\n",
      "41:\tlearn: 0.1508294\ttotal: 28.8s\tremaining: 46.6s\n",
      "42:\tlearn: 0.1492221\ttotal: 29.3s\tremaining: 45.6s\n",
      "43:\tlearn: 0.1469848\ttotal: 30.1s\tremaining: 45.1s\n",
      "44:\tlearn: 0.1451717\ttotal: 30.6s\tremaining: 44.2s\n",
      "45:\tlearn: 0.1438038\ttotal: 31.3s\tremaining: 43.6s\n",
      "46:\tlearn: 0.1424025\ttotal: 31.8s\tremaining: 42.6s\n",
      "47:\tlearn: 0.1415397\ttotal: 32.4s\tremaining: 41.9s\n",
      "48:\tlearn: 0.1403758\ttotal: 33.1s\tremaining: 41.2s\n",
      "49:\tlearn: 0.1388144\ttotal: 33.7s\tremaining: 40.4s\n",
      "50:\tlearn: 0.1381617\ttotal: 34.5s\tremaining: 39.9s\n",
      "51:\tlearn: 0.1369957\ttotal: 35s\tremaining: 39s\n",
      "52:\tlearn: 0.1361025\ttotal: 35.9s\tremaining: 38.6s\n",
      "53:\tlearn: 0.1349303\ttotal: 36.4s\tremaining: 37.7s\n",
      "54:\tlearn: 0.1333355\ttotal: 37.1s\tremaining: 37.1s\n",
      "55:\tlearn: 0.1327362\ttotal: 37.8s\tremaining: 36.5s\n",
      "56:\tlearn: 0.1320145\ttotal: 38.3s\tremaining: 35.6s\n",
      "57:\tlearn: 0.1310934\ttotal: 39s\tremaining: 35s\n",
      "58:\tlearn: 0.1301361\ttotal: 39.5s\tremaining: 34.1s\n",
      "59:\tlearn: 0.1292037\ttotal: 40.1s\tremaining: 33.4s\n",
      "60:\tlearn: 0.1284740\ttotal: 40.6s\tremaining: 32.7s\n",
      "61:\tlearn: 0.1272327\ttotal: 41.1s\tremaining: 31.9s\n",
      "62:\tlearn: 0.1260411\ttotal: 41.7s\tremaining: 31.1s\n",
      "63:\tlearn: 0.1254502\ttotal: 42.1s\tremaining: 30.3s\n",
      "64:\tlearn: 0.1248294\ttotal: 42.7s\tremaining: 29.5s\n",
      "65:\tlearn: 0.1237920\ttotal: 43.2s\tremaining: 28.8s\n",
      "66:\tlearn: 0.1233171\ttotal: 43.8s\tremaining: 28.1s\n",
      "67:\tlearn: 0.1225681\ttotal: 44.3s\tremaining: 27.4s\n",
      "68:\tlearn: 0.1218638\ttotal: 44.8s\tremaining: 26.6s\n",
      "69:\tlearn: 0.1212265\ttotal: 45.3s\tremaining: 25.9s\n",
      "70:\tlearn: 0.1209340\ttotal: 45.7s\tremaining: 25.1s\n",
      "71:\tlearn: 0.1205556\ttotal: 46.3s\tremaining: 24.5s\n",
      "72:\tlearn: 0.1200883\ttotal: 47s\tremaining: 23.8s\n",
      "73:\tlearn: 0.1193448\ttotal: 47.7s\tremaining: 23.2s\n",
      "74:\tlearn: 0.1186094\ttotal: 48.2s\tremaining: 22.5s\n",
      "75:\tlearn: 0.1182841\ttotal: 48.8s\tremaining: 21.8s\n",
      "76:\tlearn: 0.1180119\ttotal: 49.3s\tremaining: 21.1s\n",
      "77:\tlearn: 0.1173252\ttotal: 49.8s\tremaining: 20.4s\n",
      "78:\tlearn: 0.1168026\ttotal: 50.3s\tremaining: 19.7s\n",
      "79:\tlearn: 0.1163436\ttotal: 50.8s\tremaining: 19.1s\n",
      "80:\tlearn: 0.1154555\ttotal: 51.3s\tremaining: 18.4s\n",
      "81:\tlearn: 0.1146048\ttotal: 51.8s\tremaining: 17.7s\n",
      "82:\tlearn: 0.1143168\ttotal: 52.3s\tremaining: 17s\n",
      "83:\tlearn: 0.1138353\ttotal: 52.8s\tremaining: 16.3s\n",
      "84:\tlearn: 0.1131408\ttotal: 53.3s\tremaining: 15.7s\n",
      "85:\tlearn: 0.1124381\ttotal: 53.7s\tremaining: 15s\n",
      "86:\tlearn: 0.1118050\ttotal: 54.2s\tremaining: 14.3s\n",
      "87:\tlearn: 0.1115687\ttotal: 54.9s\tremaining: 13.7s\n",
      "88:\tlearn: 0.1106667\ttotal: 55.4s\tremaining: 13.1s\n",
      "89:\tlearn: 0.1100799\ttotal: 55.8s\tremaining: 12.4s\n",
      "90:\tlearn: 0.1096244\ttotal: 56.2s\tremaining: 11.7s\n",
      "91:\tlearn: 0.1092693\ttotal: 56.7s\tremaining: 11.1s\n",
      "92:\tlearn: 0.1085450\ttotal: 57.2s\tremaining: 10.5s\n",
      "93:\tlearn: 0.1079853\ttotal: 57.6s\tremaining: 9.81s\n",
      "94:\tlearn: 0.1076618\ttotal: 58.1s\tremaining: 9.17s\n",
      "95:\tlearn: 0.1063826\ttotal: 58.6s\tremaining: 8.54s\n",
      "96:\tlearn: 0.1060768\ttotal: 59s\tremaining: 7.91s\n",
      "97:\tlearn: 0.1057395\ttotal: 59.5s\tremaining: 7.29s\n",
      "98:\tlearn: 0.1050278\ttotal: 1m\tremaining: 6.68s\n",
      "99:\tlearn: 0.1047797\ttotal: 1m\tremaining: 6.07s\n",
      "100:\tlearn: 0.1040804\ttotal: 1m 1s\tremaining: 5.45s\n",
      "101:\tlearn: 0.1035233\ttotal: 1m 1s\tremaining: 4.83s\n",
      "102:\tlearn: 0.1030616\ttotal: 1m 2s\tremaining: 4.22s\n",
      "103:\tlearn: 0.1025870\ttotal: 1m 2s\tremaining: 3.61s\n",
      "104:\tlearn: 0.1015314\ttotal: 1m 3s\tremaining: 3s\n",
      "105:\tlearn: 0.1012126\ttotal: 1m 3s\tremaining: 2.4s\n",
      "106:\tlearn: 0.1003955\ttotal: 1m 4s\tremaining: 1.79s\n",
      "107:\tlearn: 0.0999468\ttotal: 1m 4s\tremaining: 1.19s\n",
      "108:\tlearn: 0.0996930\ttotal: 1m 4s\tremaining: 596ms\n",
      "109:\tlearn: 0.0989978\ttotal: 1m 5s\tremaining: 0us\n",
      "Validation Accuracy: 0.9644756744053682\n",
      "0:\tlearn: 0.6181539\ttotal: 809ms\tremaining: 1m 28s\n",
      "1:\tlearn: 0.5566136\ttotal: 1.43s\tremaining: 1m 17s\n",
      "2:\tlearn: 0.5052471\ttotal: 2.06s\tremaining: 1m 13s\n",
      "3:\tlearn: 0.4622873\ttotal: 2.74s\tremaining: 1m 12s\n",
      "4:\tlearn: 0.4255232\ttotal: 3.35s\tremaining: 1m 10s\n",
      "5:\tlearn: 0.3939034\ttotal: 3.94s\tremaining: 1m 8s\n",
      "6:\tlearn: 0.3665393\ttotal: 4.46s\tremaining: 1m 5s\n",
      "7:\tlearn: 0.3430930\ttotal: 5.03s\tremaining: 1m 4s\n",
      "8:\tlearn: 0.3227812\ttotal: 5.63s\tremaining: 1m 3s\n",
      "9:\tlearn: 0.3047442\ttotal: 6.16s\tremaining: 1m 1s\n",
      "10:\tlearn: 0.2894111\ttotal: 6.71s\tremaining: 1m\n",
      "11:\tlearn: 0.2752911\ttotal: 7.22s\tremaining: 59s\n",
      "12:\tlearn: 0.2632485\ttotal: 7.84s\tremaining: 58.5s\n",
      "13:\tlearn: 0.2527998\ttotal: 8.41s\tremaining: 57.7s\n",
      "14:\tlearn: 0.2429887\ttotal: 8.98s\tremaining: 56.9s\n",
      "15:\tlearn: 0.2344292\ttotal: 9.56s\tremaining: 56.2s\n",
      "16:\tlearn: 0.2274112\ttotal: 10.1s\tremaining: 55.1s\n",
      "17:\tlearn: 0.2208321\ttotal: 10.7s\tremaining: 54.8s\n",
      "18:\tlearn: 0.2147649\ttotal: 11.2s\tremaining: 53.8s\n",
      "19:\tlearn: 0.2098624\ttotal: 11.8s\tremaining: 53.1s\n",
      "20:\tlearn: 0.2042922\ttotal: 12.3s\tremaining: 52.1s\n",
      "21:\tlearn: 0.1997783\ttotal: 12.9s\tremaining: 51.6s\n",
      "22:\tlearn: 0.1963957\ttotal: 13.5s\tremaining: 50.9s\n",
      "23:\tlearn: 0.1925614\ttotal: 14s\tremaining: 50.2s\n",
      "24:\tlearn: 0.1892370\ttotal: 14.6s\tremaining: 49.8s\n",
      "25:\tlearn: 0.1867897\ttotal: 15.3s\tremaining: 49.3s\n",
      "26:\tlearn: 0.1832383\ttotal: 15.7s\tremaining: 48.3s\n",
      "27:\tlearn: 0.1805857\ttotal: 16.3s\tremaining: 47.6s\n",
      "28:\tlearn: 0.1768298\ttotal: 16.8s\tremaining: 46.9s\n",
      "29:\tlearn: 0.1737414\ttotal: 17.3s\tremaining: 46.1s\n",
      "30:\tlearn: 0.1709537\ttotal: 17.9s\tremaining: 45.5s\n",
      "31:\tlearn: 0.1683702\ttotal: 18.3s\tremaining: 44.7s\n",
      "32:\tlearn: 0.1670161\ttotal: 18.9s\tremaining: 44.1s\n",
      "33:\tlearn: 0.1649514\ttotal: 19.4s\tremaining: 43.4s\n",
      "34:\tlearn: 0.1626813\ttotal: 20s\tremaining: 42.8s\n",
      "35:\tlearn: 0.1615512\ttotal: 20.5s\tremaining: 42.2s\n",
      "36:\tlearn: 0.1591824\ttotal: 21s\tremaining: 41.4s\n",
      "37:\tlearn: 0.1571396\ttotal: 21.6s\tremaining: 40.9s\n",
      "38:\tlearn: 0.1553139\ttotal: 22.1s\tremaining: 40.3s\n",
      "39:\tlearn: 0.1528587\ttotal: 22.6s\tremaining: 39.5s\n",
      "40:\tlearn: 0.1519178\ttotal: 23.2s\tremaining: 39s\n",
      "41:\tlearn: 0.1501973\ttotal: 23.6s\tremaining: 38.3s\n",
      "42:\tlearn: 0.1483694\ttotal: 24.1s\tremaining: 37.6s\n",
      "43:\tlearn: 0.1470524\ttotal: 24.7s\tremaining: 37.1s\n",
      "44:\tlearn: 0.1456172\ttotal: 25.2s\tremaining: 36.3s\n",
      "45:\tlearn: 0.1441644\ttotal: 25.6s\tremaining: 35.7s\n",
      "46:\tlearn: 0.1434271\ttotal: 26.2s\tremaining: 35.2s\n",
      "47:\tlearn: 0.1421117\ttotal: 26.8s\tremaining: 34.6s\n",
      "48:\tlearn: 0.1408253\ttotal: 27.2s\tremaining: 33.9s\n",
      "49:\tlearn: 0.1393275\ttotal: 27.7s\tremaining: 33.3s\n",
      "50:\tlearn: 0.1374583\ttotal: 28.2s\tremaining: 32.7s\n",
      "51:\tlearn: 0.1368460\ttotal: 28.9s\tremaining: 32.2s\n",
      "52:\tlearn: 0.1359602\ttotal: 29.3s\tremaining: 31.6s\n",
      "53:\tlearn: 0.1347604\ttotal: 29.8s\tremaining: 30.9s\n",
      "54:\tlearn: 0.1333962\ttotal: 30.4s\tremaining: 30.4s\n",
      "55:\tlearn: 0.1326841\ttotal: 30.9s\tremaining: 29.8s\n",
      "56:\tlearn: 0.1321777\ttotal: 31.4s\tremaining: 29.2s\n",
      "57:\tlearn: 0.1309572\ttotal: 31.9s\tremaining: 28.6s\n",
      "58:\tlearn: 0.1295589\ttotal: 32.5s\tremaining: 28.1s\n",
      "59:\tlearn: 0.1284668\ttotal: 32.9s\tremaining: 27.4s\n",
      "60:\tlearn: 0.1278402\ttotal: 33.5s\tremaining: 26.9s\n",
      "61:\tlearn: 0.1272108\ttotal: 34s\tremaining: 26.3s\n",
      "62:\tlearn: 0.1260498\ttotal: 34.6s\tremaining: 25.8s\n",
      "63:\tlearn: 0.1250654\ttotal: 35.1s\tremaining: 25.2s\n",
      "64:\tlearn: 0.1243535\ttotal: 35.6s\tremaining: 24.6s\n",
      "65:\tlearn: 0.1239342\ttotal: 36s\tremaining: 24s\n",
      "66:\tlearn: 0.1231903\ttotal: 36.6s\tremaining: 23.5s\n",
      "67:\tlearn: 0.1226642\ttotal: 37s\tremaining: 22.9s\n",
      "68:\tlearn: 0.1222291\ttotal: 37.6s\tremaining: 22.4s\n",
      "69:\tlearn: 0.1216222\ttotal: 38.3s\tremaining: 21.9s\n",
      "70:\tlearn: 0.1202141\ttotal: 38.8s\tremaining: 21.3s\n",
      "71:\tlearn: 0.1198315\ttotal: 39.4s\tremaining: 20.8s\n",
      "72:\tlearn: 0.1186865\ttotal: 39.9s\tremaining: 20.2s\n",
      "73:\tlearn: 0.1178045\ttotal: 40.4s\tremaining: 19.6s\n",
      "74:\tlearn: 0.1172549\ttotal: 40.9s\tremaining: 19.1s\n",
      "75:\tlearn: 0.1169677\ttotal: 41.5s\tremaining: 18.6s\n",
      "76:\tlearn: 0.1163519\ttotal: 42s\tremaining: 18s\n",
      "77:\tlearn: 0.1158923\ttotal: 42.7s\tremaining: 17.5s\n",
      "78:\tlearn: 0.1154029\ttotal: 43.2s\tremaining: 16.9s\n",
      "79:\tlearn: 0.1152541\ttotal: 43.6s\tremaining: 16.4s\n",
      "80:\tlearn: 0.1146352\ttotal: 44.1s\tremaining: 15.8s\n",
      "81:\tlearn: 0.1137197\ttotal: 44.7s\tremaining: 15.3s\n",
      "82:\tlearn: 0.1131705\ttotal: 45.2s\tremaining: 14.7s\n",
      "83:\tlearn: 0.1122202\ttotal: 45.6s\tremaining: 14.1s\n",
      "84:\tlearn: 0.1119597\ttotal: 46.2s\tremaining: 13.6s\n",
      "85:\tlearn: 0.1116019\ttotal: 46.7s\tremaining: 13s\n",
      "86:\tlearn: 0.1105746\ttotal: 47.2s\tremaining: 12.5s\n",
      "87:\tlearn: 0.1103065\ttotal: 47.6s\tremaining: 11.9s\n",
      "88:\tlearn: 0.1096741\ttotal: 48.1s\tremaining: 11.3s\n",
      "89:\tlearn: 0.1089153\ttotal: 48.6s\tremaining: 10.8s\n",
      "90:\tlearn: 0.1081089\ttotal: 49s\tremaining: 10.2s\n",
      "91:\tlearn: 0.1071325\ttotal: 49.6s\tremaining: 9.7s\n",
      "92:\tlearn: 0.1067785\ttotal: 50s\tremaining: 9.14s\n",
      "93:\tlearn: 0.1059541\ttotal: 50.5s\tremaining: 8.6s\n",
      "94:\tlearn: 0.1054589\ttotal: 51s\tremaining: 8.05s\n",
      "95:\tlearn: 0.1050956\ttotal: 51.5s\tremaining: 7.5s\n",
      "96:\tlearn: 0.1047203\ttotal: 52s\tremaining: 6.97s\n",
      "97:\tlearn: 0.1044487\ttotal: 52.6s\tremaining: 6.44s\n",
      "98:\tlearn: 0.1041576\ttotal: 53s\tremaining: 5.89s\n",
      "99:\tlearn: 0.1037241\ttotal: 53.7s\tremaining: 5.37s\n",
      "100:\tlearn: 0.1031929\ttotal: 54.1s\tremaining: 4.82s\n",
      "101:\tlearn: 0.1023195\ttotal: 54.7s\tremaining: 4.29s\n",
      "102:\tlearn: 0.1016709\ttotal: 55.2s\tremaining: 3.75s\n",
      "103:\tlearn: 0.1011388\ttotal: 55.8s\tremaining: 3.22s\n",
      "104:\tlearn: 0.1008886\ttotal: 56.3s\tremaining: 2.68s\n",
      "105:\tlearn: 0.1002431\ttotal: 56.9s\tremaining: 2.15s\n",
      "106:\tlearn: 0.0995854\ttotal: 57.4s\tremaining: 1.61s\n",
      "107:\tlearn: 0.0992395\ttotal: 57.8s\tremaining: 1.07s\n",
      "108:\tlearn: 0.0985656\ttotal: 58.3s\tremaining: 535ms\n",
      "109:\tlearn: 0.0984831\ttotal: 58.8s\tremaining: 0us\n",
      "Validation Accuracy: 0.9643837535434081\n",
      "0:\tlearn: 0.6181458\ttotal: 772ms\tremaining: 1m 24s\n",
      "1:\tlearn: 0.5565907\ttotal: 1.39s\tremaining: 1m 15s\n",
      "2:\tlearn: 0.5052625\ttotal: 2.02s\tremaining: 1m 12s\n",
      "3:\tlearn: 0.4622578\ttotal: 2.67s\tremaining: 1m 10s\n",
      "4:\tlearn: 0.4254013\ttotal: 3.26s\tremaining: 1m 8s\n",
      "5:\tlearn: 0.3938846\ttotal: 3.88s\tremaining: 1m 7s\n",
      "6:\tlearn: 0.3666939\ttotal: 4.44s\tremaining: 1m 5s\n",
      "7:\tlearn: 0.3432946\ttotal: 5.13s\tremaining: 1m 5s\n",
      "8:\tlearn: 0.3224596\ttotal: 5.67s\tremaining: 1m 3s\n",
      "9:\tlearn: 0.3044879\ttotal: 6.2s\tremaining: 1m 1s\n",
      "10:\tlearn: 0.2886553\ttotal: 6.8s\tremaining: 1m 1s\n",
      "11:\tlearn: 0.2749969\ttotal: 7.43s\tremaining: 1m\n",
      "12:\tlearn: 0.2628790\ttotal: 7.95s\tremaining: 59.4s\n",
      "13:\tlearn: 0.2521604\ttotal: 8.5s\tremaining: 58.3s\n",
      "14:\tlearn: 0.2428240\ttotal: 9.32s\tremaining: 59s\n",
      "15:\tlearn: 0.2341128\ttotal: 9.86s\tremaining: 57.9s\n",
      "16:\tlearn: 0.2267534\ttotal: 10.8s\tremaining: 59s\n",
      "17:\tlearn: 0.2199302\ttotal: 11.5s\tremaining: 59s\n",
      "18:\tlearn: 0.2134363\ttotal: 12s\tremaining: 57.7s\n",
      "19:\tlearn: 0.2087297\ttotal: 12.9s\tremaining: 57.9s\n",
      "20:\tlearn: 0.2030438\ttotal: 13.4s\tremaining: 56.7s\n",
      "21:\tlearn: 0.1987251\ttotal: 14.2s\tremaining: 56.9s\n",
      "22:\tlearn: 0.1947342\ttotal: 15s\tremaining: 56.8s\n",
      "23:\tlearn: 0.1915187\ttotal: 15.7s\tremaining: 56.1s\n",
      "24:\tlearn: 0.1878263\ttotal: 16.3s\tremaining: 55.6s\n",
      "25:\tlearn: 0.1851747\ttotal: 17.1s\tremaining: 55.1s\n",
      "26:\tlearn: 0.1828973\ttotal: 17.6s\tremaining: 54.2s\n",
      "27:\tlearn: 0.1798243\ttotal: 18.1s\tremaining: 53.1s\n",
      "28:\tlearn: 0.1771323\ttotal: 18.6s\tremaining: 52s\n",
      "29:\tlearn: 0.1735184\ttotal: 19.1s\tremaining: 51.1s\n",
      "30:\tlearn: 0.1704656\ttotal: 19.7s\tremaining: 50.1s\n",
      "31:\tlearn: 0.1680714\ttotal: 20.1s\tremaining: 49s\n",
      "32:\tlearn: 0.1659177\ttotal: 20.6s\tremaining: 48.1s\n",
      "33:\tlearn: 0.1640892\ttotal: 21.3s\tremaining: 47.6s\n",
      "34:\tlearn: 0.1628587\ttotal: 21.9s\tremaining: 46.8s\n",
      "35:\tlearn: 0.1601362\ttotal: 22.3s\tremaining: 45.9s\n",
      "36:\tlearn: 0.1587525\ttotal: 22.9s\tremaining: 45.1s\n",
      "37:\tlearn: 0.1570874\ttotal: 23.4s\tremaining: 44.4s\n",
      "38:\tlearn: 0.1557308\ttotal: 24s\tremaining: 43.7s\n",
      "39:\tlearn: 0.1531130\ttotal: 24.5s\tremaining: 42.9s\n",
      "40:\tlearn: 0.1517237\ttotal: 25.1s\tremaining: 42.2s\n",
      "41:\tlearn: 0.1498164\ttotal: 25.5s\tremaining: 41.3s\n",
      "42:\tlearn: 0.1480235\ttotal: 26s\tremaining: 40.5s\n",
      "43:\tlearn: 0.1467532\ttotal: 26.5s\tremaining: 39.7s\n",
      "44:\tlearn: 0.1445780\ttotal: 27s\tremaining: 39s\n",
      "45:\tlearn: 0.1438220\ttotal: 27.7s\tremaining: 38.5s\n",
      "46:\tlearn: 0.1428428\ttotal: 28.2s\tremaining: 37.8s\n",
      "47:\tlearn: 0.1413441\ttotal: 28.7s\tremaining: 37.1s\n",
      "48:\tlearn: 0.1400880\ttotal: 29.2s\tremaining: 36.3s\n",
      "49:\tlearn: 0.1394151\ttotal: 29.8s\tremaining: 35.7s\n",
      "50:\tlearn: 0.1382269\ttotal: 30.2s\tremaining: 35s\n",
      "51:\tlearn: 0.1367795\ttotal: 30.8s\tremaining: 34.3s\n",
      "52:\tlearn: 0.1355527\ttotal: 31.3s\tremaining: 33.7s\n",
      "53:\tlearn: 0.1345824\ttotal: 31.9s\tremaining: 33.1s\n",
      "54:\tlearn: 0.1340563\ttotal: 32.4s\tremaining: 32.4s\n",
      "55:\tlearn: 0.1329328\ttotal: 33s\tremaining: 31.9s\n",
      "56:\tlearn: 0.1313851\ttotal: 33.6s\tremaining: 31.2s\n",
      "57:\tlearn: 0.1303371\ttotal: 34.1s\tremaining: 30.6s\n",
      "58:\tlearn: 0.1288924\ttotal: 34.7s\tremaining: 30s\n",
      "59:\tlearn: 0.1281977\ttotal: 35.1s\tremaining: 29.3s\n",
      "60:\tlearn: 0.1273219\ttotal: 35.6s\tremaining: 28.6s\n",
      "61:\tlearn: 0.1265707\ttotal: 36.1s\tremaining: 28s\n",
      "62:\tlearn: 0.1257609\ttotal: 36.8s\tremaining: 27.4s\n",
      "63:\tlearn: 0.1251869\ttotal: 37.3s\tremaining: 26.8s\n",
      "64:\tlearn: 0.1248793\ttotal: 37.8s\tremaining: 26.2s\n",
      "65:\tlearn: 0.1240259\ttotal: 38.3s\tremaining: 25.5s\n",
      "66:\tlearn: 0.1229274\ttotal: 38.9s\tremaining: 24.9s\n",
      "67:\tlearn: 0.1225027\ttotal: 39.4s\tremaining: 24.4s\n",
      "68:\tlearn: 0.1216367\ttotal: 40.1s\tremaining: 23.8s\n",
      "69:\tlearn: 0.1208267\ttotal: 40.6s\tremaining: 23.2s\n",
      "70:\tlearn: 0.1203031\ttotal: 41.1s\tremaining: 22.6s\n",
      "71:\tlearn: 0.1200127\ttotal: 41.6s\tremaining: 22s\n",
      "72:\tlearn: 0.1193771\ttotal: 42.4s\tremaining: 21.5s\n",
      "73:\tlearn: 0.1189325\ttotal: 42.9s\tremaining: 20.9s\n",
      "74:\tlearn: 0.1182102\ttotal: 43.4s\tremaining: 20.2s\n",
      "75:\tlearn: 0.1180592\ttotal: 43.9s\tremaining: 19.6s\n",
      "76:\tlearn: 0.1172119\ttotal: 44.4s\tremaining: 19s\n",
      "77:\tlearn: 0.1167585\ttotal: 44.9s\tremaining: 18.4s\n",
      "78:\tlearn: 0.1163553\ttotal: 45.5s\tremaining: 17.8s\n",
      "79:\tlearn: 0.1160582\ttotal: 46.2s\tremaining: 17.3s\n",
      "80:\tlearn: 0.1154251\ttotal: 47.9s\tremaining: 17.1s\n",
      "81:\tlearn: 0.1150743\ttotal: 48.8s\tremaining: 16.6s\n",
      "82:\tlearn: 0.1148494\ttotal: 49.8s\tremaining: 16.2s\n",
      "83:\tlearn: 0.1144466\ttotal: 50.4s\tremaining: 15.6s\n",
      "84:\tlearn: 0.1140969\ttotal: 51s\tremaining: 15s\n",
      "85:\tlearn: 0.1139763\ttotal: 51.6s\tremaining: 14.4s\n",
      "86:\tlearn: 0.1128905\ttotal: 52.3s\tremaining: 13.8s\n",
      "87:\tlearn: 0.1124834\ttotal: 53s\tremaining: 13.2s\n",
      "88:\tlearn: 0.1119321\ttotal: 53.7s\tremaining: 12.7s\n",
      "89:\tlearn: 0.1114129\ttotal: 54.2s\tremaining: 12s\n",
      "90:\tlearn: 0.1110571\ttotal: 54.8s\tremaining: 11.4s\n",
      "91:\tlearn: 0.1107238\ttotal: 55.7s\tremaining: 10.9s\n",
      "92:\tlearn: 0.1100751\ttotal: 56.7s\tremaining: 10.4s\n",
      "93:\tlearn: 0.1095903\ttotal: 57.3s\tremaining: 9.75s\n",
      "94:\tlearn: 0.1084293\ttotal: 57.9s\tremaining: 9.13s\n",
      "95:\tlearn: 0.1081703\ttotal: 58.8s\tremaining: 8.57s\n",
      "96:\tlearn: 0.1078882\ttotal: 59.3s\tremaining: 7.94s\n",
      "97:\tlearn: 0.1075742\ttotal: 59.8s\tremaining: 7.33s\n",
      "98:\tlearn: 0.1066103\ttotal: 1m\tremaining: 6.74s\n",
      "99:\tlearn: 0.1056308\ttotal: 1m 1s\tremaining: 6.12s\n",
      "100:\tlearn: 0.1048321\ttotal: 1m 1s\tremaining: 5.5s\n",
      "101:\tlearn: 0.1042624\ttotal: 1m 2s\tremaining: 4.91s\n",
      "102:\tlearn: 0.1035145\ttotal: 1m 3s\tremaining: 4.29s\n",
      "103:\tlearn: 0.1025769\ttotal: 1m 4s\tremaining: 3.7s\n",
      "104:\tlearn: 0.1019199\ttotal: 1m 5s\tremaining: 3.13s\n",
      "105:\tlearn: 0.1016371\ttotal: 1m 6s\tremaining: 2.5s\n",
      "106:\tlearn: 0.1009185\ttotal: 1m 6s\tremaining: 1.88s\n",
      "107:\tlearn: 0.1004786\ttotal: 1m 7s\tremaining: 1.25s\n",
      "108:\tlearn: 0.0998125\ttotal: 1m 8s\tremaining: 627ms\n",
      "109:\tlearn: 0.0995705\ttotal: 1m 8s\tremaining: 0us\n",
      "Validation Accuracy: 0.964265544373517\n",
      "[0.9637692486838205, 0.9636018087061583, 0.9644756744053682, 0.9643837535434081, 0.964265544373517]\n"
     ]
    }
   ],
   "source": [
    "# Create a stratified K-Folds cross-validator\n",
    "# kf = StratifiedKFold(n_splits=5, shuffle=True, random_state=42)\n",
    "# # categorical_columns = df.drop('DepartureDiffCategory', axis=1).select_dtypes('category').columns.tolist()\n",
    "# categorical_columns = df.select_dtypes('category').columns.tolist()\n",
    "# # \n",
    "# cv_scores = []\n",
    "# # \n",
    "# # # Iterate over each fold\n",
    "# for train_index, val_index in kf.split(X, y):\n",
    "#     X_train, X_val = X.iloc[train_index], X.iloc[val_index]\n",
    "#     y_train, y_val = y.iloc[train_index], y.iloc[val_index]\n",
    "# \n",
    "#     model = CatBoostClassifier(task_type = 'GPU',\n",
    "#                                iterations=110, \n",
    "#                                depth=12, \n",
    "#                                learning_rate=0.1, \n",
    "#                                loss_function='MultiClass',\n",
    "#                                cat_features=categorical_columns,\n",
    "#                                verbose=False)\n",
    "#     model.fit(X_train, y_train)\n",
    "# \n",
    "#     y_pred = model.predict(X_val)\n",
    "#     accuracy = accuracy_score(y_val, y_pred)\n",
    "#     cv_scores.append(accuracy)\n",
    "#     print(f\"Validation Accuracy: {accuracy}\")\n",
    "# \n",
    "# print(cv_scores)\n"
   ]
  },
  {
   "cell_type": "markdown",
   "id": "9523631aa7b3d7ad",
   "metadata": {},
   "source": [
    "# Support Vector Machine (Dropped)\n",
    "We tried SVM and it takes forever to fit. Waited more than 4 hours but in vain. After searching on the internet, we found that SVM are computationally very costly and are not suitable for large datasets. It performs Logistic regression on the SVM’s scores, to get the probabilities, resulting in higher computation. Since our dataset is approxiamtely 28m rows long, SVM is not a suitable approach. SVM works well on data with small number of rows but many features.\n",
    "Other models are providing promising results as well, so there is no need to implement this model."
   ]
  },
  {
   "cell_type": "markdown",
   "id": "d957f5e69893a31b",
   "metadata": {},
   "source": [
    "## Preliminaries"
   ]
  },
  {
   "cell_type": "markdown",
   "id": "52fc161d739e1d49",
   "metadata": {},
   "source": [
    "### Loading in The Dataset"
   ]
  },
  {
   "cell_type": "code",
   "execution_count": 90,
   "id": "f3ed2c6f79c87cde",
   "metadata": {
    "ExecuteTime": {
     "end_time": "2024-11-26T11:20:27.316725Z",
     "start_time": "2024-11-26T11:20:25.112600Z"
    }
   },
   "outputs": [
    {
     "name": "stdout",
     "output_type": "stream",
     "text": [
      "<class 'pandas.core.frame.DataFrame'>\n",
      "RangeIndex: 28339596 entries, 0 to 28339595\n",
      "Data columns (total 23 columns):\n",
      " #   Column             Dtype   \n",
      "---  ------             -----   \n",
      " 0   Airline            category\n",
      " 1   Origin             category\n",
      " 2   Dest               category\n",
      " 3   CRSDepTime         int16   \n",
      " 4   DepTime            int16   \n",
      " 5   DepDel15           bool    \n",
      " 6   ArrTime            int16   \n",
      " 7   ArrDel15           bool    \n",
      " 8   AirTime            int16   \n",
      " 9   CRSElapsedTime     int16   \n",
      " 10  ActualElapsedTime  int16   \n",
      " 11  Distance           int16   \n",
      " 12  Year               category\n",
      " 13  Quarter            category\n",
      " 14  Month              category\n",
      " 15  DayofMonth         category\n",
      " 16  DayOfWeek          category\n",
      " 17  DepTimeBlk         category\n",
      " 18  ArrTimeBlk         category\n",
      " 19  TaxiOut            int16   \n",
      " 20  TaxiIn             int16   \n",
      " 21  CRSDepTimeMin      int16   \n",
      " 22  DepTimeMin         int16   \n",
      "dtypes: bool(2), category(10), int16(11)\n",
      "memory usage: 973.0 MB\n"
     ]
    }
   ],
   "source": [
    "df = pd.read_parquet('dataset/model_ready_data_airlines.parquet')\n",
    "df.info()"
   ]
  },
  {
   "cell_type": "markdown",
   "id": "2d9fd714f4033036",
   "metadata": {},
   "source": [
    "## Data Preprocessing"
   ]
  },
  {
   "cell_type": "markdown",
   "id": "cbab8f1eb3ab26f7",
   "metadata": {},
   "source": [
    "### Handling Categoricals\n",
    "We will use **Frequency Encoding** which maps the values based on their occurences. Using something like label encoding won't be feasible for us as our categorical data is nominal."
   ]
  },
  {
   "cell_type": "code",
   "execution_count": 91,
   "id": "9a70701fca34276a",
   "metadata": {
    "ExecuteTime": {
     "end_time": "2024-11-26T11:21:08.319353Z",
     "start_time": "2024-11-26T11:21:06.529329Z"
    }
   },
   "outputs": [
    {
     "data": {
      "text/html": [
       "<div>\n",
       "<style scoped>\n",
       "    .dataframe tbody tr th:only-of-type {\n",
       "        vertical-align: middle;\n",
       "    }\n",
       "\n",
       "    .dataframe tbody tr th {\n",
       "        vertical-align: top;\n",
       "    }\n",
       "\n",
       "    .dataframe thead th {\n",
       "        text-align: right;\n",
       "    }\n",
       "</style>\n",
       "<table border=\"1\" class=\"dataframe\">\n",
       "  <thead>\n",
       "    <tr style=\"text-align: right;\">\n",
       "      <th></th>\n",
       "      <th>Airline</th>\n",
       "      <th>Origin</th>\n",
       "      <th>Dest</th>\n",
       "      <th>CRSDepTime</th>\n",
       "      <th>DepTime</th>\n",
       "      <th>DepDel15</th>\n",
       "      <th>ArrTime</th>\n",
       "      <th>ArrDel15</th>\n",
       "      <th>AirTime</th>\n",
       "      <th>CRSElapsedTime</th>\n",
       "      <th>ActualElapsedTime</th>\n",
       "      <th>Distance</th>\n",
       "      <th>Year</th>\n",
       "      <th>Quarter</th>\n",
       "      <th>Month</th>\n",
       "      <th>DayofMonth</th>\n",
       "      <th>DayOfWeek</th>\n",
       "      <th>DepTimeBlk</th>\n",
       "      <th>ArrTimeBlk</th>\n",
       "      <th>TaxiOut</th>\n",
       "      <th>TaxiIn</th>\n",
       "      <th>CRSDepTimeMin</th>\n",
       "      <th>DepTimeMin</th>\n",
       "    </tr>\n",
       "  </thead>\n",
       "  <tbody>\n",
       "    <tr>\n",
       "      <th>0</th>\n",
       "      <td>974640</td>\n",
       "      <td>3832</td>\n",
       "      <td>1347297</td>\n",
       "      <td>1202</td>\n",
       "      <td>1157</td>\n",
       "      <td>False</td>\n",
       "      <td>1256</td>\n",
       "      <td>False</td>\n",
       "      <td>38</td>\n",
       "      <td>62</td>\n",
       "      <td>59</td>\n",
       "      <td>145</td>\n",
       "      <td>5578617</td>\n",
       "      <td>7510343</td>\n",
       "      <td>2612385</td>\n",
       "      <td>935588</td>\n",
       "      <td>3938876</td>\n",
       "      <td>1762065</td>\n",
       "      <td>1731082</td>\n",
       "      <td>14</td>\n",
       "      <td>7</td>\n",
       "      <td>722</td>\n",
       "      <td>717</td>\n",
       "    </tr>\n",
       "    <tr>\n",
       "      <th>1</th>\n",
       "      <td>974640</td>\n",
       "      <td>3832</td>\n",
       "      <td>1347297</td>\n",
       "      <td>1202</td>\n",
       "      <td>1157</td>\n",
       "      <td>False</td>\n",
       "      <td>1258</td>\n",
       "      <td>False</td>\n",
       "      <td>36</td>\n",
       "      <td>62</td>\n",
       "      <td>61</td>\n",
       "      <td>145</td>\n",
       "      <td>5578617</td>\n",
       "      <td>7510343</td>\n",
       "      <td>2612385</td>\n",
       "      <td>936001</td>\n",
       "      <td>4004742</td>\n",
       "      <td>1762065</td>\n",
       "      <td>1731082</td>\n",
       "      <td>13</td>\n",
       "      <td>12</td>\n",
       "      <td>722</td>\n",
       "      <td>717</td>\n",
       "    </tr>\n",
       "    <tr>\n",
       "      <th>2</th>\n",
       "      <td>974640</td>\n",
       "      <td>3832</td>\n",
       "      <td>1347297</td>\n",
       "      <td>1202</td>\n",
       "      <td>1153</td>\n",
       "      <td>False</td>\n",
       "      <td>1302</td>\n",
       "      <td>False</td>\n",
       "      <td>40</td>\n",
       "      <td>62</td>\n",
       "      <td>69</td>\n",
       "      <td>145</td>\n",
       "      <td>5578617</td>\n",
       "      <td>7510343</td>\n",
       "      <td>2612385</td>\n",
       "      <td>919963</td>\n",
       "      <td>4196961</td>\n",
       "      <td>1762065</td>\n",
       "      <td>1731082</td>\n",
       "      <td>18</td>\n",
       "      <td>11</td>\n",
       "      <td>722</td>\n",
       "      <td>713</td>\n",
       "    </tr>\n",
       "    <tr>\n",
       "      <th>3</th>\n",
       "      <td>974640</td>\n",
       "      <td>3832</td>\n",
       "      <td>1347297</td>\n",
       "      <td>1202</td>\n",
       "      <td>1150</td>\n",
       "      <td>False</td>\n",
       "      <td>1253</td>\n",
       "      <td>False</td>\n",
       "      <td>35</td>\n",
       "      <td>62</td>\n",
       "      <td>63</td>\n",
       "      <td>145</td>\n",
       "      <td>5578617</td>\n",
       "      <td>7510343</td>\n",
       "      <td>2612385</td>\n",
       "      <td>926470</td>\n",
       "      <td>4228403</td>\n",
       "      <td>1762065</td>\n",
       "      <td>1731082</td>\n",
       "      <td>17</td>\n",
       "      <td>11</td>\n",
       "      <td>722</td>\n",
       "      <td>710</td>\n",
       "    </tr>\n",
       "    <tr>\n",
       "      <th>4</th>\n",
       "      <td>974640</td>\n",
       "      <td>3832</td>\n",
       "      <td>1347297</td>\n",
       "      <td>1400</td>\n",
       "      <td>1355</td>\n",
       "      <td>False</td>\n",
       "      <td>1459</td>\n",
       "      <td>False</td>\n",
       "      <td>36</td>\n",
       "      <td>60</td>\n",
       "      <td>64</td>\n",
       "      <td>145</td>\n",
       "      <td>5578617</td>\n",
       "      <td>7510343</td>\n",
       "      <td>2612385</td>\n",
       "      <td>932286</td>\n",
       "      <td>3618711</td>\n",
       "      <td>1731826</td>\n",
       "      <td>1662965</td>\n",
       "      <td>17</td>\n",
       "      <td>11</td>\n",
       "      <td>840</td>\n",
       "      <td>835</td>\n",
       "    </tr>\n",
       "  </tbody>\n",
       "</table>\n",
       "</div>"
      ],
      "text/plain": [
       "  Airline  Origin     Dest  CRSDepTime  DepTime  DepDel15  ArrTime  ArrDel15  \\\n",
       "0  974640    3832  1347297        1202     1157     False     1256     False   \n",
       "1  974640    3832  1347297        1202     1157     False     1258     False   \n",
       "2  974640    3832  1347297        1202     1153     False     1302     False   \n",
       "3  974640    3832  1347297        1202     1150     False     1253     False   \n",
       "4  974640    3832  1347297        1400     1355     False     1459     False   \n",
       "\n",
       "   AirTime  CRSElapsedTime  ActualElapsedTime  Distance     Year  Quarter  \\\n",
       "0       38              62                 59       145  5578617  7510343   \n",
       "1       36              62                 61       145  5578617  7510343   \n",
       "2       40              62                 69       145  5578617  7510343   \n",
       "3       35              62                 63       145  5578617  7510343   \n",
       "4       36              60                 64       145  5578617  7510343   \n",
       "\n",
       "     Month DayofMonth DayOfWeek DepTimeBlk ArrTimeBlk  TaxiOut  TaxiIn  \\\n",
       "0  2612385     935588   3938876    1762065    1731082       14       7   \n",
       "1  2612385     936001   4004742    1762065    1731082       13      12   \n",
       "2  2612385     919963   4196961    1762065    1731082       18      11   \n",
       "3  2612385     926470   4228403    1762065    1731082       17      11   \n",
       "4  2612385     932286   3618711    1731826    1662965       17      11   \n",
       "\n",
       "   CRSDepTimeMin  DepTimeMin  \n",
       "0            722         717  \n",
       "1            722         717  \n",
       "2            722         713  \n",
       "3            722         710  \n",
       "4            840         835  "
      ]
     },
     "execution_count": 91,
     "metadata": {},
     "output_type": "execute_result"
    }
   ],
   "source": [
    "categorical_columns = df.select_dtypes('category').columns.tolist()\n",
    "\n",
    "for col in categorical_columns:\n",
    "    df[col] = df[col].map(df[col].value_counts())\n",
    "\n",
    "df.head()"
   ]
  },
  {
   "cell_type": "markdown",
   "id": "9ae1b18c4a16d435",
   "metadata": {},
   "source": [
    "### Training Test Split\n",
    "Since, we have a lot of data (~28M rows), We will split Training and Testing into 80|20 and then split Training into 80|20 for validation."
   ]
  },
  {
   "cell_type": "code",
   "execution_count": 92,
   "id": "9c5ec1fd8033f8b2",
   "metadata": {
    "ExecuteTime": {
     "end_time": "2024-11-26T11:21:37.426045Z",
     "start_time": "2024-11-26T11:21:11.385180Z"
    }
   },
   "outputs": [
    {
     "name": "stdout",
     "output_type": "stream",
     "text": [
      "Training/Test split  (22671676, 22) (22671676,) (5667920, 22) (5667920,)\n",
      "Training/Validation split  (18137340, 22) (18137340,) (4534336, 22) (4534336,)\n"
     ]
    }
   ],
   "source": [
    "X = df.drop('DepDel15', axis=1)\n",
    "y = df['DepDel15']\n",
    "\n",
    "# We will stratify y to cater the imbalance\n",
    "# Training/Test split\n",
    "X_train, X_test, y_train, y_test = train_test_split(X, y, test_size=0.2, random_state=42, stratify=y)\n",
    "print(\"Training/Test split \", X_train.shape, y_train.shape, X_test.shape, y_test.shape)\n",
    "\n",
    "# Training/Validation split\n",
    "X_train, X_val, y_train, y_val = train_test_split(X_train, y_train, test_size=0.2, random_state=42, stratify=y_train)\n",
    "print(\"Training/Validation split \", X_train.shape, y_train.shape, X_val.shape, y_val.shape)"
   ]
  },
  {
   "cell_type": "markdown",
   "id": "8444bf37aeb5d451",
   "metadata": {},
   "source": [
    "## Modeling"
   ]
  },
  {
   "cell_type": "markdown",
   "id": "26fe091c8454f457",
   "metadata": {},
   "source": [
    "### Model Pipeline"
   ]
  },
  {
   "cell_type": "code",
   "execution_count": 12,
   "id": "b0fe2082d86dcc45",
   "metadata": {
    "ExecuteTime": {
     "end_time": "2024-11-26T18:33:53.785780Z",
     "start_time": "2024-11-26T18:33:53.576492Z"
    }
   },
   "outputs": [],
   "source": [
    "svm_pipeline = Pipeline([\n",
    "    # ('rus', RandomUnderSampler(random_state=42)),\n",
    "    # ('smote', SMOTE(random_state=42)),\n",
    "    ('scaler', StandardScaler()),\n",
    "    ('svm', SVC(kernel='linear', probability=True))\n",
    "])"
   ]
  },
  {
   "cell_type": "markdown",
   "id": "47b200373fd8fd6f",
   "metadata": {},
   "source": [
    "### Model Fitting"
   ]
  },
  {
   "cell_type": "code",
   "execution_count": null,
   "id": "dbfd5c4ad998e5b9",
   "metadata": {
    "ExecuteTime": {
     "start_time": "2024-11-26T18:33:58.346193Z"
    }
   },
   "outputs": [],
   "source": [
    "svm_pipeline.fit(X_train, y_train)"
   ]
  },
  {
   "cell_type": "markdown",
   "id": "f689ab8d5dab8d1e",
   "metadata": {},
   "source": [
    "### Model Prediction"
   ]
  },
  {
   "cell_type": "code",
   "execution_count": null,
   "id": "4268676dc4682078",
   "metadata": {},
   "outputs": [],
   "source": [
    "# Prediction on Validation Set\n",
    "svm_y_val_pred = svm_pipeline.predict(X_val)\n",
    "\n",
    "# Prediction on Test Set\n",
    "svm_y_test_pred = svm_pipeline.predict(X_test)"
   ]
  },
  {
   "cell_type": "markdown",
   "id": "235b2c927da9a755",
   "metadata": {},
   "source": [
    "## Model Performance"
   ]
  },
  {
   "cell_type": "markdown",
   "id": "1390cb6e19c621a4",
   "metadata": {},
   "source": [
    "### Score on Validation Set"
   ]
  },
  {
   "cell_type": "code",
   "execution_count": null,
   "id": "ee558cc24956f3cb",
   "metadata": {},
   "outputs": [],
   "source": [
    "svm_val_acc_score = accuracy_score(y_val, svm_y_val_pred)\n",
    "svm_val_cr = classification_report(y_val, svm_y_val_pred)\n",
    "svm_val_cm = confusion_matrix(y_val, svm_y_val_pred)\n",
    "\n",
    "print(\"Validation Accuracy:\", svm_val_acc_score)\n",
    "print(\"Classification Report on Validation Set:\\n\", svm_val_cr)\n",
    "print(\"Confusion Matrix on Validation Set:\\n\", svm_val_cm)"
   ]
  },
  {
   "cell_type": "markdown",
   "id": "14d6a6f9fa593a34",
   "metadata": {},
   "source": [
    "### Score on Test Set"
   ]
  },
  {
   "cell_type": "code",
   "execution_count": null,
   "id": "3bc7d0e27a3a0a8f",
   "metadata": {},
   "outputs": [],
   "source": [
    "svm_test_acc_score = accuracy_score(y_test, svm_y_test_pred)\n",
    "svm_test_cr = classification_report(y_test, svm_y_test_pred, output_dict=True)\n",
    "svm_test_cm = confusion_matrix(y_test, svm_y_test_pred)\n",
    "\n",
    "print(\"Test Accuracy:\", accuracy_score(y_test, svm_y_test_pred))\n",
    "print(\"Classification Report on Test Set:\\n\", classification_report(y_test, svm_y_test_pred))\n",
    "print(\"Confusion Matrix on Test Set:\\n\", confusion_matrix(y_test, svm_y_test_pred))"
   ]
  },
  {
   "cell_type": "markdown",
   "id": "f5c2e501f8c7bac7",
   "metadata": {},
   "source": [
    "## Visualization"
   ]
  },
  {
   "cell_type": "markdown",
   "id": "5bd67a60db313acd",
   "metadata": {},
   "source": [
    "### Classification Report"
   ]
  },
  {
   "cell_type": "code",
   "execution_count": null,
   "id": "337e7625cef393d0",
   "metadata": {},
   "outputs": [],
   "source": [
    "report = svm_test_cr\n",
    "report_df = pd.DataFrame(report).transpose()\n",
    "\n",
    "plt.figure(figsize=(10, 6))\n",
    "sns.heatmap(report_df.iloc[:-1, :-1], annot=True, cmap='coolwarm')\n",
    "plt.title('Classification Report on Test Set')\n",
    "plt.ylabel('Metrics')\n",
    "plt.xlabel('Classes')\n",
    "plt.show()"
   ]
  },
  {
   "cell_type": "markdown",
   "id": "89b95f5fe8efeb07",
   "metadata": {},
   "source": [
    "### Confusion Matrix"
   ]
  },
  {
   "cell_type": "code",
   "execution_count": null,
   "id": "edf64d6b02bfbf60",
   "metadata": {},
   "outputs": [],
   "source": [
    "plt.figure(figsize=(8, 6))\n",
    "sns.heatmap(svm_test_cm, annot=True, fmt='d', cmap='Blues', xticklabels=np.unique(y_test), yticklabels=np.unique(y_test))\n",
    "plt.title('Confusion Matrix')\n",
    "plt.ylabel('True Label')\n",
    "plt.xlabel('Predicted Label')\n",
    "plt.show()"
   ]
  },
  {
   "cell_type": "markdown",
   "id": "99379da5d0658eb1",
   "metadata": {},
   "source": [
    "# Random Forest"
   ]
  },
  {
   "cell_type": "markdown",
   "id": "f1381914405f5d58",
   "metadata": {},
   "source": [
    "## Preliminaries"
   ]
  },
  {
   "cell_type": "markdown",
   "id": "6ed9bef0dc4edc0d",
   "metadata": {},
   "source": [
    "### Loading in The Dataset"
   ]
  },
  {
   "cell_type": "code",
   "execution_count": 2,
   "id": "138b64c96380251a",
   "metadata": {
    "ExecuteTime": {
     "end_time": "2024-11-27T02:55:09.323610Z",
     "start_time": "2024-11-27T02:55:06.900968Z"
    }
   },
   "outputs": [
    {
     "name": "stdout",
     "output_type": "stream",
     "text": [
      "<class 'pandas.core.frame.DataFrame'>\n",
      "RangeIndex: 28339596 entries, 0 to 28339595\n",
      "Data columns (total 23 columns):\n",
      " #   Column             Dtype   \n",
      "---  ------             -----   \n",
      " 0   Airline            category\n",
      " 1   Origin             category\n",
      " 2   Dest               category\n",
      " 3   CRSDepTime         int16   \n",
      " 4   DepTime            int16   \n",
      " 5   DepDel15           bool    \n",
      " 6   ArrTime            int16   \n",
      " 7   ArrDel15           bool    \n",
      " 8   AirTime            int16   \n",
      " 9   CRSElapsedTime     int16   \n",
      " 10  ActualElapsedTime  int16   \n",
      " 11  Distance           int16   \n",
      " 12  Year               category\n",
      " 13  Quarter            category\n",
      " 14  Month              category\n",
      " 15  DayofMonth         category\n",
      " 16  DayOfWeek          category\n",
      " 17  DepTimeBlk         category\n",
      " 18  ArrTimeBlk         category\n",
      " 19  TaxiOut            int16   \n",
      " 20  TaxiIn             int16   \n",
      " 21  CRSDepTimeMin      int16   \n",
      " 22  DepTimeMin         int16   \n",
      "dtypes: bool(2), category(10), int16(11)\n",
      "memory usage: 973.0 MB\n"
     ]
    }
   ],
   "source": [
    "df = pd.read_parquet('dataset/model_ready_data_airlines.parquet')\n",
    "df.info()"
   ]
  },
  {
   "cell_type": "markdown",
   "id": "3fd13d2828b073a4",
   "metadata": {},
   "source": [
    "## Data Preprocessing"
   ]
  },
  {
   "cell_type": "markdown",
   "id": "24201a1af38856af",
   "metadata": {},
   "source": [
    "### Handling Categoricals\n",
    "We will use **Frequency Encoding** which maps the values based on their occurences. Using something like label encoding won't be feasible for us as our categorical data is nominal."
   ]
  },
  {
   "cell_type": "code",
   "execution_count": 3,
   "id": "53c287e438367edf",
   "metadata": {
    "ExecuteTime": {
     "end_time": "2024-11-27T02:55:11.492975Z",
     "start_time": "2024-11-27T02:55:09.542011Z"
    }
   },
   "outputs": [
    {
     "data": {
      "text/html": [
       "<div>\n",
       "<style scoped>\n",
       "    .dataframe tbody tr th:only-of-type {\n",
       "        vertical-align: middle;\n",
       "    }\n",
       "\n",
       "    .dataframe tbody tr th {\n",
       "        vertical-align: top;\n",
       "    }\n",
       "\n",
       "    .dataframe thead th {\n",
       "        text-align: right;\n",
       "    }\n",
       "</style>\n",
       "<table border=\"1\" class=\"dataframe\">\n",
       "  <thead>\n",
       "    <tr style=\"text-align: right;\">\n",
       "      <th></th>\n",
       "      <th>Airline</th>\n",
       "      <th>Origin</th>\n",
       "      <th>Dest</th>\n",
       "      <th>CRSDepTime</th>\n",
       "      <th>DepTime</th>\n",
       "      <th>DepDel15</th>\n",
       "      <th>ArrTime</th>\n",
       "      <th>ArrDel15</th>\n",
       "      <th>AirTime</th>\n",
       "      <th>CRSElapsedTime</th>\n",
       "      <th>ActualElapsedTime</th>\n",
       "      <th>Distance</th>\n",
       "      <th>Year</th>\n",
       "      <th>Quarter</th>\n",
       "      <th>Month</th>\n",
       "      <th>DayofMonth</th>\n",
       "      <th>DayOfWeek</th>\n",
       "      <th>DepTimeBlk</th>\n",
       "      <th>ArrTimeBlk</th>\n",
       "      <th>TaxiOut</th>\n",
       "      <th>TaxiIn</th>\n",
       "      <th>CRSDepTimeMin</th>\n",
       "      <th>DepTimeMin</th>\n",
       "    </tr>\n",
       "  </thead>\n",
       "  <tbody>\n",
       "    <tr>\n",
       "      <th>0</th>\n",
       "      <td>974640</td>\n",
       "      <td>3832</td>\n",
       "      <td>1347297</td>\n",
       "      <td>1202</td>\n",
       "      <td>1157</td>\n",
       "      <td>False</td>\n",
       "      <td>1256</td>\n",
       "      <td>False</td>\n",
       "      <td>38</td>\n",
       "      <td>62</td>\n",
       "      <td>59</td>\n",
       "      <td>145</td>\n",
       "      <td>5578617</td>\n",
       "      <td>7510343</td>\n",
       "      <td>2612385</td>\n",
       "      <td>935588</td>\n",
       "      <td>3938876</td>\n",
       "      <td>1762065</td>\n",
       "      <td>1731082</td>\n",
       "      <td>14</td>\n",
       "      <td>7</td>\n",
       "      <td>722</td>\n",
       "      <td>717</td>\n",
       "    </tr>\n",
       "    <tr>\n",
       "      <th>1</th>\n",
       "      <td>974640</td>\n",
       "      <td>3832</td>\n",
       "      <td>1347297</td>\n",
       "      <td>1202</td>\n",
       "      <td>1157</td>\n",
       "      <td>False</td>\n",
       "      <td>1258</td>\n",
       "      <td>False</td>\n",
       "      <td>36</td>\n",
       "      <td>62</td>\n",
       "      <td>61</td>\n",
       "      <td>145</td>\n",
       "      <td>5578617</td>\n",
       "      <td>7510343</td>\n",
       "      <td>2612385</td>\n",
       "      <td>936001</td>\n",
       "      <td>4004742</td>\n",
       "      <td>1762065</td>\n",
       "      <td>1731082</td>\n",
       "      <td>13</td>\n",
       "      <td>12</td>\n",
       "      <td>722</td>\n",
       "      <td>717</td>\n",
       "    </tr>\n",
       "    <tr>\n",
       "      <th>2</th>\n",
       "      <td>974640</td>\n",
       "      <td>3832</td>\n",
       "      <td>1347297</td>\n",
       "      <td>1202</td>\n",
       "      <td>1153</td>\n",
       "      <td>False</td>\n",
       "      <td>1302</td>\n",
       "      <td>False</td>\n",
       "      <td>40</td>\n",
       "      <td>62</td>\n",
       "      <td>69</td>\n",
       "      <td>145</td>\n",
       "      <td>5578617</td>\n",
       "      <td>7510343</td>\n",
       "      <td>2612385</td>\n",
       "      <td>919963</td>\n",
       "      <td>4196961</td>\n",
       "      <td>1762065</td>\n",
       "      <td>1731082</td>\n",
       "      <td>18</td>\n",
       "      <td>11</td>\n",
       "      <td>722</td>\n",
       "      <td>713</td>\n",
       "    </tr>\n",
       "    <tr>\n",
       "      <th>3</th>\n",
       "      <td>974640</td>\n",
       "      <td>3832</td>\n",
       "      <td>1347297</td>\n",
       "      <td>1202</td>\n",
       "      <td>1150</td>\n",
       "      <td>False</td>\n",
       "      <td>1253</td>\n",
       "      <td>False</td>\n",
       "      <td>35</td>\n",
       "      <td>62</td>\n",
       "      <td>63</td>\n",
       "      <td>145</td>\n",
       "      <td>5578617</td>\n",
       "      <td>7510343</td>\n",
       "      <td>2612385</td>\n",
       "      <td>926470</td>\n",
       "      <td>4228403</td>\n",
       "      <td>1762065</td>\n",
       "      <td>1731082</td>\n",
       "      <td>17</td>\n",
       "      <td>11</td>\n",
       "      <td>722</td>\n",
       "      <td>710</td>\n",
       "    </tr>\n",
       "    <tr>\n",
       "      <th>4</th>\n",
       "      <td>974640</td>\n",
       "      <td>3832</td>\n",
       "      <td>1347297</td>\n",
       "      <td>1400</td>\n",
       "      <td>1355</td>\n",
       "      <td>False</td>\n",
       "      <td>1459</td>\n",
       "      <td>False</td>\n",
       "      <td>36</td>\n",
       "      <td>60</td>\n",
       "      <td>64</td>\n",
       "      <td>145</td>\n",
       "      <td>5578617</td>\n",
       "      <td>7510343</td>\n",
       "      <td>2612385</td>\n",
       "      <td>932286</td>\n",
       "      <td>3618711</td>\n",
       "      <td>1731826</td>\n",
       "      <td>1662965</td>\n",
       "      <td>17</td>\n",
       "      <td>11</td>\n",
       "      <td>840</td>\n",
       "      <td>835</td>\n",
       "    </tr>\n",
       "  </tbody>\n",
       "</table>\n",
       "</div>"
      ],
      "text/plain": [
       "  Airline  Origin     Dest  CRSDepTime  DepTime  DepDel15  ArrTime  ArrDel15  \\\n",
       "0  974640    3832  1347297        1202     1157     False     1256     False   \n",
       "1  974640    3832  1347297        1202     1157     False     1258     False   \n",
       "2  974640    3832  1347297        1202     1153     False     1302     False   \n",
       "3  974640    3832  1347297        1202     1150     False     1253     False   \n",
       "4  974640    3832  1347297        1400     1355     False     1459     False   \n",
       "\n",
       "   AirTime  CRSElapsedTime  ActualElapsedTime  Distance     Year  Quarter  \\\n",
       "0       38              62                 59       145  5578617  7510343   \n",
       "1       36              62                 61       145  5578617  7510343   \n",
       "2       40              62                 69       145  5578617  7510343   \n",
       "3       35              62                 63       145  5578617  7510343   \n",
       "4       36              60                 64       145  5578617  7510343   \n",
       "\n",
       "     Month DayofMonth DayOfWeek DepTimeBlk ArrTimeBlk  TaxiOut  TaxiIn  \\\n",
       "0  2612385     935588   3938876    1762065    1731082       14       7   \n",
       "1  2612385     936001   4004742    1762065    1731082       13      12   \n",
       "2  2612385     919963   4196961    1762065    1731082       18      11   \n",
       "3  2612385     926470   4228403    1762065    1731082       17      11   \n",
       "4  2612385     932286   3618711    1731826    1662965       17      11   \n",
       "\n",
       "   CRSDepTimeMin  DepTimeMin  \n",
       "0            722         717  \n",
       "1            722         717  \n",
       "2            722         713  \n",
       "3            722         710  \n",
       "4            840         835  "
      ]
     },
     "execution_count": 3,
     "metadata": {},
     "output_type": "execute_result"
    }
   ],
   "source": [
    "categorical_columns = df.select_dtypes('category').columns.tolist()\n",
    "\n",
    "for col in categorical_columns:\n",
    "    df[col] = df[col].map(df[col].value_counts())\n",
    "\n",
    "df.head()"
   ]
  },
  {
   "cell_type": "markdown",
   "id": "e8a28ac44651ab01",
   "metadata": {},
   "source": [
    "### Training Test Split\n",
    "Since, we have a lot of data (~28M rows), We will split Training and Testing into 80|20 and then split Training into 80|20 for validation."
   ]
  },
  {
   "cell_type": "code",
   "execution_count": 4,
   "id": "da52ad38c5ffb25c",
   "metadata": {
    "ExecuteTime": {
     "end_time": "2024-11-27T02:55:41.272338Z",
     "start_time": "2024-11-27T02:55:11.586642Z"
    }
   },
   "outputs": [
    {
     "name": "stdout",
     "output_type": "stream",
     "text": [
      "Training/Test split  (22671676, 22) (22671676,) (5667920, 22) (5667920,)\n",
      "Training/Validation split  (18137340, 22) (18137340,) (4534336, 22) (4534336,)\n"
     ]
    }
   ],
   "source": [
    "X = df.drop('DepDel15', axis=1)\n",
    "y = df['DepDel15']\n",
    "\n",
    "# We will stratify y to cater the imbalance\n",
    "# Training/Test split\n",
    "X_train, X_test, y_train, y_test = train_test_split(X, y, test_size=0.2, random_state=42, stratify=y)\n",
    "print(\"Training/Test split \", X_train.shape, y_train.shape, X_test.shape, y_test.shape)\n",
    "\n",
    "# Training/Validation split\n",
    "X_train, X_val, y_train, y_val = train_test_split(X_train, y_train, test_size=0.2, random_state=42, stratify=y_train)\n",
    "print(\"Training/Validation split \", X_train.shape, y_train.shape, X_val.shape, y_val.shape)"
   ]
  },
  {
   "cell_type": "markdown",
   "id": "9e7e10a08bdd79e",
   "metadata": {},
   "source": [
    "## Modeling"
   ]
  },
  {
   "cell_type": "markdown",
   "id": "b091de0366078a73",
   "metadata": {},
   "source": [
    "### Model Fitting"
   ]
  },
  {
   "cell_type": "code",
   "execution_count": 5,
   "id": "6c842d28bbe4858a",
   "metadata": {
    "ExecuteTime": {
     "end_time": "2024-11-27T03:45:00.593793Z",
     "start_time": "2024-11-27T02:55:41.342735Z"
    }
   },
   "outputs": [
    {
     "name": "stderr",
     "output_type": "stream",
     "text": [
      "[Parallel(n_jobs=1)]: Done  49 tasks      | elapsed: 48.3min\n"
     ]
    },
    {
     "data": {
      "text/html": [
       "<style>#sk-container-id-1 {\n",
       "  /* Definition of color scheme common for light and dark mode */\n",
       "  --sklearn-color-text: black;\n",
       "  --sklearn-color-line: gray;\n",
       "  /* Definition of color scheme for unfitted estimators */\n",
       "  --sklearn-color-unfitted-level-0: #fff5e6;\n",
       "  --sklearn-color-unfitted-level-1: #f6e4d2;\n",
       "  --sklearn-color-unfitted-level-2: #ffe0b3;\n",
       "  --sklearn-color-unfitted-level-3: chocolate;\n",
       "  /* Definition of color scheme for fitted estimators */\n",
       "  --sklearn-color-fitted-level-0: #f0f8ff;\n",
       "  --sklearn-color-fitted-level-1: #d4ebff;\n",
       "  --sklearn-color-fitted-level-2: #b3dbfd;\n",
       "  --sklearn-color-fitted-level-3: cornflowerblue;\n",
       "\n",
       "  /* Specific color for light theme */\n",
       "  --sklearn-color-text-on-default-background: var(--sg-text-color, var(--theme-code-foreground, var(--jp-content-font-color1, black)));\n",
       "  --sklearn-color-background: var(--sg-background-color, var(--theme-background, var(--jp-layout-color0, white)));\n",
       "  --sklearn-color-border-box: var(--sg-text-color, var(--theme-code-foreground, var(--jp-content-font-color1, black)));\n",
       "  --sklearn-color-icon: #696969;\n",
       "\n",
       "  @media (prefers-color-scheme: dark) {\n",
       "    /* Redefinition of color scheme for dark theme */\n",
       "    --sklearn-color-text-on-default-background: var(--sg-text-color, var(--theme-code-foreground, var(--jp-content-font-color1, white)));\n",
       "    --sklearn-color-background: var(--sg-background-color, var(--theme-background, var(--jp-layout-color0, #111)));\n",
       "    --sklearn-color-border-box: var(--sg-text-color, var(--theme-code-foreground, var(--jp-content-font-color1, white)));\n",
       "    --sklearn-color-icon: #878787;\n",
       "  }\n",
       "}\n",
       "\n",
       "#sk-container-id-1 {\n",
       "  color: var(--sklearn-color-text);\n",
       "}\n",
       "\n",
       "#sk-container-id-1 pre {\n",
       "  padding: 0;\n",
       "}\n",
       "\n",
       "#sk-container-id-1 input.sk-hidden--visually {\n",
       "  border: 0;\n",
       "  clip: rect(1px 1px 1px 1px);\n",
       "  clip: rect(1px, 1px, 1px, 1px);\n",
       "  height: 1px;\n",
       "  margin: -1px;\n",
       "  overflow: hidden;\n",
       "  padding: 0;\n",
       "  position: absolute;\n",
       "  width: 1px;\n",
       "}\n",
       "\n",
       "#sk-container-id-1 div.sk-dashed-wrapped {\n",
       "  border: 1px dashed var(--sklearn-color-line);\n",
       "  margin: 0 0.4em 0.5em 0.4em;\n",
       "  box-sizing: border-box;\n",
       "  padding-bottom: 0.4em;\n",
       "  background-color: var(--sklearn-color-background);\n",
       "}\n",
       "\n",
       "#sk-container-id-1 div.sk-container {\n",
       "  /* jupyter's `normalize.less` sets `[hidden] { display: none; }`\n",
       "     but bootstrap.min.css set `[hidden] { display: none !important; }`\n",
       "     so we also need the `!important` here to be able to override the\n",
       "     default hidden behavior on the sphinx rendered scikit-learn.org.\n",
       "     See: https://github.com/scikit-learn/scikit-learn/issues/21755 */\n",
       "  display: inline-block !important;\n",
       "  position: relative;\n",
       "}\n",
       "\n",
       "#sk-container-id-1 div.sk-text-repr-fallback {\n",
       "  display: none;\n",
       "}\n",
       "\n",
       "div.sk-parallel-item,\n",
       "div.sk-serial,\n",
       "div.sk-item {\n",
       "  /* draw centered vertical line to link estimators */\n",
       "  background-image: linear-gradient(var(--sklearn-color-text-on-default-background), var(--sklearn-color-text-on-default-background));\n",
       "  background-size: 2px 100%;\n",
       "  background-repeat: no-repeat;\n",
       "  background-position: center center;\n",
       "}\n",
       "\n",
       "/* Parallel-specific style estimator block */\n",
       "\n",
       "#sk-container-id-1 div.sk-parallel-item::after {\n",
       "  content: \"\";\n",
       "  width: 100%;\n",
       "  border-bottom: 2px solid var(--sklearn-color-text-on-default-background);\n",
       "  flex-grow: 1;\n",
       "}\n",
       "\n",
       "#sk-container-id-1 div.sk-parallel {\n",
       "  display: flex;\n",
       "  align-items: stretch;\n",
       "  justify-content: center;\n",
       "  background-color: var(--sklearn-color-background);\n",
       "  position: relative;\n",
       "}\n",
       "\n",
       "#sk-container-id-1 div.sk-parallel-item {\n",
       "  display: flex;\n",
       "  flex-direction: column;\n",
       "}\n",
       "\n",
       "#sk-container-id-1 div.sk-parallel-item:first-child::after {\n",
       "  align-self: flex-end;\n",
       "  width: 50%;\n",
       "}\n",
       "\n",
       "#sk-container-id-1 div.sk-parallel-item:last-child::after {\n",
       "  align-self: flex-start;\n",
       "  width: 50%;\n",
       "}\n",
       "\n",
       "#sk-container-id-1 div.sk-parallel-item:only-child::after {\n",
       "  width: 0;\n",
       "}\n",
       "\n",
       "/* Serial-specific style estimator block */\n",
       "\n",
       "#sk-container-id-1 div.sk-serial {\n",
       "  display: flex;\n",
       "  flex-direction: column;\n",
       "  align-items: center;\n",
       "  background-color: var(--sklearn-color-background);\n",
       "  padding-right: 1em;\n",
       "  padding-left: 1em;\n",
       "}\n",
       "\n",
       "\n",
       "/* Toggleable style: style used for estimator/Pipeline/ColumnTransformer box that is\n",
       "clickable and can be expanded/collapsed.\n",
       "- Pipeline and ColumnTransformer use this feature and define the default style\n",
       "- Estimators will overwrite some part of the style using the `sk-estimator` class\n",
       "*/\n",
       "\n",
       "/* Pipeline and ColumnTransformer style (default) */\n",
       "\n",
       "#sk-container-id-1 div.sk-toggleable {\n",
       "  /* Default theme specific background. It is overwritten whether we have a\n",
       "  specific estimator or a Pipeline/ColumnTransformer */\n",
       "  background-color: var(--sklearn-color-background);\n",
       "}\n",
       "\n",
       "/* Toggleable label */\n",
       "#sk-container-id-1 label.sk-toggleable__label {\n",
       "  cursor: pointer;\n",
       "  display: block;\n",
       "  width: 100%;\n",
       "  margin-bottom: 0;\n",
       "  padding: 0.5em;\n",
       "  box-sizing: border-box;\n",
       "  text-align: center;\n",
       "}\n",
       "\n",
       "#sk-container-id-1 label.sk-toggleable__label-arrow:before {\n",
       "  /* Arrow on the left of the label */\n",
       "  content: \"▸\";\n",
       "  float: left;\n",
       "  margin-right: 0.25em;\n",
       "  color: var(--sklearn-color-icon);\n",
       "}\n",
       "\n",
       "#sk-container-id-1 label.sk-toggleable__label-arrow:hover:before {\n",
       "  color: var(--sklearn-color-text);\n",
       "}\n",
       "\n",
       "/* Toggleable content - dropdown */\n",
       "\n",
       "#sk-container-id-1 div.sk-toggleable__content {\n",
       "  max-height: 0;\n",
       "  max-width: 0;\n",
       "  overflow: hidden;\n",
       "  text-align: left;\n",
       "  /* unfitted */\n",
       "  background-color: var(--sklearn-color-unfitted-level-0);\n",
       "}\n",
       "\n",
       "#sk-container-id-1 div.sk-toggleable__content.fitted {\n",
       "  /* fitted */\n",
       "  background-color: var(--sklearn-color-fitted-level-0);\n",
       "}\n",
       "\n",
       "#sk-container-id-1 div.sk-toggleable__content pre {\n",
       "  margin: 0.2em;\n",
       "  border-radius: 0.25em;\n",
       "  color: var(--sklearn-color-text);\n",
       "  /* unfitted */\n",
       "  background-color: var(--sklearn-color-unfitted-level-0);\n",
       "}\n",
       "\n",
       "#sk-container-id-1 div.sk-toggleable__content.fitted pre {\n",
       "  /* unfitted */\n",
       "  background-color: var(--sklearn-color-fitted-level-0);\n",
       "}\n",
       "\n",
       "#sk-container-id-1 input.sk-toggleable__control:checked~div.sk-toggleable__content {\n",
       "  /* Expand drop-down */\n",
       "  max-height: 200px;\n",
       "  max-width: 100%;\n",
       "  overflow: auto;\n",
       "}\n",
       "\n",
       "#sk-container-id-1 input.sk-toggleable__control:checked~label.sk-toggleable__label-arrow:before {\n",
       "  content: \"▾\";\n",
       "}\n",
       "\n",
       "/* Pipeline/ColumnTransformer-specific style */\n",
       "\n",
       "#sk-container-id-1 div.sk-label input.sk-toggleable__control:checked~label.sk-toggleable__label {\n",
       "  color: var(--sklearn-color-text);\n",
       "  background-color: var(--sklearn-color-unfitted-level-2);\n",
       "}\n",
       "\n",
       "#sk-container-id-1 div.sk-label.fitted input.sk-toggleable__control:checked~label.sk-toggleable__label {\n",
       "  background-color: var(--sklearn-color-fitted-level-2);\n",
       "}\n",
       "\n",
       "/* Estimator-specific style */\n",
       "\n",
       "/* Colorize estimator box */\n",
       "#sk-container-id-1 div.sk-estimator input.sk-toggleable__control:checked~label.sk-toggleable__label {\n",
       "  /* unfitted */\n",
       "  background-color: var(--sklearn-color-unfitted-level-2);\n",
       "}\n",
       "\n",
       "#sk-container-id-1 div.sk-estimator.fitted input.sk-toggleable__control:checked~label.sk-toggleable__label {\n",
       "  /* fitted */\n",
       "  background-color: var(--sklearn-color-fitted-level-2);\n",
       "}\n",
       "\n",
       "#sk-container-id-1 div.sk-label label.sk-toggleable__label,\n",
       "#sk-container-id-1 div.sk-label label {\n",
       "  /* The background is the default theme color */\n",
       "  color: var(--sklearn-color-text-on-default-background);\n",
       "}\n",
       "\n",
       "/* On hover, darken the color of the background */\n",
       "#sk-container-id-1 div.sk-label:hover label.sk-toggleable__label {\n",
       "  color: var(--sklearn-color-text);\n",
       "  background-color: var(--sklearn-color-unfitted-level-2);\n",
       "}\n",
       "\n",
       "/* Label box, darken color on hover, fitted */\n",
       "#sk-container-id-1 div.sk-label.fitted:hover label.sk-toggleable__label.fitted {\n",
       "  color: var(--sklearn-color-text);\n",
       "  background-color: var(--sklearn-color-fitted-level-2);\n",
       "}\n",
       "\n",
       "/* Estimator label */\n",
       "\n",
       "#sk-container-id-1 div.sk-label label {\n",
       "  font-family: monospace;\n",
       "  font-weight: bold;\n",
       "  display: inline-block;\n",
       "  line-height: 1.2em;\n",
       "}\n",
       "\n",
       "#sk-container-id-1 div.sk-label-container {\n",
       "  text-align: center;\n",
       "}\n",
       "\n",
       "/* Estimator-specific */\n",
       "#sk-container-id-1 div.sk-estimator {\n",
       "  font-family: monospace;\n",
       "  border: 1px dotted var(--sklearn-color-border-box);\n",
       "  border-radius: 0.25em;\n",
       "  box-sizing: border-box;\n",
       "  margin-bottom: 0.5em;\n",
       "  /* unfitted */\n",
       "  background-color: var(--sklearn-color-unfitted-level-0);\n",
       "}\n",
       "\n",
       "#sk-container-id-1 div.sk-estimator.fitted {\n",
       "  /* fitted */\n",
       "  background-color: var(--sklearn-color-fitted-level-0);\n",
       "}\n",
       "\n",
       "/* on hover */\n",
       "#sk-container-id-1 div.sk-estimator:hover {\n",
       "  /* unfitted */\n",
       "  background-color: var(--sklearn-color-unfitted-level-2);\n",
       "}\n",
       "\n",
       "#sk-container-id-1 div.sk-estimator.fitted:hover {\n",
       "  /* fitted */\n",
       "  background-color: var(--sklearn-color-fitted-level-2);\n",
       "}\n",
       "\n",
       "/* Specification for estimator info (e.g. \"i\" and \"?\") */\n",
       "\n",
       "/* Common style for \"i\" and \"?\" */\n",
       "\n",
       ".sk-estimator-doc-link,\n",
       "a:link.sk-estimator-doc-link,\n",
       "a:visited.sk-estimator-doc-link {\n",
       "  float: right;\n",
       "  font-size: smaller;\n",
       "  line-height: 1em;\n",
       "  font-family: monospace;\n",
       "  background-color: var(--sklearn-color-background);\n",
       "  border-radius: 1em;\n",
       "  height: 1em;\n",
       "  width: 1em;\n",
       "  text-decoration: none !important;\n",
       "  margin-left: 1ex;\n",
       "  /* unfitted */\n",
       "  border: var(--sklearn-color-unfitted-level-1) 1pt solid;\n",
       "  color: var(--sklearn-color-unfitted-level-1);\n",
       "}\n",
       "\n",
       ".sk-estimator-doc-link.fitted,\n",
       "a:link.sk-estimator-doc-link.fitted,\n",
       "a:visited.sk-estimator-doc-link.fitted {\n",
       "  /* fitted */\n",
       "  border: var(--sklearn-color-fitted-level-1) 1pt solid;\n",
       "  color: var(--sklearn-color-fitted-level-1);\n",
       "}\n",
       "\n",
       "/* On hover */\n",
       "div.sk-estimator:hover .sk-estimator-doc-link:hover,\n",
       ".sk-estimator-doc-link:hover,\n",
       "div.sk-label-container:hover .sk-estimator-doc-link:hover,\n",
       ".sk-estimator-doc-link:hover {\n",
       "  /* unfitted */\n",
       "  background-color: var(--sklearn-color-unfitted-level-3);\n",
       "  color: var(--sklearn-color-background);\n",
       "  text-decoration: none;\n",
       "}\n",
       "\n",
       "div.sk-estimator.fitted:hover .sk-estimator-doc-link.fitted:hover,\n",
       ".sk-estimator-doc-link.fitted:hover,\n",
       "div.sk-label-container:hover .sk-estimator-doc-link.fitted:hover,\n",
       ".sk-estimator-doc-link.fitted:hover {\n",
       "  /* fitted */\n",
       "  background-color: var(--sklearn-color-fitted-level-3);\n",
       "  color: var(--sklearn-color-background);\n",
       "  text-decoration: none;\n",
       "}\n",
       "\n",
       "/* Span, style for the box shown on hovering the info icon */\n",
       ".sk-estimator-doc-link span {\n",
       "  display: none;\n",
       "  z-index: 9999;\n",
       "  position: relative;\n",
       "  font-weight: normal;\n",
       "  right: .2ex;\n",
       "  padding: .5ex;\n",
       "  margin: .5ex;\n",
       "  width: min-content;\n",
       "  min-width: 20ex;\n",
       "  max-width: 50ex;\n",
       "  color: var(--sklearn-color-text);\n",
       "  box-shadow: 2pt 2pt 4pt #999;\n",
       "  /* unfitted */\n",
       "  background: var(--sklearn-color-unfitted-level-0);\n",
       "  border: .5pt solid var(--sklearn-color-unfitted-level-3);\n",
       "}\n",
       "\n",
       ".sk-estimator-doc-link.fitted span {\n",
       "  /* fitted */\n",
       "  background: var(--sklearn-color-fitted-level-0);\n",
       "  border: var(--sklearn-color-fitted-level-3);\n",
       "}\n",
       "\n",
       ".sk-estimator-doc-link:hover span {\n",
       "  display: block;\n",
       "}\n",
       "\n",
       "/* \"?\"-specific style due to the `<a>` HTML tag */\n",
       "\n",
       "#sk-container-id-1 a.estimator_doc_link {\n",
       "  float: right;\n",
       "  font-size: 1rem;\n",
       "  line-height: 1em;\n",
       "  font-family: monospace;\n",
       "  background-color: var(--sklearn-color-background);\n",
       "  border-radius: 1rem;\n",
       "  height: 1rem;\n",
       "  width: 1rem;\n",
       "  text-decoration: none;\n",
       "  /* unfitted */\n",
       "  color: var(--sklearn-color-unfitted-level-1);\n",
       "  border: var(--sklearn-color-unfitted-level-1) 1pt solid;\n",
       "}\n",
       "\n",
       "#sk-container-id-1 a.estimator_doc_link.fitted {\n",
       "  /* fitted */\n",
       "  border: var(--sklearn-color-fitted-level-1) 1pt solid;\n",
       "  color: var(--sklearn-color-fitted-level-1);\n",
       "}\n",
       "\n",
       "/* On hover */\n",
       "#sk-container-id-1 a.estimator_doc_link:hover {\n",
       "  /* unfitted */\n",
       "  background-color: var(--sklearn-color-unfitted-level-3);\n",
       "  color: var(--sklearn-color-background);\n",
       "  text-decoration: none;\n",
       "}\n",
       "\n",
       "#sk-container-id-1 a.estimator_doc_link.fitted:hover {\n",
       "  /* fitted */\n",
       "  background-color: var(--sklearn-color-fitted-level-3);\n",
       "}\n",
       "</style><div id=\"sk-container-id-1\" class=\"sk-top-container\"><div class=\"sk-text-repr-fallback\"><pre>RandomForestClassifier(class_weight=&#x27;balanced&#x27;, n_estimators=50,\n",
       "                       random_state=42, verbose=1)</pre><b>In a Jupyter environment, please rerun this cell to show the HTML representation or trust the notebook. <br />On GitHub, the HTML representation is unable to render, please try loading this page with nbviewer.org.</b></div><div class=\"sk-container\" hidden><div class=\"sk-item\"><div class=\"sk-estimator fitted sk-toggleable\"><input class=\"sk-toggleable__control sk-hidden--visually\" id=\"sk-estimator-id-1\" type=\"checkbox\" checked><label for=\"sk-estimator-id-1\" class=\"sk-toggleable__label fitted sk-toggleable__label-arrow fitted\">&nbsp;&nbsp;RandomForestClassifier<a class=\"sk-estimator-doc-link fitted\" rel=\"noreferrer\" target=\"_blank\" href=\"https://scikit-learn.org/1.5/modules/generated/sklearn.ensemble.RandomForestClassifier.html\">?<span>Documentation for RandomForestClassifier</span></a><span class=\"sk-estimator-doc-link fitted\">i<span>Fitted</span></span></label><div class=\"sk-toggleable__content fitted\"><pre>RandomForestClassifier(class_weight=&#x27;balanced&#x27;, n_estimators=50,\n",
       "                       random_state=42, verbose=1)</pre></div> </div></div></div></div>"
      ],
      "text/plain": [
       "RandomForestClassifier(class_weight='balanced', n_estimators=50,\n",
       "                       random_state=42, verbose=1)"
      ]
     },
     "execution_count": 5,
     "metadata": {},
     "output_type": "execute_result"
    }
   ],
   "source": [
    "rf_model = RandomForestClassifier(\n",
    "    n_estimators=50,\n",
    "    max_depth=None,\n",
    "    random_state=42,\n",
    "    class_weight='balanced', # Handle class imbalance\n",
    "    verbose=1\n",
    ")\n",
    "\n",
    "# Train the model on the training data\n",
    "rf_model.fit(X_train, y_train)"
   ]
  },
  {
   "cell_type": "markdown",
   "id": "3eab5651f7f6a5e8",
   "metadata": {},
   "source": [
    "### Model Prediction"
   ]
  },
  {
   "cell_type": "code",
   "execution_count": 7,
   "id": "36eb052fc679dfbf",
   "metadata": {
    "ExecuteTime": {
     "end_time": "2024-11-27T03:49:14.411257Z",
     "start_time": "2024-11-27T03:45:21.316474Z"
    }
   },
   "outputs": [
    {
     "name": "stderr",
     "output_type": "stream",
     "text": [
      "[Parallel(n_jobs=1)]: Done  49 tasks      | elapsed:  1.1min\n",
      "[Parallel(n_jobs=1)]: Done  49 tasks      | elapsed:  1.4min\n",
      "[Parallel(n_jobs=1)]: Done  49 tasks      | elapsed:  1.3min\n"
     ]
    }
   ],
   "source": [
    "# Make predictions on the validation set\n",
    "rf_y_val_pred = rf_model.predict(X_val)\n",
    "\n",
    "# Make predictions on the test set\n",
    "rf_y_test_pred = rf_model.predict(X_test)\n",
    "\n",
    "# Get probabilities for the positive class\n",
    "rf_y_test_proba = rf_model.predict_proba(X_test)[:, 1]  "
   ]
  },
  {
   "cell_type": "markdown",
   "id": "302fd17bc3cc9b59",
   "metadata": {},
   "source": [
    "## Model Performance"
   ]
  },
  {
   "cell_type": "markdown",
   "id": "c11a42d7b0adff86",
   "metadata": {},
   "source": [
    "### Score on Validation Set"
   ]
  },
  {
   "cell_type": "code",
   "execution_count": 8,
   "id": "10889d33e3203b96",
   "metadata": {
    "ExecuteTime": {
     "end_time": "2024-11-27T03:49:18.486637Z",
     "start_time": "2024-11-27T03:49:14.419267Z"
    }
   },
   "outputs": [
    {
     "name": "stdout",
     "output_type": "stream",
     "text": [
      "Validation Accuracy: 0.9952751626699036\n",
      "Classification Report on Validation Set:\n",
      "               precision    recall  f1-score   support\n",
      "\n",
      "       False       1.00      1.00      1.00   3753328\n",
      "        True       0.99      0.98      0.99    781008\n",
      "\n",
      "    accuracy                           1.00   4534336\n",
      "   macro avg       0.99      0.99      0.99   4534336\n",
      "weighted avg       1.00      1.00      1.00   4534336\n",
      "\n",
      "Confusion Matrix on Validation Set:\n",
      " [[3749111    4217]\n",
      " [  17207  763801]]\n"
     ]
    }
   ],
   "source": [
    "rf_val_acc_score = accuracy_score(y_val, rf_y_val_pred)\n",
    "rf_val_cr = classification_report(y_val, rf_y_val_pred)\n",
    "rf_val_cm = confusion_matrix(y_val, rf_y_val_pred)\n",
    "\n",
    "print(\"Validation Accuracy:\", rf_val_acc_score)\n",
    "print(\"Classification Report on Validation Set:\\n\", rf_val_cr)\n",
    "print(\"Confusion Matrix on Validation Set:\\n\", rf_val_cm)"
   ]
  },
  {
   "cell_type": "markdown",
   "id": "ae6a15cfc207b2eb",
   "metadata": {},
   "source": [
    "### Score on Test Set"
   ]
  },
  {
   "cell_type": "code",
   "execution_count": 9,
   "id": "51d0b6f39f92878c",
   "metadata": {
    "ExecuteTime": {
     "end_time": "2024-11-27T03:49:28.352098Z",
     "start_time": "2024-11-27T03:49:18.514229Z"
    }
   },
   "outputs": [
    {
     "name": "stdout",
     "output_type": "stream",
     "text": [
      "Test Accuracy: 0.9953040974466824\n",
      "Classification Report on Test Set:\n",
      "               precision    recall  f1-score   support\n",
      "\n",
      "       False       1.00      1.00      1.00   4691660\n",
      "        True       0.99      0.98      0.99    976260\n",
      "\n",
      "    accuracy                           1.00   5667920\n",
      "   macro avg       1.00      0.99      0.99   5667920\n",
      "weighted avg       1.00      1.00      1.00   5667920\n",
      "\n",
      "Confusion Matrix on Test Set:\n",
      " [[4686558    5102]\n",
      " [  21514  954746]]\n"
     ]
    }
   ],
   "source": [
    "rf_test_acc_score = accuracy_score(y_test, rf_y_test_pred)\n",
    "rf_test_cr = classification_report(y_test, rf_y_test_pred, output_dict=True)\n",
    "rf_test_cm = confusion_matrix(y_test, rf_y_test_pred)\n",
    "\n",
    "print(\"Test Accuracy:\", accuracy_score(y_test, rf_y_test_pred))\n",
    "print(\"Classification Report on Test Set:\\n\", classification_report(y_test, rf_y_test_pred))\n",
    "print(\"Confusion Matrix on Test Set:\\n\", confusion_matrix(y_test, rf_y_test_pred))"
   ]
  },
  {
   "cell_type": "markdown",
   "id": "b05913c441b1b417",
   "metadata": {},
   "source": [
    "### ROC-AUC"
   ]
  },
  {
   "cell_type": "code",
   "execution_count": 10,
   "id": "dd66d8050375ce87",
   "metadata": {
    "ExecuteTime": {
     "end_time": "2024-11-27T03:49:28.783695Z",
     "start_time": "2024-11-27T03:49:28.380985Z"
    }
   },
   "outputs": [
    {
     "name": "stdout",
     "output_type": "stream",
     "text": [
      "ROC-AUC:  0.999903375126671\n"
     ]
    }
   ],
   "source": [
    "fpr_rf, tpr_rf, _ = roc_curve(y_test, rf_y_test_proba)\n",
    "roc_auc_rf = auc(fpr_rf, tpr_rf)\n",
    "\n",
    "print(\"ROC-AUC: \", roc_auc_rf)"
   ]
  },
  {
   "cell_type": "markdown",
   "id": "2626d53ab3107e70",
   "metadata": {},
   "source": [
    "### Average Precision Score"
   ]
  },
  {
   "cell_type": "code",
   "execution_count": 13,
   "id": "8a0aa03dad39af89",
   "metadata": {
    "ExecuteTime": {
     "end_time": "2024-11-27T03:50:22.075016Z",
     "start_time": "2024-11-27T03:50:20.994859Z"
    }
   },
   "outputs": [
    {
     "name": "stdout",
     "output_type": "stream",
     "text": [
      "Area under Precision-Recall curve:  0.9994924411045601\n"
     ]
    }
   ],
   "source": [
    "precision_rf, recall_rf, _ = precision_recall_curve(y_test, rf_y_test_proba)\n",
    "average_precision_rf = average_precision_score(y_test, rf_y_test_proba)\n",
    "\n",
    "print(\"Area under Precision-Recall curve: \", average_precision_rf)"
   ]
  },
  {
   "cell_type": "markdown",
   "id": "31c01791058437ad",
   "metadata": {},
   "source": []
  },
  {
   "cell_type": "markdown",
   "id": "7c4d81ae489e8106",
   "metadata": {},
   "source": [
    "## Visualization"
   ]
  },
  {
   "cell_type": "markdown",
   "id": "9888e18e545efaed",
   "metadata": {},
   "source": [
    "### Feature Importance"
   ]
  },
  {
   "cell_type": "code",
   "execution_count": 14,
   "id": "f0104718dbf463d6",
   "metadata": {
    "ExecuteTime": {
     "end_time": "2024-11-27T03:50:26.776874Z",
     "start_time": "2024-11-27T03:50:26.154979Z"
    }
   },
   "outputs": [
    {
     "data": {
      "image/png": "[encoded data removed]",
      "text/plain": [
       "<Figure size 1000x600 with 1 Axes>"
      ]
     },
     "metadata": {},
     "output_type": "display_data"
    }
   ],
   "source": [
    "feature_importance = rf_model.feature_importances_\n",
    "feature_names = X_train.columns\n",
    "importance_df = pd.DataFrame({'Feature': feature_names, 'Importance': feature_importance})\n",
    "importance_df = importance_df.sort_values(by='Importance', ascending=False)\n",
    "\n",
    "# Plot Feature Importance\n",
    "plt.figure(figsize=(10, 6))\n",
    "sns.barplot(x='Importance', y='Feature', data=importance_df.head(10))\n",
    "plt.title('Top 10 Feature Importances')\n",
    "plt.tight_layout()\n",
    "plt.show()"
   ]
  },
  {
   "cell_type": "markdown",
   "id": "645e760854db0702",
   "metadata": {},
   "source": [
    "### Classification Report"
   ]
  },
  {
   "cell_type": "code",
   "execution_count": 15,
   "id": "740160eee9a83b43",
   "metadata": {
    "ExecuteTime": {
     "end_time": "2024-11-27T03:50:31.752303Z",
     "start_time": "2024-11-27T03:50:31.591209Z"
    }
   },
   "outputs": [
    {
     "data": {
      "image/png": "[encoded data removed]",
      "text/plain": [
       "<Figure size 1000x600 with 2 Axes>"
      ]
     },
     "metadata": {},
     "output_type": "display_data"
    }
   ],
   "source": [
    "report = rf_test_cr\n",
    "report_df = pd.DataFrame(report).transpose()\n",
    "\n",
    "plt.figure(figsize=(10, 6))\n",
    "sns.heatmap(report_df.iloc[:-1, :-1], annot=True, cmap='coolwarm')\n",
    "plt.title('Classification Report on Test Set')\n",
    "plt.ylabel('Metrics')\n",
    "plt.xlabel('Classes')\n",
    "plt.show()"
   ]
  },
  {
   "cell_type": "markdown",
   "id": "657c8898a9fd796b",
   "metadata": {},
   "source": [
    "### Confusion Matrix"
   ]
  },
  {
   "cell_type": "code",
   "execution_count": 16,
   "id": "1a11e90dced31c3d",
   "metadata": {
    "ExecuteTime": {
     "end_time": "2024-11-27T03:50:35.083480Z",
     "start_time": "2024-11-27T03:50:34.906897Z"
    }
   },
   "outputs": [
    {
     "data": {
      "image/png": "[encoded data removed]",
      "text/plain": [
       "<Figure size 800x600 with 2 Axes>"
      ]
     },
     "metadata": {},
     "output_type": "display_data"
    }
   ],
   "source": [
    "plt.figure(figsize=(8, 6))\n",
    "sns.heatmap(rf_test_cm, annot=True, fmt='d', cmap='Blues', xticklabels=np.unique(y_test), yticklabels=np.unique(y_test))\n",
    "plt.title('Confusion Matrix')\n",
    "plt.ylabel('True Label')\n",
    "plt.xlabel('Predicted Label')\n",
    "plt.show()"
   ]
  },
  {
   "cell_type": "markdown",
   "id": "b524e72e7d1b71f0",
   "metadata": {},
   "source": [
    "### ROC Curve"
   ]
  },
  {
   "cell_type": "code",
   "execution_count": 62,
   "id": "a05f6265d6d48d28",
   "metadata": {
    "ExecuteTime": {
     "end_time": "2024-11-27T04:38:03.998084Z",
     "start_time": "2024-11-27T04:38:03.903512Z"
    }
   },
   "outputs": [
    {
     "data": {
      "image/png": "[encoded data removed]",
      "text/plain": [
       "<Figure size 800x600 with 1 Axes>"
      ]
     },
     "metadata": {},
     "output_type": "display_data"
    }
   ],
   "source": [
    "plt.figure(figsize=(8, 6))\n",
    "plt.plot(fpr_rf, tpr_rf, label=f'Random Forest (AUC = {roc_auc_rf:.8f})', color='blue')\n",
    "plt.title('ROC Curve - Random Forest')\n",
    "plt.xlabel('False Positive Rate')\n",
    "plt.ylabel('True Positive Rate')\n",
    "plt.legend(loc='lower right')\n",
    "plt.grid()\n",
    "plt.show()"
   ]
  },
  {
   "cell_type": "markdown",
   "id": "41639ac8b3010f7f",
   "metadata": {},
   "source": [
    "### Precision-Recall Curve"
   ]
  },
  {
   "cell_type": "code",
   "execution_count": 92,
   "id": "18e4a468d9c3f135",
   "metadata": {
    "ExecuteTime": {
     "end_time": "2024-11-27T04:45:17.055561Z",
     "start_time": "2024-11-27T04:45:16.971750Z"
    }
   },
   "outputs": [
    {
     "data": {
      "image/png": "[encoded data removed]",
      "text/plain": [
       "<Figure size 800x600 with 1 Axes>"
      ]
     },
     "metadata": {},
     "output_type": "display_data"
    }
   ],
   "source": [
    "plt.figure(figsize=(8, 6))\n",
    "plt.plot(recall_rf, precision_rf, label=f'Random Forest (APR = {average_precision_rf:.8f})', color='blue')\n",
    "plt.title('Precision-Recall Curve - Random Forest')\n",
    "plt.xlabel('Recall')\n",
    "plt.ylabel('Precision')\n",
    "plt.legend(loc='lower left')\n",
    "plt.grid()\n",
    "plt.show()"
   ]
  },
  {
   "cell_type": "markdown",
   "id": "eca1676112d24054",
   "metadata": {},
   "source": [
    "# Model Comparision"
   ]
  },
  {
   "cell_type": "markdown",
   "id": "823c2be5ec2d5996",
   "metadata": {},
   "source": [
    "## Performance Comparision Table"
   ]
  },
  {
   "cell_type": "code",
   "execution_count": 101,
   "id": "85e7a0f90736fdf0",
   "metadata": {
    "ExecuteTime": {
     "end_time": "2024-11-27T04:59:02.003020Z",
     "start_time": "2024-11-27T04:59:01.890226Z"
    }
   },
   "outputs": [
    {
     "data": {
      "image/png": "[encoded data removed]",
      "text/plain": [
       "<Figure size 1000x600 with 1 Axes>"
      ]
     },
     "metadata": {},
     "output_type": "display_data"
    }
   ],
   "source": [
    "model_performance = {\n",
    "    'Model': ['Logistic Regression', 'CatBoost', 'Random Forest'],\n",
    "    'Accuracy': [lr_test_acc_score, cb_test_acc_score, rf_test_acc_score],\n",
    "    'Average Precision': [average_precision_lr, average_precision_cb, average_precision_rf],\n",
    "    'AUC-ROC': [roc_auc_lr, roc_auc_cb, roc_auc_rf],\n",
    "}\n",
    "\n",
    "df = pd.DataFrame(model_performance)\n",
    "df_melted = df.melt(id_vars='Model', var_name='Metric', value_name='Score')\n",
    "\n",
    "plt.figure(figsize=(10, 6))\n",
    "sns.barplot(x='Metric', y='Score', hue='Model', data=df_melted)\n",
    "plt.title('Model Performance Comparison')\n",
    "plt.ylabel('Score')\n",
    "plt.show()\n"
   ]
  },
  {
   "cell_type": "markdown",
   "id": "868793a94d45bbc9",
   "metadata": {},
   "source": [
    "## ROC Curve Comparision"
   ]
  },
  {
   "cell_type": "code",
   "execution_count": 96,
   "id": "19f728881015147b",
   "metadata": {
    "ExecuteTime": {
     "end_time": "2024-11-27T04:46:16.643700Z",
     "start_time": "2024-11-27T04:46:16.490811Z"
    }
   },
   "outputs": [
    {
     "data": {
      "image/png": "[encoded data removed]",
      "text/plain": [
       "<Figure size 640x480 with 1 Axes>"
      ]
     },
     "metadata": {},
     "output_type": "display_data"
    }
   ],
   "source": [
    "ROC_models = [[fpr_lr, tpr_lr, roc_auc_lr], [fpr_cb, tpr_cb, roc_auc_cb], [fpr_rf, tpr_rf, roc_auc_rf]]\n",
    "model_names = ['Logistic Regression', 'CatBoost', 'Random Forest']\n",
    "\n",
    "# ROC Curve Comparison\n",
    "for roc, name in zip(ROC_models, model_names):\n",
    "    plt.plot(roc[0], roc[1], label=f'{name} (AUC = {roc[2]:.8f})')\n",
    "\n",
    "plt.xlabel('False Positive Rate')\n",
    "plt.ylabel('True Positive Rate')\n",
    "plt.title('ROC Curve Comparison')\n",
    "plt.legend(loc='lower right')\n",
    "plt.show()"
   ]
  },
  {
   "cell_type": "markdown",
   "id": "82007bd7e87b81b9",
   "metadata": {},
   "source": [
    "## Precision-Recall Comparision"
   ]
  },
  {
   "cell_type": "code",
   "execution_count": 97,
   "id": "e6903b9cfdf91ea4",
   "metadata": {
    "ExecuteTime": {
     "end_time": "2024-11-27T04:46:27.749455Z",
     "start_time": "2024-11-27T04:46:27.174178Z"
    }
   },
   "outputs": [
    {
     "data": {
      "image/png": "[encoded data removed]",
      "text/plain": [
       "<Figure size 640x480 with 1 Axes>"
      ]
     },
     "metadata": {},
     "output_type": "display_data"
    }
   ],
   "source": [
    "PRC_models = [[recall_lr, precision_lr, average_precision_lr], [recall_cb, precision_cb, average_precision_cb], [recall_rf, precision_rf, average_precision_rf]]\n",
    "model_names = ['Logistic Regression', 'CatBoost', 'Random Forest']\n",
    "\n",
    "# PR Curve Comparison\n",
    "for prc, name in zip(PRC_models, model_names):\n",
    "    plt.plot(prc[0], prc[1], label=f'{name} (AP = {prc[2]:.8f})')\n",
    "\n",
    "plt.xlabel('Recall')\n",
    "plt.ylabel('Precision')\n",
    "plt.title('Precision-Recall Curve Comparison')\n",
    "plt.legend(loc='lower left')\n",
    "plt.show()"
   ]
  },
  {
   "cell_type": "markdown",
   "id": "95c87d4996999413",
   "metadata": {},
   "source": [
    "# Final Remarks\n",
    "From looking at the performances of all models together, we can clearly see that Random Forest Classifier has yielded the best results. Although, it is to be noted that Random Forest took the most time out of all to be trained (Approx. 1 hour). Since catboost leverages the power of the GPU, it completed complex computations in significantly less time (Approx. 1.5 min). Logistic Regression on the other hand, was the fastest to train (Approx. 1 min).\n",
    "\n",
    "We had to drop SVM from our pool of models, since it took too long to train (Approx. 4 hours and still not finished). After researching, we found that SVM are computationally very costly and are not suitable for large datasets. It performs Logistic regression on the SVM’s scores, to get the probabilities, resulting in higher computation. Since our dataset is approximately 28m rows long, SVM is not a suitable approach. SVM works well on data with small number of rows but many features.\n",
    "\n",
    "\n",
    "So the choice ultimately depends on the resources and desired accuracy."
   ]
  }
 ],
 "metadata": {
  "kernelspec": {
   "display_name": "Python 3",
   "language": "python",
   "name": "python3"
  },
  "language_info": {
   "codemirror_mode": {
    "name": "ipython",
    "version": 2
   },
   "file_extension": ".py",
   "mimetype": "text/x-python",
   "name": "python",
   "nbconvert_exporter": "python",
   "pygments_lexer": "ipython2",
   "version": "2.7.6"
  }
 },
 "nbformat": 4,
 "nbformat_minor": 5
}
